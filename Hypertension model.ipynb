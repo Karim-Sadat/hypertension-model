{
  "cells": [
    {
      "cell_type": "code",
      "execution_count": null,
      "metadata": {
        "colab": {
          "base_uri": "https://localhost:8080/"
        },
        "id": "23bd2816",
        "outputId": "fcfbf46c-8235-4717-a382-53a687864240"
      },
      "outputs": [
        {
          "output_type": "stream",
          "name": "stdout",
          "text": [
            "Requirement already satisfied: xgboost in /usr/local/lib/python3.12/dist-packages (3.0.4)\n",
            "Requirement already satisfied: numpy in /usr/local/lib/python3.12/dist-packages (from xgboost) (2.0.2)\n",
            "Requirement already satisfied: nvidia-nccl-cu12 in /usr/local/lib/python3.12/dist-packages (from xgboost) (2.27.3)\n",
            "Requirement already satisfied: scipy in /usr/local/lib/python3.12/dist-packages (from xgboost) (1.16.1)\n"
          ]
        }
      ],
      "source": [
        "!pip install xgboost"
      ]
    },
    {
      "cell_type": "code",
      "execution_count": null,
      "metadata": {
        "id": "yHj3wKWj8O5a"
      },
      "outputs": [],
      "source": [
        "import pandas as pd\n",
        "import numpy as np\n",
        "import matplotlib.pyplot as plt\n",
        "import seaborn as sns\n",
        "from sklearn.preprocessing import LabelEncoder , MinMaxScaler, StandardScaler\n",
        "from sklearn.model_selection import train_test_split\n",
        "from sklearn.linear_model import LogisticRegression , LinearRegression\n",
        "from sklearn.metrics import accuracy_score , r2_score , mean_squared_error , mean_absolute_error\n",
        "from sklearn.tree import DecisionTreeClassifier, plot_tree\n",
        "from sklearn.ensemble import RandomForestClassifier, RandomForestRegressor\n",
        "from sklearn.svm import SVC\n",
        "from sklearn.neighbors import KNeighborsClassifier\n",
        "from xgboost import XGBClassifier\n",
        "from sklearn.model_selection import GridSearchCV\n",
        "import math\n",
        "import plotly.graph_objects as go\n",
        "from plotly.subplots import make_subplots"
      ]
    },
    {
      "cell_type": "code",
      "execution_count": null,
      "metadata": {
        "id": "S7HtkHEE8ckW"
      },
      "outputs": [],
      "source": [
        "df = pd.read_csv('/content/hypertension_dataset.csv')\n"
      ]
    },
    {
      "cell_type": "code",
      "execution_count": null,
      "metadata": {
        "colab": {
          "base_uri": "https://localhost:8080/",
          "height": 206
        },
        "id": "1B335sdED9xK",
        "outputId": "cf28c315-a47f-47ef-982f-26d6d0b3e88c"
      },
      "outputs": [
        {
          "output_type": "execute_result",
          "data": {
            "text/plain": [
              "   Age  Salt_Intake  Stress_Score  BP_History  Sleep_Duration   BMI  \\\n",
              "0   69          8.0             9           1             6.4  25.8   \n",
              "1   32         11.7            10           1             5.4  23.4   \n",
              "2   78          9.5             3           1             7.1  18.7   \n",
              "3   38         10.0            10           0             4.2  22.1   \n",
              "4   41          9.8             1           2             5.8  16.2   \n",
              "\n",
              "   Family_History  Exercise_Level  Smoking_Status  Has_Hypertension  \n",
              "0               1               1               0                 1  \n",
              "1               0               1               0                 0  \n",
              "2               0               2               0                 0  \n",
              "3               0               1               0                 1  \n",
              "4               0               2               0                 0  "
            ],
            "text/html": [
              "\n",
              "  <div id=\"df-f4faa8c9-44af-4078-b25a-da25e06efa73\" class=\"colab-df-container\">\n",
              "    <div>\n",
              "<style scoped>\n",
              "    .dataframe tbody tr th:only-of-type {\n",
              "        vertical-align: middle;\n",
              "    }\n",
              "\n",
              "    .dataframe tbody tr th {\n",
              "        vertical-align: top;\n",
              "    }\n",
              "\n",
              "    .dataframe thead th {\n",
              "        text-align: right;\n",
              "    }\n",
              "</style>\n",
              "<table border=\"1\" class=\"dataframe\">\n",
              "  <thead>\n",
              "    <tr style=\"text-align: right;\">\n",
              "      <th></th>\n",
              "      <th>Age</th>\n",
              "      <th>Salt_Intake</th>\n",
              "      <th>Stress_Score</th>\n",
              "      <th>BP_History</th>\n",
              "      <th>Sleep_Duration</th>\n",
              "      <th>BMI</th>\n",
              "      <th>Family_History</th>\n",
              "      <th>Exercise_Level</th>\n",
              "      <th>Smoking_Status</th>\n",
              "      <th>Has_Hypertension</th>\n",
              "    </tr>\n",
              "  </thead>\n",
              "  <tbody>\n",
              "    <tr>\n",
              "      <th>0</th>\n",
              "      <td>69</td>\n",
              "      <td>8.0</td>\n",
              "      <td>9</td>\n",
              "      <td>1</td>\n",
              "      <td>6.4</td>\n",
              "      <td>25.8</td>\n",
              "      <td>1</td>\n",
              "      <td>1</td>\n",
              "      <td>0</td>\n",
              "      <td>1</td>\n",
              "    </tr>\n",
              "    <tr>\n",
              "      <th>1</th>\n",
              "      <td>32</td>\n",
              "      <td>11.7</td>\n",
              "      <td>10</td>\n",
              "      <td>1</td>\n",
              "      <td>5.4</td>\n",
              "      <td>23.4</td>\n",
              "      <td>0</td>\n",
              "      <td>1</td>\n",
              "      <td>0</td>\n",
              "      <td>0</td>\n",
              "    </tr>\n",
              "    <tr>\n",
              "      <th>2</th>\n",
              "      <td>78</td>\n",
              "      <td>9.5</td>\n",
              "      <td>3</td>\n",
              "      <td>1</td>\n",
              "      <td>7.1</td>\n",
              "      <td>18.7</td>\n",
              "      <td>0</td>\n",
              "      <td>2</td>\n",
              "      <td>0</td>\n",
              "      <td>0</td>\n",
              "    </tr>\n",
              "    <tr>\n",
              "      <th>3</th>\n",
              "      <td>38</td>\n",
              "      <td>10.0</td>\n",
              "      <td>10</td>\n",
              "      <td>0</td>\n",
              "      <td>4.2</td>\n",
              "      <td>22.1</td>\n",
              "      <td>0</td>\n",
              "      <td>1</td>\n",
              "      <td>0</td>\n",
              "      <td>1</td>\n",
              "    </tr>\n",
              "    <tr>\n",
              "      <th>4</th>\n",
              "      <td>41</td>\n",
              "      <td>9.8</td>\n",
              "      <td>1</td>\n",
              "      <td>2</td>\n",
              "      <td>5.8</td>\n",
              "      <td>16.2</td>\n",
              "      <td>0</td>\n",
              "      <td>2</td>\n",
              "      <td>0</td>\n",
              "      <td>0</td>\n",
              "    </tr>\n",
              "  </tbody>\n",
              "</table>\n",
              "</div>\n",
              "    <div class=\"colab-df-buttons\">\n",
              "\n",
              "  <div class=\"colab-df-container\">\n",
              "    <button class=\"colab-df-convert\" onclick=\"convertToInteractive('df-f4faa8c9-44af-4078-b25a-da25e06efa73')\"\n",
              "            title=\"Convert this dataframe to an interactive table.\"\n",
              "            style=\"display:none;\">\n",
              "\n",
              "  <svg xmlns=\"http://www.w3.org/2000/svg\" height=\"24px\" viewBox=\"0 -960 960 960\">\n",
              "    <path d=\"M120-120v-720h720v720H120Zm60-500h600v-160H180v160Zm220 220h160v-160H400v160Zm0 220h160v-160H400v160ZM180-400h160v-160H180v160Zm440 0h160v-160H620v160ZM180-180h160v-160H180v160Zm440 0h160v-160H620v160Z\"/>\n",
              "  </svg>\n",
              "    </button>\n",
              "\n",
              "  <style>\n",
              "    .colab-df-container {\n",
              "      display:flex;\n",
              "      gap: 12px;\n",
              "    }\n",
              "\n",
              "    .colab-df-convert {\n",
              "      background-color: #E8F0FE;\n",
              "      border: none;\n",
              "      border-radius: 50%;\n",
              "      cursor: pointer;\n",
              "      display: none;\n",
              "      fill: #1967D2;\n",
              "      height: 32px;\n",
              "      padding: 0 0 0 0;\n",
              "      width: 32px;\n",
              "    }\n",
              "\n",
              "    .colab-df-convert:hover {\n",
              "      background-color: #E2EBFA;\n",
              "      box-shadow: 0px 1px 2px rgba(60, 64, 67, 0.3), 0px 1px 3px 1px rgba(60, 64, 67, 0.15);\n",
              "      fill: #174EA6;\n",
              "    }\n",
              "\n",
              "    .colab-df-buttons div {\n",
              "      margin-bottom: 4px;\n",
              "    }\n",
              "\n",
              "    [theme=dark] .colab-df-convert {\n",
              "      background-color: #3B4455;\n",
              "      fill: #D2E3FC;\n",
              "    }\n",
              "\n",
              "    [theme=dark] .colab-df-convert:hover {\n",
              "      background-color: #434B5C;\n",
              "      box-shadow: 0px 1px 3px 1px rgba(0, 0, 0, 0.15);\n",
              "      filter: drop-shadow(0px 1px 2px rgba(0, 0, 0, 0.3));\n",
              "      fill: #FFFFFF;\n",
              "    }\n",
              "  </style>\n",
              "\n",
              "    <script>\n",
              "      const buttonEl =\n",
              "        document.querySelector('#df-f4faa8c9-44af-4078-b25a-da25e06efa73 button.colab-df-convert');\n",
              "      buttonEl.style.display =\n",
              "        google.colab.kernel.accessAllowed ? 'block' : 'none';\n",
              "\n",
              "      async function convertToInteractive(key) {\n",
              "        const element = document.querySelector('#df-f4faa8c9-44af-4078-b25a-da25e06efa73');\n",
              "        const dataTable =\n",
              "          await google.colab.kernel.invokeFunction('convertToInteractive',\n",
              "                                                    [key], {});\n",
              "        if (!dataTable) return;\n",
              "\n",
              "        const docLinkHtml = 'Like what you see? Visit the ' +\n",
              "          '<a target=\"_blank\" href=https://colab.research.google.com/notebooks/data_table.ipynb>data table notebook</a>'\n",
              "          + ' to learn more about interactive tables.';\n",
              "        element.innerHTML = '';\n",
              "        dataTable['output_type'] = 'display_data';\n",
              "        await google.colab.output.renderOutput(dataTable, element);\n",
              "        const docLink = document.createElement('div');\n",
              "        docLink.innerHTML = docLinkHtml;\n",
              "        element.appendChild(docLink);\n",
              "      }\n",
              "    </script>\n",
              "  </div>\n",
              "\n",
              "\n",
              "    <div id=\"df-412dd1c6-3327-479a-9aa1-c89a48773144\">\n",
              "      <button class=\"colab-df-quickchart\" onclick=\"quickchart('df-412dd1c6-3327-479a-9aa1-c89a48773144')\"\n",
              "                title=\"Suggest charts\"\n",
              "                style=\"display:none;\">\n",
              "\n",
              "<svg xmlns=\"http://www.w3.org/2000/svg\" height=\"24px\"viewBox=\"0 0 24 24\"\n",
              "     width=\"24px\">\n",
              "    <g>\n",
              "        <path d=\"M19 3H5c-1.1 0-2 .9-2 2v14c0 1.1.9 2 2 2h14c1.1 0 2-.9 2-2V5c0-1.1-.9-2-2-2zM9 17H7v-7h2v7zm4 0h-2V7h2v10zm4 0h-2v-4h2v4z\"/>\n",
              "    </g>\n",
              "</svg>\n",
              "      </button>\n",
              "\n",
              "<style>\n",
              "  .colab-df-quickchart {\n",
              "      --bg-color: #E8F0FE;\n",
              "      --fill-color: #1967D2;\n",
              "      --hover-bg-color: #E2EBFA;\n",
              "      --hover-fill-color: #174EA6;\n",
              "      --disabled-fill-color: #AAA;\n",
              "      --disabled-bg-color: #DDD;\n",
              "  }\n",
              "\n",
              "  [theme=dark] .colab-df-quickchart {\n",
              "      --bg-color: #3B4455;\n",
              "      --fill-color: #D2E3FC;\n",
              "      --hover-bg-color: #434B5C;\n",
              "      --hover-fill-color: #FFFFFF;\n",
              "      --disabled-bg-color: #3B4455;\n",
              "      --disabled-fill-color: #666;\n",
              "  }\n",
              "\n",
              "  .colab-df-quickchart {\n",
              "    background-color: var(--bg-color);\n",
              "    border: none;\n",
              "    border-radius: 50%;\n",
              "    cursor: pointer;\n",
              "    display: none;\n",
              "    fill: var(--fill-color);\n",
              "    height: 32px;\n",
              "    padding: 0;\n",
              "    width: 32px;\n",
              "  }\n",
              "\n",
              "  .colab-df-quickchart:hover {\n",
              "    background-color: var(--hover-bg-color);\n",
              "    box-shadow: 0 1px 2px rgba(60, 64, 67, 0.3), 0 1px 3px 1px rgba(60, 64, 67, 0.15);\n",
              "    fill: var(--button-hover-fill-color);\n",
              "  }\n",
              "\n",
              "  .colab-df-quickchart-complete:disabled,\n",
              "  .colab-df-quickchart-complete:disabled:hover {\n",
              "    background-color: var(--disabled-bg-color);\n",
              "    fill: var(--disabled-fill-color);\n",
              "    box-shadow: none;\n",
              "  }\n",
              "\n",
              "  .colab-df-spinner {\n",
              "    border: 2px solid var(--fill-color);\n",
              "    border-color: transparent;\n",
              "    border-bottom-color: var(--fill-color);\n",
              "    animation:\n",
              "      spin 1s steps(1) infinite;\n",
              "  }\n",
              "\n",
              "  @keyframes spin {\n",
              "    0% {\n",
              "      border-color: transparent;\n",
              "      border-bottom-color: var(--fill-color);\n",
              "      border-left-color: var(--fill-color);\n",
              "    }\n",
              "    20% {\n",
              "      border-color: transparent;\n",
              "      border-left-color: var(--fill-color);\n",
              "      border-top-color: var(--fill-color);\n",
              "    }\n",
              "    30% {\n",
              "      border-color: transparent;\n",
              "      border-left-color: var(--fill-color);\n",
              "      border-top-color: var(--fill-color);\n",
              "      border-right-color: var(--fill-color);\n",
              "    }\n",
              "    40% {\n",
              "      border-color: transparent;\n",
              "      border-right-color: var(--fill-color);\n",
              "      border-top-color: var(--fill-color);\n",
              "    }\n",
              "    60% {\n",
              "      border-color: transparent;\n",
              "      border-right-color: var(--fill-color);\n",
              "    }\n",
              "    80% {\n",
              "      border-color: transparent;\n",
              "      border-right-color: var(--fill-color);\n",
              "      border-bottom-color: var(--fill-color);\n",
              "    }\n",
              "    90% {\n",
              "      border-color: transparent;\n",
              "      border-bottom-color: var(--fill-color);\n",
              "    }\n",
              "  }\n",
              "</style>\n",
              "\n",
              "      <script>\n",
              "        async function quickchart(key) {\n",
              "          const quickchartButtonEl =\n",
              "            document.querySelector('#' + key + ' button');\n",
              "          quickchartButtonEl.disabled = true;  // To prevent multiple clicks.\n",
              "          quickchartButtonEl.classList.add('colab-df-spinner');\n",
              "          try {\n",
              "            const charts = await google.colab.kernel.invokeFunction(\n",
              "                'suggestCharts', [key], {});\n",
              "          } catch (error) {\n",
              "            console.error('Error during call to suggestCharts:', error);\n",
              "          }\n",
              "          quickchartButtonEl.classList.remove('colab-df-spinner');\n",
              "          quickchartButtonEl.classList.add('colab-df-quickchart-complete');\n",
              "        }\n",
              "        (() => {\n",
              "          let quickchartButtonEl =\n",
              "            document.querySelector('#df-412dd1c6-3327-479a-9aa1-c89a48773144 button');\n",
              "          quickchartButtonEl.style.display =\n",
              "            google.colab.kernel.accessAllowed ? 'block' : 'none';\n",
              "        })();\n",
              "      </script>\n",
              "    </div>\n",
              "\n",
              "    </div>\n",
              "  </div>\n"
            ],
            "application/vnd.google.colaboratory.intrinsic+json": {
              "type": "dataframe",
              "variable_name": "df",
              "summary": "{\n  \"name\": \"df\",\n  \"rows\": 1985,\n  \"fields\": [\n    {\n      \"column\": \"Age\",\n      \"properties\": {\n        \"dtype\": \"number\",\n        \"std\": 19,\n        \"min\": 18,\n        \"max\": 84,\n        \"num_unique_values\": 67,\n        \"samples\": [\n          51,\n          76,\n          41\n        ],\n        \"semantic_type\": \"\",\n        \"description\": \"\"\n      }\n    },\n    {\n      \"column\": \"Salt_Intake\",\n      \"properties\": {\n        \"dtype\": \"number\",\n        \"std\": 1.9949074335722863,\n        \"min\": 2.5,\n        \"max\": 16.4,\n        \"num_unique_values\": 121,\n        \"samples\": [\n          10.5,\n          11.5,\n          9.8\n        ],\n        \"semantic_type\": \"\",\n        \"description\": \"\"\n      }\n    },\n    {\n      \"column\": \"Stress_Score\",\n      \"properties\": {\n        \"dtype\": \"number\",\n        \"std\": 3,\n        \"min\": 0,\n        \"max\": 10,\n        \"num_unique_values\": 11,\n        \"samples\": [\n          7,\n          9,\n          4\n        ],\n        \"semantic_type\": \"\",\n        \"description\": \"\"\n      }\n    },\n    {\n      \"column\": \"BP_History\",\n      \"properties\": {\n        \"dtype\": \"number\",\n        \"std\": 0,\n        \"min\": 0,\n        \"max\": 2,\n        \"num_unique_values\": 3,\n        \"samples\": [\n          1,\n          0,\n          2\n        ],\n        \"semantic_type\": \"\",\n        \"description\": \"\"\n      }\n    },\n    {\n      \"column\": \"Sleep_Duration\",\n      \"properties\": {\n        \"dtype\": \"number\",\n        \"std\": 1.5422073433503727,\n        \"min\": 1.5,\n        \"max\": 11.4,\n        \"num_unique_values\": 88,\n        \"samples\": [\n          9.3,\n          6.4,\n          6.0\n        ],\n        \"semantic_type\": \"\",\n        \"description\": \"\"\n      }\n    },\n    {\n      \"column\": \"BMI\",\n      \"properties\": {\n        \"dtype\": \"number\",\n        \"std\": 4.5128565463315935,\n        \"min\": 11.9,\n        \"max\": 41.9,\n        \"num_unique_values\": 236,\n        \"samples\": [\n          32.1,\n          16.0,\n          33.4\n        ],\n        \"semantic_type\": \"\",\n        \"description\": \"\"\n      }\n    },\n    {\n      \"column\": \"Family_History\",\n      \"properties\": {\n        \"dtype\": \"number\",\n        \"std\": 0,\n        \"min\": 0,\n        \"max\": 1,\n        \"num_unique_values\": 2,\n        \"samples\": [\n          0,\n          1\n        ],\n        \"semantic_type\": \"\",\n        \"description\": \"\"\n      }\n    },\n    {\n      \"column\": \"Exercise_Level\",\n      \"properties\": {\n        \"dtype\": \"number\",\n        \"std\": 0,\n        \"min\": 0,\n        \"max\": 2,\n        \"num_unique_values\": 3,\n        \"samples\": [\n          1,\n          2\n        ],\n        \"semantic_type\": \"\",\n        \"description\": \"\"\n      }\n    },\n    {\n      \"column\": \"Smoking_Status\",\n      \"properties\": {\n        \"dtype\": \"number\",\n        \"std\": 0,\n        \"min\": 0,\n        \"max\": 1,\n        \"num_unique_values\": 2,\n        \"samples\": [\n          1,\n          0\n        ],\n        \"semantic_type\": \"\",\n        \"description\": \"\"\n      }\n    },\n    {\n      \"column\": \"Has_Hypertension\",\n      \"properties\": {\n        \"dtype\": \"number\",\n        \"std\": 0,\n        \"min\": 0,\n        \"max\": 1,\n        \"num_unique_values\": 2,\n        \"samples\": [\n          0,\n          1\n        ],\n        \"semantic_type\": \"\",\n        \"description\": \"\"\n      }\n    }\n  ]\n}"
            }
          },
          "metadata": {},
          "execution_count": 89
        }
      ],
      "source": [
        "df.head()"
      ]
    },
    {
      "cell_type": "code",
      "execution_count": null,
      "metadata": {
        "colab": {
          "base_uri": "https://localhost:8080/"
        },
        "id": "hF2BBa9MrrmD",
        "outputId": "0d39813b-591f-4d8a-8f43-68badb8e9051"
      },
      "outputs": [
        {
          "output_type": "stream",
          "name": "stdout",
          "text": [
            "<class 'pandas.core.frame.DataFrame'>\n",
            "RangeIndex: 1985 entries, 0 to 1984\n",
            "Data columns (total 10 columns):\n",
            " #   Column            Non-Null Count  Dtype  \n",
            "---  ------            --------------  -----  \n",
            " 0   Age               1985 non-null   int64  \n",
            " 1   Salt_Intake       1985 non-null   float64\n",
            " 2   Stress_Score      1985 non-null   int64  \n",
            " 3   BP_History        1985 non-null   int64  \n",
            " 4   Sleep_Duration    1985 non-null   float64\n",
            " 5   BMI               1985 non-null   float64\n",
            " 6   Family_History    1985 non-null   int64  \n",
            " 7   Exercise_Level    1985 non-null   int64  \n",
            " 8   Smoking_Status    1985 non-null   int64  \n",
            " 9   Has_Hypertension  1985 non-null   int64  \n",
            "dtypes: float64(3), int64(7)\n",
            "memory usage: 155.2 KB\n"
          ]
        }
      ],
      "source": [
        "df.info()"
      ]
    },
    {
      "cell_type": "code",
      "execution_count": null,
      "metadata": {
        "colab": {
          "base_uri": "https://localhost:8080/",
          "height": 300
        },
        "id": "0SCsFRECrv66",
        "outputId": "8b0195a2-a54a-4cd4-96e8-724136f8d382"
      },
      "outputs": [
        {
          "output_type": "execute_result",
          "data": {
            "text/plain": [
              "               Age  Salt_Intake  Stress_Score  Sleep_Duration          BMI\n",
              "count  1985.000000  1985.000000   1985.000000     1985.000000  1985.000000\n",
              "mean     50.341058     8.531688      4.979345        6.452242    26.015315\n",
              "std      19.442042     1.994907      3.142303        1.542207     4.512857\n",
              "min      18.000000     2.500000      0.000000        1.500000    11.900000\n",
              "25%      34.000000     7.200000      2.000000        5.400000    23.000000\n",
              "50%      50.000000     8.500000      5.000000        6.500000    25.900000\n",
              "75%      67.000000     9.900000      8.000000        7.500000    29.100000\n",
              "max      84.000000    16.400000     10.000000       11.400000    41.900000"
            ],
            "text/html": [
              "\n",
              "  <div id=\"df-befd3ad9-ce92-4335-94c2-0e82e7193bb6\" class=\"colab-df-container\">\n",
              "    <div>\n",
              "<style scoped>\n",
              "    .dataframe tbody tr th:only-of-type {\n",
              "        vertical-align: middle;\n",
              "    }\n",
              "\n",
              "    .dataframe tbody tr th {\n",
              "        vertical-align: top;\n",
              "    }\n",
              "\n",
              "    .dataframe thead th {\n",
              "        text-align: right;\n",
              "    }\n",
              "</style>\n",
              "<table border=\"1\" class=\"dataframe\">\n",
              "  <thead>\n",
              "    <tr style=\"text-align: right;\">\n",
              "      <th></th>\n",
              "      <th>Age</th>\n",
              "      <th>Salt_Intake</th>\n",
              "      <th>Stress_Score</th>\n",
              "      <th>Sleep_Duration</th>\n",
              "      <th>BMI</th>\n",
              "    </tr>\n",
              "  </thead>\n",
              "  <tbody>\n",
              "    <tr>\n",
              "      <th>count</th>\n",
              "      <td>1985.000000</td>\n",
              "      <td>1985.000000</td>\n",
              "      <td>1985.000000</td>\n",
              "      <td>1985.000000</td>\n",
              "      <td>1985.000000</td>\n",
              "    </tr>\n",
              "    <tr>\n",
              "      <th>mean</th>\n",
              "      <td>50.341058</td>\n",
              "      <td>8.531688</td>\n",
              "      <td>4.979345</td>\n",
              "      <td>6.452242</td>\n",
              "      <td>26.015315</td>\n",
              "    </tr>\n",
              "    <tr>\n",
              "      <th>std</th>\n",
              "      <td>19.442042</td>\n",
              "      <td>1.994907</td>\n",
              "      <td>3.142303</td>\n",
              "      <td>1.542207</td>\n",
              "      <td>4.512857</td>\n",
              "    </tr>\n",
              "    <tr>\n",
              "      <th>min</th>\n",
              "      <td>18.000000</td>\n",
              "      <td>2.500000</td>\n",
              "      <td>0.000000</td>\n",
              "      <td>1.500000</td>\n",
              "      <td>11.900000</td>\n",
              "    </tr>\n",
              "    <tr>\n",
              "      <th>25%</th>\n",
              "      <td>34.000000</td>\n",
              "      <td>7.200000</td>\n",
              "      <td>2.000000</td>\n",
              "      <td>5.400000</td>\n",
              "      <td>23.000000</td>\n",
              "    </tr>\n",
              "    <tr>\n",
              "      <th>50%</th>\n",
              "      <td>50.000000</td>\n",
              "      <td>8.500000</td>\n",
              "      <td>5.000000</td>\n",
              "      <td>6.500000</td>\n",
              "      <td>25.900000</td>\n",
              "    </tr>\n",
              "    <tr>\n",
              "      <th>75%</th>\n",
              "      <td>67.000000</td>\n",
              "      <td>9.900000</td>\n",
              "      <td>8.000000</td>\n",
              "      <td>7.500000</td>\n",
              "      <td>29.100000</td>\n",
              "    </tr>\n",
              "    <tr>\n",
              "      <th>max</th>\n",
              "      <td>84.000000</td>\n",
              "      <td>16.400000</td>\n",
              "      <td>10.000000</td>\n",
              "      <td>11.400000</td>\n",
              "      <td>41.900000</td>\n",
              "    </tr>\n",
              "  </tbody>\n",
              "</table>\n",
              "</div>\n",
              "    <div class=\"colab-df-buttons\">\n",
              "\n",
              "  <div class=\"colab-df-container\">\n",
              "    <button class=\"colab-df-convert\" onclick=\"convertToInteractive('df-befd3ad9-ce92-4335-94c2-0e82e7193bb6')\"\n",
              "            title=\"Convert this dataframe to an interactive table.\"\n",
              "            style=\"display:none;\">\n",
              "\n",
              "  <svg xmlns=\"http://www.w3.org/2000/svg\" height=\"24px\" viewBox=\"0 -960 960 960\">\n",
              "    <path d=\"M120-120v-720h720v720H120Zm60-500h600v-160H180v160Zm220 220h160v-160H400v160Zm0 220h160v-160H400v160ZM180-400h160v-160H180v160Zm440 0h160v-160H620v160ZM180-180h160v-160H180v160Zm440 0h160v-160H620v160Z\"/>\n",
              "  </svg>\n",
              "    </button>\n",
              "\n",
              "  <style>\n",
              "    .colab-df-container {\n",
              "      display:flex;\n",
              "      gap: 12px;\n",
              "    }\n",
              "\n",
              "    .colab-df-convert {\n",
              "      background-color: #E8F0FE;\n",
              "      border: none;\n",
              "      border-radius: 50%;\n",
              "      cursor: pointer;\n",
              "      display: none;\n",
              "      fill: #1967D2;\n",
              "      height: 32px;\n",
              "      padding: 0 0 0 0;\n",
              "      width: 32px;\n",
              "    }\n",
              "\n",
              "    .colab-df-convert:hover {\n",
              "      background-color: #E2EBFA;\n",
              "      box-shadow: 0px 1px 2px rgba(60, 64, 67, 0.3), 0px 1px 3px 1px rgba(60, 64, 67, 0.15);\n",
              "      fill: #174EA6;\n",
              "    }\n",
              "\n",
              "    .colab-df-buttons div {\n",
              "      margin-bottom: 4px;\n",
              "    }\n",
              "\n",
              "    [theme=dark] .colab-df-convert {\n",
              "      background-color: #3B4455;\n",
              "      fill: #D2E3FC;\n",
              "    }\n",
              "\n",
              "    [theme=dark] .colab-df-convert:hover {\n",
              "      background-color: #434B5C;\n",
              "      box-shadow: 0px 1px 3px 1px rgba(0, 0, 0, 0.15);\n",
              "      filter: drop-shadow(0px 1px 2px rgba(0, 0, 0, 0.3));\n",
              "      fill: #FFFFFF;\n",
              "    }\n",
              "  </style>\n",
              "\n",
              "    <script>\n",
              "      const buttonEl =\n",
              "        document.querySelector('#df-befd3ad9-ce92-4335-94c2-0e82e7193bb6 button.colab-df-convert');\n",
              "      buttonEl.style.display =\n",
              "        google.colab.kernel.accessAllowed ? 'block' : 'none';\n",
              "\n",
              "      async function convertToInteractive(key) {\n",
              "        const element = document.querySelector('#df-befd3ad9-ce92-4335-94c2-0e82e7193bb6');\n",
              "        const dataTable =\n",
              "          await google.colab.kernel.invokeFunction('convertToInteractive',\n",
              "                                                    [key], {});\n",
              "        if (!dataTable) return;\n",
              "\n",
              "        const docLinkHtml = 'Like what you see? Visit the ' +\n",
              "          '<a target=\"_blank\" href=https://colab.research.google.com/notebooks/data_table.ipynb>data table notebook</a>'\n",
              "          + ' to learn more about interactive tables.';\n",
              "        element.innerHTML = '';\n",
              "        dataTable['output_type'] = 'display_data';\n",
              "        await google.colab.output.renderOutput(dataTable, element);\n",
              "        const docLink = document.createElement('div');\n",
              "        docLink.innerHTML = docLinkHtml;\n",
              "        element.appendChild(docLink);\n",
              "      }\n",
              "    </script>\n",
              "  </div>\n",
              "\n",
              "\n",
              "    <div id=\"df-19a8de9e-1305-496c-be00-4fe00f76f5c7\">\n",
              "      <button class=\"colab-df-quickchart\" onclick=\"quickchart('df-19a8de9e-1305-496c-be00-4fe00f76f5c7')\"\n",
              "                title=\"Suggest charts\"\n",
              "                style=\"display:none;\">\n",
              "\n",
              "<svg xmlns=\"http://www.w3.org/2000/svg\" height=\"24px\"viewBox=\"0 0 24 24\"\n",
              "     width=\"24px\">\n",
              "    <g>\n",
              "        <path d=\"M19 3H5c-1.1 0-2 .9-2 2v14c0 1.1.9 2 2 2h14c1.1 0 2-.9 2-2V5c0-1.1-.9-2-2-2zM9 17H7v-7h2v7zm4 0h-2V7h2v10zm4 0h-2v-4h2v4z\"/>\n",
              "    </g>\n",
              "</svg>\n",
              "      </button>\n",
              "\n",
              "<style>\n",
              "  .colab-df-quickchart {\n",
              "      --bg-color: #E8F0FE;\n",
              "      --fill-color: #1967D2;\n",
              "      --hover-bg-color: #E2EBFA;\n",
              "      --hover-fill-color: #174EA6;\n",
              "      --disabled-fill-color: #AAA;\n",
              "      --disabled-bg-color: #DDD;\n",
              "  }\n",
              "\n",
              "  [theme=dark] .colab-df-quickchart {\n",
              "      --bg-color: #3B4455;\n",
              "      --fill-color: #D2E3FC;\n",
              "      --hover-bg-color: #434B5C;\n",
              "      --hover-fill-color: #FFFFFF;\n",
              "      --disabled-bg-color: #3B4455;\n",
              "      --disabled-fill-color: #666;\n",
              "  }\n",
              "\n",
              "  .colab-df-quickchart {\n",
              "    background-color: var(--bg-color);\n",
              "    border: none;\n",
              "    border-radius: 50%;\n",
              "    cursor: pointer;\n",
              "    display: none;\n",
              "    fill: var(--fill-color);\n",
              "    height: 32px;\n",
              "    padding: 0;\n",
              "    width: 32px;\n",
              "  }\n",
              "\n",
              "  .colab-df-quickchart:hover {\n",
              "    background-color: var(--hover-bg-color);\n",
              "    box-shadow: 0 1px 2px rgba(60, 64, 67, 0.3), 0 1px 3px 1px rgba(60, 64, 67, 0.15);\n",
              "    fill: var(--button-hover-fill-color);\n",
              "  }\n",
              "\n",
              "  .colab-df-quickchart-complete:disabled,\n",
              "  .colab-df-quickchart-complete:disabled:hover {\n",
              "    background-color: var(--disabled-bg-color);\n",
              "    fill: var(--disabled-fill-color);\n",
              "    box-shadow: none;\n",
              "  }\n",
              "\n",
              "  .colab-df-spinner {\n",
              "    border: 2px solid var(--fill-color);\n",
              "    border-color: transparent;\n",
              "    border-bottom-color: var(--fill-color);\n",
              "    animation:\n",
              "      spin 1s steps(1) infinite;\n",
              "  }\n",
              "\n",
              "  @keyframes spin {\n",
              "    0% {\n",
              "      border-color: transparent;\n",
              "      border-bottom-color: var(--fill-color);\n",
              "      border-left-color: var(--fill-color);\n",
              "    }\n",
              "    20% {\n",
              "      border-color: transparent;\n",
              "      border-left-color: var(--fill-color);\n",
              "      border-top-color: var(--fill-color);\n",
              "    }\n",
              "    30% {\n",
              "      border-color: transparent;\n",
              "      border-left-color: var(--fill-color);\n",
              "      border-top-color: var(--fill-color);\n",
              "      border-right-color: var(--fill-color);\n",
              "    }\n",
              "    40% {\n",
              "      border-color: transparent;\n",
              "      border-right-color: var(--fill-color);\n",
              "      border-top-color: var(--fill-color);\n",
              "    }\n",
              "    60% {\n",
              "      border-color: transparent;\n",
              "      border-right-color: var(--fill-color);\n",
              "    }\n",
              "    80% {\n",
              "      border-color: transparent;\n",
              "      border-right-color: var(--fill-color);\n",
              "      border-bottom-color: var(--fill-color);\n",
              "    }\n",
              "    90% {\n",
              "      border-color: transparent;\n",
              "      border-bottom-color: var(--fill-color);\n",
              "    }\n",
              "  }\n",
              "</style>\n",
              "\n",
              "      <script>\n",
              "        async function quickchart(key) {\n",
              "          const quickchartButtonEl =\n",
              "            document.querySelector('#' + key + ' button');\n",
              "          quickchartButtonEl.disabled = true;  // To prevent multiple clicks.\n",
              "          quickchartButtonEl.classList.add('colab-df-spinner');\n",
              "          try {\n",
              "            const charts = await google.colab.kernel.invokeFunction(\n",
              "                'suggestCharts', [key], {});\n",
              "          } catch (error) {\n",
              "            console.error('Error during call to suggestCharts:', error);\n",
              "          }\n",
              "          quickchartButtonEl.classList.remove('colab-df-spinner');\n",
              "          quickchartButtonEl.classList.add('colab-df-quickchart-complete');\n",
              "        }\n",
              "        (() => {\n",
              "          let quickchartButtonEl =\n",
              "            document.querySelector('#df-19a8de9e-1305-496c-be00-4fe00f76f5c7 button');\n",
              "          quickchartButtonEl.style.display =\n",
              "            google.colab.kernel.accessAllowed ? 'block' : 'none';\n",
              "        })();\n",
              "      </script>\n",
              "    </div>\n",
              "\n",
              "    </div>\n",
              "  </div>\n"
            ],
            "application/vnd.google.colaboratory.intrinsic+json": {
              "type": "dataframe",
              "summary": "{\n  \"name\": \"df\",\n  \"rows\": 8,\n  \"fields\": [\n    {\n      \"column\": \"Age\",\n      \"properties\": {\n        \"dtype\": \"number\",\n        \"std\": 685.870600101569,\n        \"min\": 18.0,\n        \"max\": 1985.0,\n        \"num_unique_values\": 8,\n        \"samples\": [\n          50.34105793450882,\n          50.0,\n          1985.0\n        ],\n        \"semantic_type\": \"\",\n        \"description\": \"\"\n      }\n    },\n    {\n      \"column\": \"Salt_Intake\",\n      \"properties\": {\n        \"dtype\": \"number\",\n        \"std\": 699.0386782437239,\n        \"min\": 1.9949074335722863,\n        \"max\": 1985.0,\n        \"num_unique_values\": 8,\n        \"samples\": [\n          8.531687657430732,\n          8.5,\n          1985.0\n        ],\n        \"semantic_type\": \"\",\n        \"description\": \"\"\n      }\n    },\n    {\n      \"column\": \"Stress_Score\",\n      \"properties\": {\n        \"dtype\": \"number\",\n        \"std\": 700.1378226114197,\n        \"min\": 0.0,\n        \"max\": 1985.0,\n        \"num_unique_values\": 8,\n        \"samples\": [\n          4.979345088161209,\n          5.0,\n          1985.0\n        ],\n        \"semantic_type\": \"\",\n        \"description\": \"\"\n      }\n    },\n    {\n      \"column\": \"Sleep_Duration\",\n      \"properties\": {\n        \"dtype\": \"number\",\n        \"std\": 699.7756455877908,\n        \"min\": 1.5,\n        \"max\": 1985.0,\n        \"num_unique_values\": 8,\n        \"samples\": [\n          6.452241813602016,\n          6.5,\n          1985.0\n        ],\n        \"semantic_type\": \"\",\n        \"description\": \"\"\n      }\n    },\n    {\n      \"column\": \"BMI\",\n      \"properties\": {\n        \"dtype\": \"number\",\n        \"std\": 693.6949430422113,\n        \"min\": 4.5128565463315935,\n        \"max\": 1985.0,\n        \"num_unique_values\": 8,\n        \"samples\": [\n          26.015314861460958,\n          25.9,\n          1985.0\n        ],\n        \"semantic_type\": \"\",\n        \"description\": \"\"\n      }\n    }\n  ]\n}"
            }
          },
          "metadata": {},
          "execution_count": 53
        }
      ],
      "source": [
        "df.describe()"
      ]
    },
    {
      "cell_type": "code",
      "source": [
        "df['Has_Hypertension'].value_counts()"
      ],
      "metadata": {
        "colab": {
          "base_uri": "https://localhost:8080/",
          "height": 178
        },
        "id": "xNIUO_pNd5wz",
        "outputId": "9d6c51b9-9d63-47ec-f297-39e763583517"
      },
      "execution_count": null,
      "outputs": [
        {
          "output_type": "execute_result",
          "data": {
            "text/plain": [
              "Has_Hypertension\n",
              "1    1032\n",
              "0     953\n",
              "Name: count, dtype: int64"
            ],
            "text/html": [
              "<div>\n",
              "<style scoped>\n",
              "    .dataframe tbody tr th:only-of-type {\n",
              "        vertical-align: middle;\n",
              "    }\n",
              "\n",
              "    .dataframe tbody tr th {\n",
              "        vertical-align: top;\n",
              "    }\n",
              "\n",
              "    .dataframe thead th {\n",
              "        text-align: right;\n",
              "    }\n",
              "</style>\n",
              "<table border=\"1\" class=\"dataframe\">\n",
              "  <thead>\n",
              "    <tr style=\"text-align: right;\">\n",
              "      <th></th>\n",
              "      <th>count</th>\n",
              "    </tr>\n",
              "    <tr>\n",
              "      <th>Has_Hypertension</th>\n",
              "      <th></th>\n",
              "    </tr>\n",
              "  </thead>\n",
              "  <tbody>\n",
              "    <tr>\n",
              "      <th>1</th>\n",
              "      <td>1032</td>\n",
              "    </tr>\n",
              "    <tr>\n",
              "      <th>0</th>\n",
              "      <td>953</td>\n",
              "    </tr>\n",
              "  </tbody>\n",
              "</table>\n",
              "</div><br><label><b>dtype:</b> int64</label>"
            ]
          },
          "metadata": {},
          "execution_count": 90
        }
      ]
    },
    {
      "cell_type": "code",
      "execution_count": null,
      "metadata": {
        "colab": {
          "base_uri": "https://localhost:8080/",
          "height": 397
        },
        "id": "VPKPkAuYDZKu",
        "outputId": "6a11ff22-952a-4761-f035-4577928565a5"
      },
      "outputs": [
        {
          "output_type": "execute_result",
          "data": {
            "text/plain": [
              "Age                  67\n",
              "Salt_Intake         121\n",
              "Stress_Score         11\n",
              "BP_History            3\n",
              "Sleep_Duration       88\n",
              "BMI                 236\n",
              "Family_History        2\n",
              "Exercise_Level        3\n",
              "Smoking_Status        2\n",
              "Has_Hypertension      2\n",
              "dtype: int64"
            ],
            "text/html": [
              "<div>\n",
              "<style scoped>\n",
              "    .dataframe tbody tr th:only-of-type {\n",
              "        vertical-align: middle;\n",
              "    }\n",
              "\n",
              "    .dataframe tbody tr th {\n",
              "        vertical-align: top;\n",
              "    }\n",
              "\n",
              "    .dataframe thead th {\n",
              "        text-align: right;\n",
              "    }\n",
              "</style>\n",
              "<table border=\"1\" class=\"dataframe\">\n",
              "  <thead>\n",
              "    <tr style=\"text-align: right;\">\n",
              "      <th></th>\n",
              "      <th>0</th>\n",
              "    </tr>\n",
              "  </thead>\n",
              "  <tbody>\n",
              "    <tr>\n",
              "      <th>Age</th>\n",
              "      <td>67</td>\n",
              "    </tr>\n",
              "    <tr>\n",
              "      <th>Salt_Intake</th>\n",
              "      <td>121</td>\n",
              "    </tr>\n",
              "    <tr>\n",
              "      <th>Stress_Score</th>\n",
              "      <td>11</td>\n",
              "    </tr>\n",
              "    <tr>\n",
              "      <th>BP_History</th>\n",
              "      <td>3</td>\n",
              "    </tr>\n",
              "    <tr>\n",
              "      <th>Sleep_Duration</th>\n",
              "      <td>88</td>\n",
              "    </tr>\n",
              "    <tr>\n",
              "      <th>BMI</th>\n",
              "      <td>236</td>\n",
              "    </tr>\n",
              "    <tr>\n",
              "      <th>Family_History</th>\n",
              "      <td>2</td>\n",
              "    </tr>\n",
              "    <tr>\n",
              "      <th>Exercise_Level</th>\n",
              "      <td>3</td>\n",
              "    </tr>\n",
              "    <tr>\n",
              "      <th>Smoking_Status</th>\n",
              "      <td>2</td>\n",
              "    </tr>\n",
              "    <tr>\n",
              "      <th>Has_Hypertension</th>\n",
              "      <td>2</td>\n",
              "    </tr>\n",
              "  </tbody>\n",
              "</table>\n",
              "</div><br><label><b>dtype:</b> int64</label>"
            ]
          },
          "metadata": {},
          "execution_count": 91
        }
      ],
      "source": [
        "df.nunique()"
      ]
    },
    {
      "cell_type": "code",
      "execution_count": null,
      "metadata": {
        "colab": {
          "base_uri": "https://localhost:8080/",
          "height": 397
        },
        "id": "6WdU0A5iC5_E",
        "outputId": "acd42872-2967-456c-9afd-b4dd02370a4f"
      },
      "outputs": [
        {
          "output_type": "execute_result",
          "data": {
            "text/plain": [
              "Age                 0\n",
              "Salt_Intake         0\n",
              "Stress_Score        0\n",
              "BP_History          0\n",
              "Sleep_Duration      0\n",
              "BMI                 0\n",
              "Family_History      0\n",
              "Exercise_Level      0\n",
              "Smoking_Status      0\n",
              "Has_Hypertension    0\n",
              "dtype: int64"
            ],
            "text/html": [
              "<div>\n",
              "<style scoped>\n",
              "    .dataframe tbody tr th:only-of-type {\n",
              "        vertical-align: middle;\n",
              "    }\n",
              "\n",
              "    .dataframe tbody tr th {\n",
              "        vertical-align: top;\n",
              "    }\n",
              "\n",
              "    .dataframe thead th {\n",
              "        text-align: right;\n",
              "    }\n",
              "</style>\n",
              "<table border=\"1\" class=\"dataframe\">\n",
              "  <thead>\n",
              "    <tr style=\"text-align: right;\">\n",
              "      <th></th>\n",
              "      <th>0</th>\n",
              "    </tr>\n",
              "  </thead>\n",
              "  <tbody>\n",
              "    <tr>\n",
              "      <th>Age</th>\n",
              "      <td>0</td>\n",
              "    </tr>\n",
              "    <tr>\n",
              "      <th>Salt_Intake</th>\n",
              "      <td>0</td>\n",
              "    </tr>\n",
              "    <tr>\n",
              "      <th>Stress_Score</th>\n",
              "      <td>0</td>\n",
              "    </tr>\n",
              "    <tr>\n",
              "      <th>BP_History</th>\n",
              "      <td>0</td>\n",
              "    </tr>\n",
              "    <tr>\n",
              "      <th>Sleep_Duration</th>\n",
              "      <td>0</td>\n",
              "    </tr>\n",
              "    <tr>\n",
              "      <th>BMI</th>\n",
              "      <td>0</td>\n",
              "    </tr>\n",
              "    <tr>\n",
              "      <th>Family_History</th>\n",
              "      <td>0</td>\n",
              "    </tr>\n",
              "    <tr>\n",
              "      <th>Exercise_Level</th>\n",
              "      <td>0</td>\n",
              "    </tr>\n",
              "    <tr>\n",
              "      <th>Smoking_Status</th>\n",
              "      <td>0</td>\n",
              "    </tr>\n",
              "    <tr>\n",
              "      <th>Has_Hypertension</th>\n",
              "      <td>0</td>\n",
              "    </tr>\n",
              "  </tbody>\n",
              "</table>\n",
              "</div><br><label><b>dtype:</b> int64</label>"
            ]
          },
          "metadata": {},
          "execution_count": 92
        }
      ],
      "source": [
        "df.isna().sum()"
      ]
    },
    {
      "cell_type": "code",
      "execution_count": null,
      "metadata": {
        "id": "0jY-QgSLsG21"
      },
      "outputs": [],
      "source": [
        "df.drop('Medication', inplace =True , axis =1 )"
      ]
    },
    {
      "cell_type": "code",
      "execution_count": null,
      "metadata": {
        "colab": {
          "base_uri": "https://localhost:8080/"
        },
        "id": "uPOwyLIGDqV3",
        "outputId": "188763f0-0751-49d3-8e51-1a4d988b5671"
      },
      "outputs": [
        {
          "output_type": "execute_result",
          "data": {
            "text/plain": [
              "np.int64(0)"
            ]
          },
          "metadata": {},
          "execution_count": 57
        }
      ],
      "source": [
        "df.duplicated().sum()"
      ]
    },
    {
      "cell_type": "code",
      "execution_count": null,
      "metadata": {
        "colab": {
          "base_uri": "https://localhost:8080/"
        },
        "id": "7f1gxQ_uCHjk",
        "outputId": "c574c751-931e-463d-c1bd-1572249e4b9a"
      },
      "outputs": [
        {
          "output_type": "stream",
          "name": "stdout",
          "text": [
            "<class 'pandas.core.frame.DataFrame'>\n",
            "RangeIndex: 1985 entries, 0 to 1984\n",
            "Data columns (total 10 columns):\n",
            " #   Column            Non-Null Count  Dtype  \n",
            "---  ------            --------------  -----  \n",
            " 0   Age               1985 non-null   int64  \n",
            " 1   Salt_Intake       1985 non-null   float64\n",
            " 2   Stress_Score      1985 non-null   int64  \n",
            " 3   BP_History        1985 non-null   object \n",
            " 4   Sleep_Duration    1985 non-null   float64\n",
            " 5   BMI               1985 non-null   float64\n",
            " 6   Family_History    1985 non-null   object \n",
            " 7   Exercise_Level    1985 non-null   object \n",
            " 8   Smoking_Status    1985 non-null   object \n",
            " 9   Has_Hypertension  1985 non-null   object \n",
            "dtypes: float64(3), int64(2), object(5)\n",
            "memory usage: 155.2+ KB\n"
          ]
        }
      ],
      "source": [
        "df.info()"
      ]
    },
    {
      "cell_type": "code",
      "execution_count": null,
      "metadata": {
        "colab": {
          "base_uri": "https://localhost:8080/",
          "height": 717
        },
        "id": "2YQfEBfLrAVS",
        "outputId": "0217d7bd-9298-4f45-9117-eb37c0aee5c1"
      },
      "outputs": [
        {
          "output_type": "display_data",
          "data": {
            "text/html": [
              "<html>\n",
              "<head><meta charset=\"utf-8\" /></head>\n",
              "<body>\n",
              "    <div>            <script src=\"https://cdnjs.cloudflare.com/ajax/libs/mathjax/2.7.5/MathJax.js?config=TeX-AMS-MML_SVG\"></script><script type=\"text/javascript\">if (window.MathJax && window.MathJax.Hub && window.MathJax.Hub.Config) {window.MathJax.Hub.Config({SVG: {font: \"STIX-Web\"}});}</script>                <script type=\"text/javascript\">window.PlotlyConfig = {MathJaxConfig: 'local'};</script>\n",
              "        <script charset=\"utf-8\" src=\"https://cdn.plot.ly/plotly-2.35.2.min.js\"></script>                <div id=\"f4175332-faee-4af9-8845-eace80aef8aa\" class=\"plotly-graph-div\" style=\"height:700px; width:100%;\"></div>            <script type=\"text/javascript\">                                    window.PLOTLYENV=window.PLOTLYENV || {};                                    if (document.getElementById(\"f4175332-faee-4af9-8845-eace80aef8aa\")) {                    Plotly.newPlot(                        \"f4175332-faee-4af9-8845-eace80aef8aa\",                        [{\"name\":\"Age\",\"y\":[69,32,78,38,41,20,39,70,19,47,55,19,81,77,38,50,75,39,66,76,59,77,32,79,79,64,79,68,72,81,20,68,24,38,56,35,21,77,31,26,70,19,77,61,25,64,52,53,67,21,19,23,71,21,71,80,35,61,51,79,31,65,32,79,57,70,41,43,77,58,46,32,62,82,26,18,25,80,28,25,52,52,50,22,58,45,24,29,51,50,65,40,79,54,61,52,82,64,20,18,22,31,44,26,32,59,68,80,69,21,40,32,60,46,53,30,49,76,45,83,59,62,79,74,23,45,45,61,47,79,79,18,44,79,20,44,26,79,54,68,61,41,76,49,69,79,75,69,29,56,19,20,73,76,19,19,71,18,36,19,70,61,49,49,72,73,34,55,41,28,33,76,20,37,76,53,36,84,36,37,69,50,57,56,18,28,74,67,40,48,59,24,33,77,19,18,65,29,54,49,26,36,65,20,37,41,71,50,41,53,55,42,35,83,71,52,78,58,50,50,31,38,65,37,25,24,84,34,50,65,76,39,47,55,68,71,25,44,44,38,47,45,81,78,65,36,21,52,81,66,34,61,47,63,23,54,41,63,70,77,80,49,50,84,35,42,71,75,84,63,41,49,64,40,83,44,19,34,50,26,60,65,56,59,43,67,42,41,30,77,24,74,53,62,37,82,25,33,31,32,83,49,80,68,42,75,80,79,39,75,75,66,69,59,32,71,77,25,70,77,22,23,64,72,57,69,33,30,47,36,34,80,36,75,72,79,40,26,29,18,75,18,51,65,18,33,78,81,80,39,84,43,33,68,74,46,64,79,33,65,56,50,40,27,51,69,27,36,75,18,21,33,41,19,49,41,29,67,52,50,50,78,68,60,29,84,82,50,57,60,61,46,30,29,63,19,52,25,43,51,24,75,46,53,38,53,27,41,81,66,53,41,40,79,54,29,72,30,40,47,34,79,30,76,36,66,29,78,36,26,45,69,33,29,42,69,70,40,33,74,56,70,59,75,56,31,22,52,35,26,75,34,24,63,30,57,59,26,67,44,83,22,46,54,55,25,82,34,62,21,53,48,36,78,71,56,36,56,84,62,30,75,37,78,56,18,20,79,80,42,73,50,55,23,75,61,62,49,62,78,64,38,53,36,37,74,35,64,66,31,32,48,18,71,20,33,74,29,33,41,45,25,53,25,75,77,67,45,58,81,44,80,34,50,46,30,63,52,23,64,42,83,27,73,47,22,50,82,35,66,28,43,80,76,44,66,50,18,38,72,23,22,20,70,40,70,54,34,18,68,62,21,79,82,49,51,56,43,51,71,20,67,29,82,71,22,74,34,64,40,31,83,68,55,81,55,67,47,68,80,69,55,47,68,22,46,21,27,73,34,34,51,23,70,83,60,40,72,33,25,21,21,73,42,84,84,44,49,67,78,68,36,38,22,59,78,39,38,18,22,29,63,51,66,62,44,43,64,73,80,65,78,43,53,18,25,69,64,73,31,45,19,43,31,76,73,24,20,40,35,55,32,81,45,56,74,34,61,42,34,30,42,27,84,35,51,25,57,59,58,23,69,43,81,76,73,76,50,70,39,38,21,79,79,41,72,26,20,48,57,53,41,23,83,21,23,68,79,74,83,25,43,68,62,61,22,43,36,37,29,64,18,31,81,55,54,28,20,50,23,67,27,22,40,27,61,19,30,57,19,82,80,34,26,32,41,55,52,66,79,77,67,26,51,52,18,57,81,39,77,81,28,31,77,47,52,54,22,43,79,21,59,35,57,56,31,49,68,55,40,80,32,42,34,83,70,68,56,68,23,84,24,68,59,81,32,46,50,44,53,46,55,74,44,72,50,83,27,22,55,30,48,64,69,73,32,46,25,22,46,64,62,19,44,53,53,43,60,44,37,28,55,23,40,64,63,29,30,79,77,60,22,54,48,26,68,46,57,58,28,40,18,63,38,53,71,74,18,80,71,72,57,32,38,64,70,26,69,74,43,58,52,80,42,55,19,24,51,34,60,76,68,71,41,42,69,50,66,46,80,39,43,45,66,66,37,80,78,66,18,30,68,73,79,49,47,46,66,62,47,33,57,36,35,18,64,83,55,68,80,21,18,25,46,72,20,49,27,51,72,49,67,24,25,82,74,84,76,71,84,68,25,51,52,49,63,33,54,71,31,72,65,24,24,50,40,36,36,53,46,77,19,18,64,37,28,19,84,29,37,22,54,55,26,70,61,41,47,76,31,26,57,83,42,39,21,43,75,46,54,35,59,58,55,51,34,54,42,44,74,48,23,57,29,70,27,62,34,43,79,63,81,19,71,82,68,70,53,43,46,38,28,57,28,53,76,56,71,72,41,39,73,50,53,37,79,43,83,57,34,18,78,60,59,42,56,52,20,61,68,29,36,61,76,66,78,34,74,72,64,29,79,25,38,42,29,32,76,43,43,64,49,27,33,34,40,43,24,31,24,26,65,76,56,35,76,34,31,48,41,77,62,20,54,60,57,72,56,32,21,42,30,50,33,59,83,72,59,51,47,30,30,35,49,56,63,46,79,79,74,33,73,27,47,42,22,82,66,20,62,31,47,35,79,54,42,65,82,70,32,66,29,76,54,78,60,56,73,80,63,28,79,42,69,21,76,37,80,71,74,58,20,23,22,22,71,64,66,26,37,78,52,67,79,34,20,49,30,31,28,73,84,46,26,84,42,59,26,57,42,22,28,76,55,22,65,35,54,77,65,45,57,62,79,75,84,73,57,57,50,23,36,57,76,76,65,58,30,62,70,59,80,44,55,77,24,22,62,75,48,40,59,27,49,70,47,56,48,19,29,56,83,30,63,44,34,77,81,52,47,80,45,77,54,39,37,81,34,29,39,34,27,82,39,67,31,81,64,46,53,69,24,46,28,50,23,49,68,75,43,63,46,21,30,56,32,46,46,49,19,64,39,44,84,73,38,64,76,23,36,74,20,18,75,55,32,51,78,52,81,42,41,29,35,32,44,77,63,34,70,25,44,63,67,20,81,61,70,41,77,20,37,63,32,42,34,26,55,65,77,80,19,28,81,38,35,81,55,49,28,62,50,58,25,28,68,58,34,63,49,71,37,50,57,49,19,50,47,50,43,39,83,55,63,32,61,66,78,84,23,26,23,49,58,25,67,79,79,24,21,23,75,39,43,20,58,77,31,29,29,30,42,62,36,72,62,25,70,72,49,68,61,35,39,54,73,76,20,45,52,78,71,80,24,66,48,75,78,41,37,54,21,37,77,41,67,66,68,53,83,51,53,23,56,59,75,29,20,35,57,38,32,43,25,59,61,31,19,54,55,58,79,77,31,19,34,45,83,52,22,82,57,73,53,62,40,64,48,28,27,84,31,27,18,22,37,25,60,18,74,81,45,54,64,54,66,61,73,45,23,78,37,19,54,37,43,46,18,52,76,50,68,29,37,70,60,67,46,74,56,73,60,67,40,61,55,40,62,69,67,25,18,25,46,22,64,51,82,72,60,47,34,43,25,64,63,50,18,36,48,31,70,65,79,83,81,80,50,58,65,30,48,21,36,30,40,18,71,32,82,32,38,36,77,50,66,52,61,28,83,63,26,20,43,65,83,45,43,42,29,22,65,54,61,32,60,65,63,60,38,40,64,32,42,53,68,32,38,30,36,51,69,44,46,45,52,25,33,53,47,35,19,66,21,24,56,30,48,80,73,59,78,59,73,53,24,71,18,61,62,64,30,39,38,26,43,26,32,27,59,41,66,43,54,67,41,36,77,56,35,36,53,72,64,66,50,38,39,65,54,32,52,49,28,27,74,42,19,81,52,24,35,84,59,56,58,41,77,63,36,59,49,56,53,53,20,25,58,30,66,77,19,77,22,61,44,49,38,25,67,84,61,75,20,19,61,19,52,47,25,39,61,75,53,48,64,72,79,47,72,33,29,34,33,29,25,20,33,47,40,22,82,47,38,39,49,50,33,55,31,53,40,83,19,82,84,69,79,40,43,72,23,52,39,60,32,77,29,66,59,55,62,52,47,47,23,84,24,69,31,32,38,52,83,19,52,37,27,42,83,42,71,50,53,31,82,71,69,20,58,23,42,30,25,38,42,62,77,29,49,30,48,37,35,77,80,23,49,60,19,77,40,48,22,51,27,19,28,67,48,73,26,38,45,79,24,33,21,21,57,34,69,69,53,55,67,80,80,79,24,44,31,22,72,19,79,38,38,27,75,56,22,82,30,70,62,49,53,77,28,80,38,69,72,43,51,69,69,46,55,59,38,59,30,81,34,26,58,18,19,77,65,46,27,75,77,38,45,51,25,76,66,34,77,62,49,61,82,25,60,18,68,41,41,34,22,37,38,75,48,28,69,32,24,45,68,75,22,22,25,81,27,55,25,42,83,67,84,66,53,58,79,27,38,53,29,19,30,70,49,33,49,49,28,27,32,34,57,35,72,42,76,39,47,61,49,68,63,38,49,56,29,64,35,38],\"type\":\"box\",\"xaxis\":\"x\",\"yaxis\":\"y\"},{\"name\":\"Salt_Intake\",\"y\":[8.0,11.7,9.5,10.0,9.8,10.8,8.9,5.9,9.3,7.2,7.4,9.7,11.0,8.5,9.1,11.9,9.0,13.7,9.6,5.0,10.0,9.3,11.1,9.8,8.2,6.1,8.1,6.8,7.3,9.7,11.8,9.3,6.1,9.4,10.9,7.3,8.2,8.5,6.9,9.8,8.3,9.3,6.7,7.6,9.9,7.8,12.0,7.7,8.9,10.4,5.7,5.0,5.4,11.0,7.4,13.6,7.4,8.9,11.6,12.5,12.6,10.9,10.5,9.7,10.1,7.4,6.9,8.5,8.2,7.6,9.9,10.4,8.7,11.5,6.2,8.1,7.1,4.8,8.3,8.3,11.5,9.8,6.5,12.2,10.9,9.7,8.0,6.6,7.8,10.7,12.3,11.6,7.5,6.3,8.8,5.0,9.1,8.2,7.6,5.3,9.5,7.4,6.2,2.8,8.4,12.0,11.8,7.6,7.3,9.4,6.5,9.1,10.0,11.0,8.3,8.1,6.7,6.8,8.0,9.2,10.3,6.9,11.5,8.0,8.5,7.0,3.7,10.3,10.0,7.9,8.6,9.5,5.4,7.4,10.1,6.0,9.1,5.8,9.4,8.4,5.3,10.8,7.0,6.9,8.9,10.8,6.5,8.6,9.4,9.9,8.9,7.8,6.8,8.7,6.4,2.7,9.4,10.3,3.8,6.5,9.7,12.6,8.5,7.0,8.1,11.2,7.2,6.9,7.5,6.6,8.7,11.7,9.1,8.0,7.9,5.4,10.3,8.3,8.1,14.9,9.1,7.0,7.6,10.8,8.7,5.6,10.3,7.2,12.2,10.7,7.6,11.1,8.6,10.2,9.5,6.8,7.2,10.6,7.8,7.7,6.6,9.3,12.6,6.4,8.5,11.3,8.3,9.4,6.4,9.4,8.1,10.5,10.9,13.7,9.7,9.2,8.9,7.8,9.2,7.9,8.8,11.1,6.5,10.8,11.1,8.3,4.3,7.3,11.1,8.5,6.5,7.5,10.2,9.6,8.0,7.8,7.7,6.7,11.7,7.9,10.9,11.5,10.5,7.6,9.3,8.5,6.7,9.1,6.1,10.9,7.6,8.9,9.1,8.0,9.7,7.6,10.2,5.8,8.8,12.4,6.5,7.1,9.5,8.9,9.2,9.5,9.8,10.7,9.3,8.0,9.8,12.3,8.2,6.6,10.7,8.3,4.2,10.2,7.4,8.3,9.2,8.9,9.9,7.6,9.5,8.0,10.0,9.7,6.6,10.7,7.4,10.1,9.2,12.2,8.1,7.8,8.5,7.9,10.1,5.3,6.4,6.4,10.4,11.9,8.3,8.2,8.6,10.8,6.6,9.0,10.5,9.5,8.9,10.5,3.1,9.9,7.2,4.8,9.5,11.2,8.2,10.4,11.7,11.1,11.8,10.0,8.7,5.3,8.0,6.8,12.8,8.1,8.7,9.6,8.6,11.9,7.3,8.9,7.0,5.9,7.3,8.4,7.6,7.1,5.7,8.3,5.5,10.0,8.7,5.6,7.9,7.0,9.1,11.2,4.7,8.7,8.2,9.8,8.9,7.0,7.9,6.9,10.7,8.5,12.3,8.4,7.1,5.5,4.9,5.3,9.0,9.5,5.3,10.3,7.5,8.8,11.7,10.3,8.0,6.7,4.2,7.1,8.1,6.5,8.2,8.7,8.1,7.2,8.8,9.4,6.3,11.3,8.3,8.5,9.9,9.0,10.4,9.1,7.3,9.2,6.2,8.7,8.4,8.1,8.2,4.7,7.4,8.7,8.8,6.4,11.0,6.8,10.4,9.4,7.2,12.1,6.1,10.3,10.5,7.2,11.3,8.0,9.1,9.0,8.2,10.1,10.1,5.0,11.1,5.2,10.6,10.8,6.3,7.7,6.3,8.1,7.9,10.1,11.1,11.3,7.4,8.1,5.1,6.9,10.4,11.7,6.0,7.3,8.4,9.1,6.9,9.3,7.6,8.5,9.6,8.5,7.6,8.3,8.3,7.8,8.0,11.7,9.6,7.9,9.9,7.8,10.8,9.2,8.3,9.4,5.4,6.2,6.1,8.8,12.0,13.0,9.8,9.5,4.9,7.4,6.9,7.3,8.2,7.6,4.5,10.0,6.4,9.0,12.6,6.7,3.4,7.9,10.7,12.4,6.0,9.5,7.6,8.3,13.8,5.5,9.0,9.4,10.7,8.7,9.1,7.7,9.0,7.8,9.7,7.8,9.3,8.4,10.8,8.4,5.0,11.0,6.7,7.2,7.3,11.2,4.2,14.8,10.6,8.9,8.4,9.1,9.5,9.8,9.6,8.7,8.1,8.2,8.1,10.8,9.7,2.6,9.8,8.9,8.5,7.7,10.7,10.4,7.0,9.3,6.6,5.7,7.2,10.2,10.4,9.5,10.0,9.5,7.2,9.4,10.1,10.0,10.9,9.9,9.2,10.6,8.4,6.7,8.2,7.0,7.1,8.2,6.9,7.9,4.7,8.9,8.5,6.9,9.8,10.4,5.3,7.0,7.0,6.6,10.2,8.1,8.0,4.5,9.8,6.0,8.6,9.1,11.2,5.9,2.5,8.9,12.1,11.0,8.9,7.5,10.1,6.6,9.5,9.5,10.6,14.0,9.3,7.5,8.4,5.0,7.1,7.7,7.5,8.8,6.9,10.7,8.5,8.5,7.8,8.8,10.2,6.8,7.2,7.9,5.8,6.9,7.5,10.2,9.0,8.9,10.2,8.2,9.3,8.3,9.0,7.3,3.6,8.2,11.3,10.4,10.4,11.0,8.7,8.9,7.3,7.9,9.7,10.9,8.2,7.6,8.5,9.7,5.6,3.9,7.4,6.1,7.5,8.2,7.6,11.4,9.2,9.1,9.7,6.2,10.6,8.3,9.8,6.4,5.4,10.1,9.3,6.7,6.8,10.8,6.1,11.8,6.7,9.8,7.8,9.7,7.4,8.2,8.6,6.5,10.0,7.5,8.0,6.5,3.4,8.1,13.3,10.1,8.5,8.0,8.5,9.6,6.1,10.7,9.9,9.9,9.4,8.5,9.8,9.7,7.8,7.4,8.7,11.6,6.0,5.6,8.8,8.6,8.8,9.0,8.1,11.5,5.3,6.8,8.3,5.2,8.1,11.8,8.5,9.0,6.0,7.3,7.7,7.9,11.1,9.6,6.3,9.0,9.5,10.8,11.7,6.5,6.9,6.0,8.0,9.4,10.5,8.3,7.9,8.8,6.8,12.7,5.3,8.9,12.5,8.5,8.1,7.8,8.1,11.2,4.1,11.6,5.7,8.0,7.6,9.7,5.3,9.4,12.5,5.8,8.9,7.2,9.4,8.5,7.2,9.5,12.1,8.1,9.9,5.9,6.6,9.4,11.5,9.2,7.9,8.5,6.0,9.7,10.3,7.6,7.6,9.0,7.6,8.4,12.7,8.0,7.8,7.2,10.0,8.1,7.2,11.1,11.3,7.3,4.8,10.5,7.1,10.1,4.6,10.3,6.1,10.0,8.5,6.6,7.7,9.9,8.7,9.7,12.5,5.4,11.7,8.7,6.7,5.8,8.1,10.3,8.2,11.5,5.6,8.5,6.0,9.2,10.3,7.7,3.3,8.9,9.4,9.3,11.0,6.4,9.9,10.9,4.9,9.1,7.5,8.3,9.2,7.5,7.1,8.6,6.3,6.3,9.9,6.2,9.8,9.4,5.0,7.1,10.9,6.5,7.6,9.4,10.1,8.0,7.3,11.3,12.0,10.5,8.7,6.9,6.8,9.5,9.3,11.3,9.8,5.5,10.6,6.5,7.7,9.0,12.5,14.7,9.7,8.1,9.6,10.3,7.9,12.1,9.0,9.5,9.8,9.3,10.2,7.3,7.4,6.3,9.4,10.1,9.4,11.8,8.5,9.8,6.3,7.7,9.9,10.2,7.9,8.4,5.5,7.8,10.3,9.7,9.5,8.6,8.5,7.2,9.9,9.3,9.5,7.4,4.2,10.7,7.5,6.8,9.9,7.7,10.6,9.7,9.9,5.8,10.9,9.0,7.8,8.8,4.9,9.3,6.4,5.8,5.5,10.7,7.2,11.6,7.4,5.1,6.3,11.0,8.2,7.4,8.8,9.5,10.7,11.4,7.8,5.8,7.7,9.0,6.6,6.6,9.2,8.4,8.6,7.0,8.0,6.7,10.3,10.6,4.8,6.6,5.5,7.2,8.3,5.6,6.7,6.5,8.9,8.6,7.1,8.9,7.4,8.0,11.8,11.2,5.9,10.2,10.1,6.2,10.1,11.6,6.3,6.7,10.5,9.0,9.6,9.2,9.3,5.8,10.6,10.8,8.0,8.4,5.4,9.5,9.6,8.4,10.7,7.8,9.6,6.5,8.5,8.2,9.0,7.8,8.2,10.2,7.6,5.3,12.0,11.3,5.9,9.9,7.5,9.0,9.1,8.0,6.9,7.1,6.7,6.8,8.4,7.1,9.9,11.5,7.3,9.0,9.5,9.4,8.7,10.0,9.5,6.0,10.2,10.3,7.0,8.6,9.9,8.1,10.6,13.2,6.9,5.7,9.1,9.9,8.0,11.4,5.8,9.9,7.3,11.9,12.5,7.0,7.4,10.2,7.7,8.4,8.6,4.7,8.5,7.1,7.5,11.4,6.0,10.1,7.9,7.9,10.1,9.2,9.6,10.4,7.8,7.3,6.3,6.8,14.4,11.0,5.8,5.9,9.5,9.6,9.6,8.0,8.2,9.2,8.7,4.1,8.0,6.8,8.9,14.5,9.2,7.9,10.3,9.5,9.3,9.7,12.6,6.2,9.4,6.6,9.6,6.7,7.7,7.9,10.5,10.3,6.0,8.6,7.1,6.0,8.1,7.9,13.4,9.4,5.7,7.4,10.5,12.7,5.3,4.7,12.2,9.3,6.8,9.6,3.2,8.5,9.2,10.3,6.5,8.7,6.6,9.0,6.7,7.7,6.5,9.8,10.2,8.0,8.6,5.6,7.9,8.4,13.7,6.3,11.4,10.5,9.1,12.0,9.2,9.3,8.4,10.9,10.7,7.2,5.9,8.1,6.9,8.4,11.0,7.6,8.4,8.6,10.2,4.0,7.3,8.9,10.9,7.5,4.7,9.7,7.2,6.1,7.3,8.1,7.3,4.1,10.3,11.0,9.8,6.2,8.1,8.5,9.7,9.8,7.0,8.7,9.4,11.4,9.9,10.1,8.7,11.3,9.3,6.8,11.3,9.9,7.6,7.5,9.1,9.4,8.9,9.1,11.9,10.6,8.9,10.4,6.4,9.3,12.1,8.1,6.8,7.2,6.3,6.9,7.8,5.7,8.5,10.3,6.7,11.5,9.5,10.6,7.2,10.2,6.3,10.3,8.8,9.6,6.1,6.7,9.7,6.6,9.4,5.8,10.2,6.0,9.6,9.8,7.1,9.7,9.0,7.4,6.5,4.6,9.2,5.4,8.7,8.0,9.9,7.9,7.8,10.0,9.2,9.1,9.4,5.4,10.0,9.7,6.5,8.0,8.4,8.2,9.2,11.4,10.7,5.9,9.7,11.2,9.3,10.7,12.5,10.5,9.0,10.6,8.8,8.5,7.8,11.6,6.9,11.6,9.5,5.7,9.2,4.3,9.8,10.3,7.3,8.7,12.4,7.5,6.4,11.5,12.4,8.5,10.5,11.2,7.0,7.5,11.0,11.9,9.6,6.7,12.5,7.4,7.8,9.2,11.6,10.2,9.3,9.4,8.6,9.6,3.4,7.9,9.0,6.2,9.3,8.1,12.0,11.6,7.6,8.2,8.4,7.6,8.9,7.0,6.2,9.7,9.8,6.9,10.3,7.2,9.0,10.1,8.4,9.4,7.5,8.1,8.1,7.0,8.1,5.4,7.5,7.9,8.0,8.0,8.4,9.5,10.2,7.2,6.1,6.4,7.5,7.8,7.0,5.9,7.6,8.9,9.7,7.4,7.7,6.6,8.4,6.8,9.6,4.9,7.8,9.1,8.9,13.9,9.2,6.5,8.3,4.9,8.3,6.8,10.3,7.4,8.3,7.2,12.0,7.9,12.2,10.1,9.5,9.2,9.3,4.6,7.9,10.2,8.4,5.7,8.4,11.9,11.0,8.4,10.4,7.8,5.1,6.7,11.6,8.0,8.0,7.9,12.3,11.8,12.9,8.2,9.1,5.5,11.5,6.2,8.9,6.3,7.3,6.8,7.3,7.4,7.4,10.2,6.3,8.9,10.9,7.5,7.1,8.0,10.9,8.9,7.4,9.5,6.3,9.9,9.3,7.9,6.8,6.7,9.6,11.0,7.2,9.4,4.3,7.3,8.4,6.7,6.6,7.2,9.1,8.1,4.0,4.3,7.3,9.4,3.0,7.5,7.4,11.3,7.7,9.3,8.8,4.2,10.0,8.9,9.5,16.4,4.3,11.9,7.9,9.1,8.4,7.7,7.4,9.2,5.5,10.0,7.7,6.2,7.6,11.0,7.4,9.2,7.0,10.0,9.9,12.2,8.1,9.8,8.7,11.1,7.1,10.0,8.1,8.4,8.7,9.0,8.3,8.9,11.7,10.5,10.2,7.6,6.7,10.4,10.3,11.4,7.3,8.0,5.2,7.7,10.5,7.6,9.8,8.1,9.1,6.2,8.7,2.5,8.1,5.2,10.9,10.1,9.4,11.5,6.6,12.0,10.4,8.0,10.8,6.3,6.9,7.3,7.4,6.4,10.9,8.0,9.2,7.4,4.9,9.0,4.7,8.4,5.8,12.5,10.3,8.7,11.0,6.8,9.6,8.9,9.0,11.0,10.0,9.1,5.2,6.6,8.3,8.7,6.2,13.3,11.5,9.7,8.6,8.1,6.6,8.7,9.0,6.0,9.2,8.2,4.7,6.8,7.7,12.3,9.6,5.8,9.5,5.4,10.7,7.6,8.3,11.2,5.9,5.7,7.3,10.6,5.5,2.8,7.6,9.6,10.9,7.6,7.7,10.8,4.8,7.7,8.9,9.4,7.5,8.6,3.5,7.2,9.4,6.5,8.6,9.4,7.8,8.8,6.6,8.1,9.7,8.8,7.3,8.9,9.9,4.4,10.8,7.8,9.4,10.9,5.8,7.1,7.9,6.9,12.0,6.8,7.4,8.9,6.1,7.7,9.1,7.8,8.3,7.4,5.5,9.1,12.0,8.5,9.0,9.9,6.0,11.9,8.9,11.8,7.0,12.1,10.1,9.6,9.0,8.0,10.9,8.8,4.6,6.3,8.1,9.1,8.4,10.9,4.6,8.8,4.9,10.0,8.3,9.3,6.8,11.1,10.6,9.7,8.2,9.7,7.1,10.2,11.8,10.6,7.0,9.2,5.9,9.6,9.4,4.8,6.2,7.9,7.9,6.1,9.3,9.0,8.1,7.0,10.6,11.8,7.5,7.3,9.5,7.8,8.2,10.0,4.7,11.1,8.6,7.7,8.3,8.4,5.0,11.5,8.6,9.4,10.4,6.5,9.4,8.0,10.2,4.2,8.3,7.3,9.4,9.4,7.1,7.1,8.3,6.7,10.2,7.8,2.7,7.8,6.4,5.2,6.0,8.7,11.2,9.1,7.3,9.4,7.6,7.1,6.2,5.0,7.7,8.8,8.3,7.7,6.6,9.7,5.9,10.1,6.5,7.0,5.6,7.5,10.5,9.5,10.5,9.5,6.3,7.8,6.9,11.2,6.1,10.3,10.3,12.2,7.7,9.9,13.1,7.3,5.4,4.7,9.9,4.7,7.8,9.4,8.9,9.4,8.9,11.1,6.6,7.1,7.0,10.2,10.3,9.4,10.9,6.1,11.8,11.5,10.0,12.1,5.2,7.5,7.0,9.9,6.4,10.0,11.2,9.9,9.1,6.5,6.8,11.0,10.1,8.4,7.7,4.4,6.4,12.3,5.9,8.9,10.5,6.0,8.9,10.4,8.5,14.2,5.2,10.6,8.2,10.0,9.4,7.0,9.0,4.8,9.7,9.1,9.8,10.6,9.2,8.8,6.7,7.1,10.9,11.4,8.0,8.6,6.7,10.8,9.8,12.4,6.7,7.7,9.0,9.8,8.1,6.8,10.3,9.9,6.7,11.2,10.8,8.8,8.7,9.6,6.8,8.6,4.2,10.3,5.4,11.5,7.8,8.1,7.2,7.9,11.3,3.5,11.1,9.2,6.1,6.3,11.9,6.6,6.2,10.8,9.2,6.6,8.9,6.4,10.7,10.6,9.6,9.2,12.0,8.5,6.1,9.4,12.7,6.5,7.8,9.3,8.4,6.5,10.7,13.1,8.9,6.7,5.4,9.0,10.7,9.5,8.5,7.3,6.3,10.2,10.3,5.4,11.7,9.6,11.3,5.8,5.8,8.2,9.5,12.1,9.9,8.0,6.4,11.0,6.6,11.8,7.9,11.7,9.9,8.2,7.5,7.8,9.4,8.7,7.3,8.2,8.7,4.2,9.4,6.5,6.2,5.1,4.9,5.8,7.1,12.4,7.4,8.9,9.3,8.8,8.3,6.1,11.4,12.1,5.1,6.5,7.9,6.6,9.5,7.0,12.8,10.9,8.9,10.6,10.7,7.4,6.9,8.7,10.2,8.8,5.3,6.9,8.4,8.3,12.4,5.7,9.5,11.5,13.0,7.7,9.5,9.6,8.9,8.3,9.4,3.4,9.9,8.8,8.1,12.6,7.2,7.7,12.5,6.8,7.4,8.2,10.2,8.9,5.9,7.4,7.3],\"type\":\"box\",\"xaxis\":\"x2\",\"yaxis\":\"y2\"},{\"name\":\"Stress_Score\",\"y\":[9,10,3,10,1,3,0,1,7,5,1,5,9,8,6,8,4,6,10,6,2,6,0,8,9,5,4,6,4,9,4,10,9,10,6,9,6,10,2,2,9,2,5,5,2,2,7,7,6,9,3,3,2,4,2,7,6,2,8,4,8,6,6,5,1,8,5,7,0,4,0,9,10,7,7,0,8,1,8,0,9,8,3,8,6,10,5,4,10,8,1,10,1,10,8,2,7,10,8,7,3,0,3,8,1,2,9,7,5,7,6,4,8,3,5,1,1,1,9,6,1,1,8,6,10,2,2,6,4,9,5,7,8,0,2,10,6,5,6,7,5,2,1,6,10,0,2,10,3,0,4,9,2,1,2,7,5,6,5,5,2,7,6,6,5,4,9,7,4,8,8,0,5,6,2,6,10,10,6,10,1,6,0,4,8,6,6,10,1,7,2,7,2,9,6,1,3,10,5,10,8,4,8,4,9,7,0,6,3,4,5,4,0,8,1,8,9,1,8,5,10,8,5,5,10,1,7,2,6,4,2,0,7,2,1,0,3,7,2,0,3,8,0,10,1,8,1,2,6,2,8,5,2,8,0,9,2,0,1,7,6,1,1,8,5,4,9,5,8,10,6,9,9,8,3,1,7,3,8,3,7,8,8,9,3,0,2,8,3,4,6,4,3,1,1,3,9,9,8,7,2,8,4,10,2,4,9,3,7,4,9,7,8,3,6,1,5,7,6,6,7,6,4,6,9,2,4,6,8,1,3,6,0,1,8,9,6,9,6,5,2,9,2,1,10,5,3,4,2,5,10,2,7,8,3,8,6,2,6,0,2,5,3,6,2,0,8,5,7,2,7,1,3,2,9,0,6,10,9,1,3,8,5,7,1,6,5,8,6,0,7,10,9,2,1,2,10,5,2,9,4,5,7,6,10,7,2,3,5,10,6,8,0,7,7,5,3,2,10,2,5,7,6,10,0,10,5,6,6,8,10,10,9,4,0,1,3,4,8,10,0,2,4,2,3,2,3,0,7,3,6,1,1,5,1,5,10,1,3,6,7,2,8,1,7,7,3,0,0,1,8,1,1,5,6,6,8,5,7,10,5,1,0,4,8,7,3,4,4,5,2,4,1,9,0,10,0,9,6,1,3,4,6,1,5,0,6,8,4,4,3,2,8,4,7,8,4,9,8,1,8,10,3,5,5,5,1,6,5,10,0,1,6,0,0,0,7,3,3,1,10,10,10,0,9,8,6,3,5,1,6,1,9,7,7,0,7,1,5,0,4,10,6,9,0,1,6,5,2,9,1,9,3,2,6,7,1,9,6,7,5,5,9,0,3,0,3,1,10,4,9,8,10,9,2,7,2,5,3,7,10,5,7,0,5,0,0,7,6,2,5,8,6,2,5,10,3,2,8,9,1,0,1,6,9,0,5,6,8,7,5,2,7,6,2,8,1,2,1,0,3,4,5,4,0,2,0,10,4,4,10,5,7,9,0,3,9,10,0,8,10,6,6,4,6,1,3,6,2,1,9,1,0,4,5,5,8,3,0,5,4,9,5,2,1,5,0,6,6,9,6,10,9,0,3,6,10,8,4,1,6,9,0,6,5,6,9,2,2,6,1,0,8,8,6,6,2,9,1,10,6,8,0,3,5,6,9,6,9,1,3,4,0,0,9,2,9,2,7,8,10,0,10,1,9,1,3,1,6,8,6,5,9,0,10,9,8,4,10,4,5,8,7,7,7,0,0,7,4,8,1,8,7,8,3,0,0,4,1,7,9,10,4,4,1,6,7,9,0,1,9,3,4,1,0,8,0,3,1,10,3,7,7,10,8,10,4,6,2,9,3,9,8,9,9,0,1,4,2,1,0,9,2,0,0,0,7,2,10,0,6,9,2,7,3,3,4,5,6,3,7,5,0,0,8,9,5,9,7,6,5,3,6,8,10,9,9,6,0,9,8,3,2,3,3,9,10,1,0,9,0,7,1,9,4,3,7,1,9,8,6,6,0,1,3,3,10,2,6,7,1,3,2,1,5,3,5,1,3,10,5,4,2,7,6,2,5,3,10,4,10,4,6,10,4,10,2,9,4,6,4,4,8,2,5,0,9,4,7,4,8,10,5,7,9,7,2,6,6,9,5,6,1,8,9,9,0,0,2,2,0,6,3,9,1,9,4,5,8,3,1,4,2,1,0,9,1,5,7,2,10,8,8,1,7,9,10,4,3,9,4,3,7,3,9,5,1,4,5,4,1,6,3,7,6,6,8,0,9,5,5,5,5,9,6,9,5,0,2,1,5,7,2,9,7,7,4,7,5,4,8,6,7,0,10,1,7,8,3,9,10,9,8,3,9,9,9,8,10,6,1,8,3,7,6,6,7,0,4,1,1,0,4,1,3,2,2,1,5,1,7,7,4,9,6,3,0,10,1,9,9,3,0,7,8,3,9,2,1,4,2,9,6,10,5,0,7,1,4,8,7,1,8,4,9,5,2,2,9,7,10,9,9,1,10,1,4,5,1,4,6,9,9,7,6,7,8,4,4,10,9,3,8,4,1,9,7,6,7,2,3,4,5,0,3,10,9,4,6,4,0,10,6,7,6,10,3,7,4,9,8,9,4,0,8,4,5,3,5,7,2,4,1,1,6,9,9,10,9,5,3,4,0,6,7,8,7,4,2,9,10,8,5,4,2,5,2,9,5,3,1,7,3,8,6,1,3,4,2,8,4,1,10,2,8,6,1,8,3,8,1,9,3,4,1,9,0,6,9,0,10,10,7,2,9,5,6,9,0,5,6,5,3,0,10,8,3,6,6,1,0,7,7,6,7,2,10,1,6,7,0,9,8,10,3,3,2,5,0,5,1,8,1,6,0,6,4,7,3,9,6,5,4,3,6,4,4,0,1,4,2,1,3,3,3,3,2,6,8,4,3,10,1,1,4,6,9,9,8,6,4,9,9,9,5,10,2,4,7,0,0,6,4,4,0,8,0,4,9,8,3,7,5,10,2,3,1,0,7,0,10,0,3,9,9,5,8,0,6,9,10,4,7,6,3,3,5,5,8,4,7,4,1,5,8,2,0,0,2,9,4,2,8,7,2,8,5,6,3,3,1,4,7,6,6,5,2,4,0,6,8,0,1,2,2,7,6,5,9,9,10,3,8,0,10,1,3,2,0,4,6,1,4,5,10,6,0,6,3,7,3,5,8,4,3,7,8,3,2,7,4,1,9,8,2,1,0,7,10,2,6,0,0,8,7,2,5,10,2,3,0,4,0,0,9,10,10,6,5,1,10,1,10,6,0,1,7,5,1,6,3,1,5,10,8,10,8,7,2,2,1,4,3,6,3,8,1,10,5,6,3,5,6,3,7,8,0,6,8,9,4,1,9,5,6,1,1,9,9,0,3,6,8,2,10,6,6,6,1,5,1,5,9,2,1,5,1,4,1,2,2,5,5,9,2,2,0,6,7,1,3,9,6,7,0,3,5,2,4,9,8,10,2,4,7,5,3,7,10,2,2,3,8,4,7,5,2,7,8,7,3,10,5,0,3,7,0,2,0,8,1,8,3,1,3,10,10,9,5,10,6,2,2,9,7,4,3,6,6,8,8,4,7,9,0,8,7,5,2,2,7,4,9,10,6,4,7,9,9,3,1,2,7,10,6,1,5,8,3,8,1,1,8,6,6,0,10,5,6,10,5,5,1,5,3,8,0,7,4,0,3,0,5,1,4,6,1,5,5,4,4,2,9,9,10,1,6,0,5,5,2,1,1,8,10,4,6,4,6,3,7,10,9,10,9,6,9,4,10,5,4,6,1,4,9,2,8,5,9,2,6,3,2,7,3,10,0,5,9,10,10,0,4,6,5,1,10,3,10,1,10,0,2,2,6,0,8,10,5,3,2,2,1,1,9,4,8,1,1,5,9,1,3,5,4,0,5,0,2,9,4,9,4,9,5,9,7,4,10,0,4,2,3,7,6,10,4,1,5,10,5,9,9,10,5,8,10,7,7,0,4,6,5,4,7,2,5,4,7,3,7,9,1,8,8,9,9,5,3,3,5,4,5,6,6,8,7,5,5,4,0,8,8,8,10,7,9,2,0,10,7,6,4,9,6,9,3,8,10,9,1,8,8,4,10,0,6,9,9,3,8,5,2,5,9,5,4,1,9,9,1,6,1,5,4,3,6,7,3,0,0,0,10,0,4,3,8,2,6,10,7,5,9,0,7,9,2,7,3,7,10,0,2,5,8,1,10,0,9,2,3,10,4,2,9,10,1,1,6,8,9,1,6,6,10,6,2,6,0,9,0,4,1,8,6,3,3,1,4,3,0,7,2,5,3,8,6,8,9,2,0,4,2,5,7,10,3,4,4,3,3,3,3,3,4,1,1,8,1,5,1,4,3,6,6,5,9,4,0,2,8,0,4,1,3,10,0,2,9,6,9,2,3,1,2,8,2,10,4,1,3,6,6,2,4,0,9,9,9,10,0,4,9,8,0],\"type\":\"box\",\"xaxis\":\"x3\",\"yaxis\":\"y3\"},{\"name\":\"Sleep_Duration\",\"y\":[6.4,5.4,7.1,4.2,5.8,5.2,7.8,7.2,4.7,6.2,5.3,7.9,8.4,4.3,7.7,5.3,6.1,6.5,9.2,5.0,7.8,4.7,4.6,6.5,6.5,2.3,8.2,3.3,6.3,8.5,9.8,6.0,4.4,8.4,7.8,5.8,5.6,5.4,6.0,7.0,5.7,5.8,7.5,4.3,5.9,4.0,6.7,3.6,7.8,4.5,3.8,6.0,9.1,7.6,3.6,4.5,5.9,9.9,5.1,5.1,8.8,6.8,8.1,5.4,6.3,8.5,6.3,8.2,7.1,4.9,6.5,8.0,7.5,6.4,3.7,3.8,4.1,5.7,5.9,4.3,8.0,4.6,4.4,6.6,8.0,9.6,7.4,8.9,4.7,9.7,3.7,5.7,7.3,4.1,5.1,4.9,6.0,8.6,6.5,5.8,2.2,7.2,7.7,3.9,6.4,6.8,7.9,5.4,5.2,5.8,8.4,8.1,6.5,8.0,2.9,7.7,4.8,9.2,4.9,5.2,7.3,7.5,5.8,7.1,7.2,7.1,5.9,7.3,8.6,4.7,5.2,6.5,4.9,3.8,8.1,3.2,5.9,7.6,6.9,5.9,4.9,7.0,5.0,6.9,6.7,6.7,5.5,9.6,7.0,6.1,6.9,5.3,5.9,10.1,5.3,6.4,5.8,4.9,7.1,6.6,7.9,7.7,7.9,5.1,7.5,7.5,5.0,6.0,4.3,7.5,7.5,8.6,6.2,7.2,8.0,5.4,5.1,5.4,6.0,5.2,5.5,7.8,6.4,7.0,5.7,5.6,6.9,6.7,7.7,8.5,5.5,7.8,4.9,9.6,5.3,7.5,4.9,6.3,8.8,5.3,9.8,6.5,8.0,7.1,7.2,4.4,5.8,8.3,6.0,6.7,4.2,5.7,8.2,4.6,7.6,6.8,6.1,6.1,5.8,5.9,7.9,5.9,9.2,6.9,5.6,8.0,7.4,4.0,4.9,6.3,4.1,9.6,7.7,6.5,6.0,5.6,3.6,3.9,9.4,8.9,5.6,7.9,7.3,7.4,4.4,3.8,8.3,3.5,6.3,5.9,5.8,7.0,5.5,7.1,6.7,9.6,4.4,6.5,7.1,6.1,4.5,8.4,7.0,4.6,7.2,9.1,6.4,6.5,8.9,5.0,9.1,8.0,5.1,5.5,5.7,3.7,6.9,5.2,6.9,4.6,7.9,7.6,5.4,7.0,6.6,8.7,5.0,6.3,5.5,6.6,7.3,5.5,6.0,7.9,8.5,7.2,6.3,6.2,7.3,6.8,4.0,7.4,5.2,4.4,4.0,6.2,5.0,3.0,6.0,5.8,6.3,5.6,9.2,7.3,5.8,6.4,8.6,7.9,4.4,5.0,5.3,5.8,5.6,6.6,7.6,7.9,6.0,4.0,4.9,5.7,4.6,8.2,4.7,7.4,4.0,7.5,6.3,8.8,4.8,5.7,5.9,6.3,6.0,6.0,6.0,3.4,8.0,10.8,6.9,4.8,4.9,7.4,7.1,6.1,7.6,3.4,7.6,6.9,5.0,4.4,6.7,8.6,6.2,5.2,6.8,9.2,7.1,7.3,8.3,7.2,5.3,3.9,5.1,4.8,7.5,7.7,6.8,4.6,9.2,5.9,7.4,6.6,6.8,7.4,5.5,8.5,4.1,4.9,8.4,7.4,10.3,6.6,9.1,3.7,4.4,7.8,3.9,6.2,8.3,7.3,6.5,5.8,6.8,7.4,5.5,7.1,8.1,6.2,6.6,7.2,7.3,7.8,5.0,5.7,5.8,5.1,3.8,1.6,8.3,4.2,8.8,7.6,5.9,7.4,7.1,4.8,6.5,5.0,7.5,5.4,6.4,6.3,6.7,9.0,6.1,8.3,7.2,8.6,6.0,7.5,6.4,2.0,4.9,7.4,7.3,4.6,6.8,7.3,6.4,7.6,7.4,6.4,5.7,8.1,7.2,4.4,6.8,4.8,5.1,5.5,6.6,7.1,5.9,6.0,5.7,8.1,2.2,6.0,8.8,7.3,8.4,3.4,4.6,7.3,8.8,4.8,5.9,7.1,4.3,7.3,2.5,7.2,5.0,5.8,7.5,7.2,6.5,8.0,3.9,6.8,5.3,7.9,7.5,7.6,9.0,8.2,6.3,6.5,7.4,6.7,7.6,3.2,9.3,6.6,4.1,5.1,3.3,4.9,6.3,8.8,7.1,6.8,4.8,5.3,5.4,5.4,6.0,6.1,6.0,5.5,6.7,6.0,4.1,6.6,6.3,4.1,5.6,7.4,4.8,4.6,6.0,7.4,9.2,7.5,8.1,7.0,5.5,7.5,6.4,7.1,5.1,7.2,6.3,6.8,6.4,6.1,7.2,5.9,4.1,3.7,6.8,5.8,3.9,6.7,6.4,5.8,6.9,8.5,8.4,6.7,6.4,6.7,7.0,6.1,6.8,4.1,6.6,7.2,5.8,6.4,4.8,4.6,6.8,5.4,3.8,4.8,5.1,7.7,6.8,5.2,5.6,8.5,7.9,4.8,8.2,6.4,7.7,6.3,8.3,4.8,6.1,8.3,2.9,6.4,5.9,7.5,8.1,7.6,6.9,6.6,6.0,6.8,8.7,5.3,5.9,6.4,8.0,6.8,8.0,8.1,7.4,4.9,9.0,8.6,6.6,4.4,4.2,6.9,5.4,3.9,4.1,5.8,6.8,8.6,7.2,5.9,7.1,6.9,7.6,6.4,8.1,7.7,6.6,6.3,7.9,5.4,4.2,4.2,5.3,7.5,5.9,6.8,5.8,5.8,5.0,6.4,6.2,7.1,6.9,6.2,4.2,8.1,6.4,6.6,8.9,7.9,7.2,6.5,6.5,6.9,7.1,9.1,10.2,6.9,3.3,5.1,9.2,7.6,7.1,6.2,4.7,9.0,5.3,7.6,4.5,6.2,8.0,6.1,5.9,6.5,4.5,4.2,7.6,5.9,7.6,8.2,8.3,4.1,5.5,7.3,7.3,9.9,5.1,8.3,7.1,4.0,5.7,6.9,3.9,3.4,3.9,6.9,5.8,5.6,5.6,4.4,5.8,3.8,8.3,9.0,3.0,5.8,5.9,6.2,8.0,5.8,6.4,11.0,6.3,9.1,7.3,5.7,5.4,6.5,4.8,5.2,5.9,6.9,9.2,5.8,7.2,4.1,8.1,3.9,7.7,6.4,6.3,6.0,4.5,4.6,7.8,6.5,6.0,7.2,6.7,5.3,10.2,7.6,6.7,5.7,7.9,5.3,5.2,9.0,6.5,5.4,6.5,7.8,7.4,8.0,4.6,7.9,6.2,6.6,8.3,7.6,7.0,3.5,6.4,5.3,7.6,8.0,6.0,5.5,8.8,5.6,4.7,5.3,5.7,5.2,7.8,3.2,5.2,6.4,6.8,9.0,8.8,4.1,3.6,6.5,5.5,4.7,6.5,6.8,5.2,5.6,5.4,5.9,7.3,4.9,5.5,5.9,6.5,6.9,9.6,7.4,7.4,6.1,5.0,5.7,5.4,7.1,4.0,7.4,6.3,7.6,5.4,5.1,5.9,5.9,7.7,7.7,9.4,5.8,1.5,5.9,6.8,7.6,7.0,5.8,9.1,4.9,6.1,4.9,6.5,8.9,6.3,6.3,4.0,6.1,8.2,6.1,6.0,8.2,6.0,8.4,4.6,7.5,9.0,8.0,3.7,5.5,6.1,8.0,4.5,5.0,4.1,5.3,4.6,8.9,5.5,7.5,6.5,6.5,5.6,7.7,6.7,6.6,5.6,5.9,7.4,6.8,6.7,5.4,9.4,5.8,6.5,6.2,9.4,6.1,5.9,6.7,5.5,6.7,10.1,6.9,6.9,5.4,9.1,9.4,7.8,7.5,6.1,7.1,5.2,4.8,4.3,7.1,4.4,5.8,6.4,8.0,5.6,8.2,7.9,4.9,8.2,6.1,5.8,6.1,6.5,5.9,5.2,5.4,6.7,6.3,7.3,6.6,6.6,7.4,8.6,8.7,8.5,7.8,9.6,7.2,7.0,9.9,2.4,6.2,8.4,8.0,10.3,6.7,5.9,6.0,7.0,8.9,9.0,6.4,6.9,5.6,5.7,8.1,8.9,5.5,6.9,6.1,7.8,5.9,3.6,8.0,6.0,6.2,7.2,7.0,7.2,4.1,7.3,3.6,7.7,8.2,4.4,7.0,8.1,5.8,7.5,2.3,8.1,6.5,6.1,8.0,9.1,7.2,8.9,4.2,7.5,6.3,5.3,3.6,7.4,7.8,8.5,8.3,5.3,8.4,8.6,6.1,6.5,5.1,8.7,4.2,7.3,5.6,4.8,3.7,6.2,4.6,6.6,9.2,6.8,9.5,5.0,4.6,5.0,6.4,10.6,4.0,7.4,5.5,6.2,4.6,7.8,6.4,8.1,6.8,3.6,8.1,3.5,3.7,5.1,5.1,8.6,6.2,8.4,5.6,7.0,7.2,7.5,5.8,5.9,6.1,4.0,6.4,5.9,7.4,6.6,8.5,6.6,5.7,6.6,7.6,3.8,5.4,5.5,7.1,7.3,6.7,2.8,4.0,6.1,5.7,6.5,5.8,8.8,3.1,7.0,7.7,7.6,7.7,7.9,5.6,4.8,3.4,6.0,5.3,8.2,6.1,5.0,4.7,9.5,6.5,5.3,6.7,9.3,5.9,7.5,8.3,3.7,5.5,8.1,5.5,7.1,5.4,5.8,5.6,7.5,6.8,6.6,10.3,9.1,3.5,5.8,10.1,5.6,9.6,5.9,6.1,7.8,6.4,7.2,8.9,7.6,6.7,9.0,7.8,5.4,9.5,7.5,6.2,3.5,4.4,9.1,9.1,6.6,3.8,4.9,4.1,4.0,9.5,9.6,4.8,6.5,4.6,6.5,9.0,8.1,7.7,6.2,8.4,7.5,7.1,6.3,7.0,6.9,5.7,5.3,5.0,5.1,6.2,6.0,5.6,5.5,6.9,8.6,6.5,6.4,5.1,6.2,8.3,8.1,8.0,7.9,7.2,7.1,6.9,5.9,6.6,6.8,7.4,6.7,9.7,4.7,7.6,6.4,6.5,5.3,8.0,7.5,7.8,6.8,6.0,6.4,7.2,3.5,7.8,10.1,7.2,6.1,6.3,7.6,6.1,7.8,6.2,9.1,9.0,6.0,6.4,6.5,6.5,5.1,4.9,8.4,8.1,8.1,6.4,9.3,6.5,7.8,4.4,6.2,6.3,6.4,4.5,7.6,8.0,5.4,4.8,5.3,7.2,5.6,6.3,4.9,9.5,6.6,8.2,7.2,6.4,6.4,5.4,5.8,5.0,4.8,9.6,6.9,8.7,5.3,4.6,5.0,5.9,6.6,6.3,5.3,6.6,6.8,7.6,8.7,6.0,8.3,6.6,4.2,9.2,9.9,7.4,6.6,6.1,5.8,8.3,6.5,9.0,6.6,5.9,5.6,5.4,7.3,4.6,5.3,8.5,5.1,7.8,3.4,8.7,4.6,5.2,7.5,6.9,7.8,4.6,6.1,5.6,4.8,7.4,7.9,6.0,8.8,5.3,8.7,7.3,4.7,9.5,5.8,8.3,6.7,7.1,7.9,7.8,6.0,7.3,7.2,6.8,6.2,6.8,9.5,6.1,8.3,5.6,5.2,11.4,7.3,7.4,7.4,8.6,7.1,7.7,4.9,8.0,6.1,7.5,3.9,7.4,3.1,6.1,3.9,7.4,6.6,5.3,8.7,5.2,2.0,7.3,3.9,5.2,5.7,4.4,5.8,4.4,6.7,4.7,6.5,8.2,7.7,6.4,5.0,6.7,5.5,6.8,3.9,7.7,6.5,9.8,8.5,7.3,6.3,5.4,7.9,6.2,8.3,7.1,7.1,7.4,5.1,5.0,4.9,8.1,5.1,5.3,7.3,6.1,5.9,5.8,3.0,5.0,8.3,5.7,3.6,5.0,7.0,7.0,6.1,5.5,4.4,7.1,7.8,8.4,4.8,8.5,6.4,6.5,7.8,5.7,3.3,7.6,7.0,6.0,7.4,7.7,4.2,6.5,3.1,6.3,5.9,7.2,4.9,5.9,1.7,7.3,6.4,6.6,4.3,7.1,9.0,6.2,7.5,5.2,6.4,4.2,7.7,6.7,4.7,5.3,6.6,7.9,8.7,6.3,4.5,6.9,9.2,4.1,5.1,7.4,6.7,5.7,6.8,8.0,6.4,6.2,7.4,6.1,8.2,9.5,5.2,4.6,7.1,4.6,4.5,3.4,5.9,6.5,5.7,8.6,8.5,9.4,6.6,8.3,7.0,6.8,5.8,3.1,7.5,8.2,4.2,6.5,8.0,6.0,8.3,6.3,5.7,8.4,5.1,5.4,5.2,4.8,6.7,5.7,7.2,3.9,4.8,6.6,8.7,7.1,5.6,4.3,5.5,6.4,3.0,4.7,5.4,6.1,6.4,5.6,7.3,6.7,5.9,7.5,7.3,4.3,6.5,7.8,8.1,7.1,6.2,7.1,7.7,6.7,6.8,6.1,4.5,6.2,5.5,5.5,8.7,7.9,4.0,4.9,6.0,5.5,7.0,4.6,7.9,6.4,6.0,6.5,5.9,3.5,6.5,6.0,5.1,8.1,7.5,10.2,7.8,5.5,5.1,5.8,5.5,6.7,4.2,7.5,6.6,7.3,4.8,6.9,8.4,5.2,5.2,7.6,5.0,6.2,8.7,5.2,8.8,6.0,4.8,7.4,6.7,6.5,5.3,6.7,3.4,6.8,8.4,3.9,5.9,5.2,4.2,3.4,4.7,6.1,8.2,4.2,6.9,6.8,9.0,7.4,7.4,7.5,5.1,5.6,8.2,3.4,5.5,4.5,6.9,5.9,7.4,6.3,4.2,4.3,6.5,5.3,5.7,7.9,7.6,9.2,6.0,5.5,7.1,5.7,5.7,6.2,9.0,7.6,7.7,8.9,7.9,4.8,7.8,8.0,7.5,6.2,7.3,6.5,5.0,5.4,7.6,5.1,5.3,7.6,6.7,7.4,4.7,7.3,5.5,5.0,5.7,8.5,6.0,9.8,3.4,4.2,8.5,8.9,5.2,6.6,7.6,6.2,6.7,6.5,4.3,6.0,6.5,6.7,3.9,7.6,6.7,4.9,9.2,6.0,6.1,7.5,9.3,7.5,7.7,5.0,6.6,5.7,7.6,7.7,8.9,3.3,5.6,8.5,4.4,7.7,8.2,6.5,4.4,6.3,8.7,8.8,6.8,5.0,9.1,7.7,5.1,7.0,6.9,5.5,7.0,8.2,6.1,8.3,3.9,9.8,6.6,8.1,6.8,5.3,6.4,3.6,7.5,6.8,6.2,7.6,6.6,7.4,7.9,5.7,5.2,3.9,6.7,7.2,4.5,8.6,5.3,3.3,8.7,3.5,7.9,7.6,7.0,5.7,7.3,8.1,5.0,8.0,7.9,6.9,5.7,7.9,7.3,5.0,5.9,7.7,6.7,8.1,6.0,5.0,9.8,4.0,5.8,6.9,8.0,7.5,10.0,6.3,5.2,6.2,6.0,6.4,5.0,7.7,7.1,4.6,8.0,5.3,4.7,6.6,3.9,7.4,2.2,5.0,8.9,5.5,5.7,8.4,5.3,7.6,8.3,7.2,4.3,5.6,10.6,5.8,11.0,9.1,7.3,6.9,5.8,6.4,5.5,6.4,4.5,4.4,8.5,4.1,7.8,3.7,7.4,6.2,8.5,6.0,3.5,6.2,6.7,6.3,7.4,5.7,4.6,5.0,5.7,5.7,10.1,8.4,7.5,7.2,6.9,7.0,6.7,6.6,3.4,5.9,6.1,5.4,5.7,7.0,7.7,6.9,7.6,7.6,6.1,7.3,3.9,5.9,5.7,8.8,7.0,4.5,7.4,7.9,6.4,7.5,2.8,2.5,4.7,6.7,8.8,4.8,5.2,6.6,5.8,5.7,5.9,8.5,8.2,6.5,9.0,7.3,8.2,5.2,5.5,5.5,6.4,6.6,7.0,9.5,7.6,5.7,6.5,8.8,7.7,8.7,5.8,5.4,5.5,5.9,4.9,6.9,7.0,8.5,3.9,5.1,7.7,6.8,6.6,8.4,5.0,5.4,5.2,3.5,6.7,5.7,5.4,5.1,6.5,5.3,6.8,7.2,6.1,6.0,6.8,6.5,8.5,7.0,8.1,7.4,4.5,5.7,6.4,7.8,9.4,5.8,6.6,7.7,6.4,9.0,4.5,7.5,7.5,8.2,6.6,7.8,6.1,5.3,5.1,4.3,5.8,7.0,6.2,6.8,8.4,5.7,10.0,7.6,6.2,6.2,5.0,6.5,3.3,8.4,2.3,6.6,4.8,5.4,5.6,9.4,4.8,7.9,8.2,3.0,5.6,8.7,4.5,8.3,6.5,6.4,6.6,7.0,5.1,6.1,7.1,6.8,7.0,5.4,7.4,6.7,4.1,5.7,5.2,5.1,5.8,7.4,5.6,6.8,6.6,5.3,6.0,7.8,6.7,7.3,8.4,7.2,3.6,6.9,5.6,9.2,7.1,5.6,7.3,6.6,3.9,7.8,5.9,8.6,6.3,8.7,7.1,8.0,5.8,7.0,3.9,6.3,4.3,4.8,5.2,7.5,6.3,6.5,6.2,8.1,6.5,6.9,5.6,8.2,8.3],\"type\":\"box\",\"xaxis\":\"x4\",\"yaxis\":\"y4\"},{\"name\":\"BMI\",\"y\":[25.8,23.4,18.7,22.1,16.2,21.9,27.6,25.8,36.5,24.3,24.0,30.8,17.3,19.3,29.0,25.1,25.2,21.8,27.1,22.4,26.3,20.8,25.2,35.1,24.1,25.4,25.1,26.8,28.1,27.2,27.3,25.2,26.5,25.0,17.8,37.8,29.3,21.6,27.0,19.9,23.8,19.3,25.8,18.9,27.7,29.1,22.3,26.7,22.0,28.3,22.9,29.6,17.8,21.5,21.0,26.9,28.5,27.3,23.7,13.4,26.2,29.5,38.1,24.1,23.0,27.4,24.8,31.7,22.4,24.9,29.9,27.4,31.2,24.0,31.7,18.5,18.7,31.8,26.0,30.1,26.4,26.0,20.0,25.9,32.1,26.3,29.1,28.9,21.4,29.9,24.6,24.8,35.4,28.7,23.1,26.3,26.2,33.6,26.2,35.9,20.2,25.9,22.6,23.8,23.9,22.8,33.8,32.4,27.8,23.9,22.9,29.3,27.4,25.3,28.4,30.0,25.3,22.5,20.1,27.1,35.8,21.0,30.9,23.0,23.9,30.1,24.9,27.1,27.0,23.0,30.0,25.7,19.8,22.0,12.0,26.2,31.9,21.3,28.6,27.9,22.6,32.9,24.8,35.0,18.6,24.8,25.3,25.8,29.2,41.3,28.0,26.1,21.1,17.5,31.3,23.5,37.7,29.9,27.5,27.8,27.8,22.9,18.1,23.5,25.9,23.1,20.2,22.6,30.7,29.4,26.8,28.6,20.9,22.4,27.4,21.5,26.5,20.3,18.6,29.3,30.6,23.2,19.2,16.1,34.3,26.5,23.3,24.4,17.4,28.8,35.0,22.5,36.7,25.5,33.5,27.4,27.4,34.3,29.5,27.7,17.3,19.2,28.1,32.6,26.6,23.3,17.7,22.5,26.6,22.1,21.7,25.8,32.5,29.1,27.3,26.8,28.5,25.5,24.2,29.3,25.0,20.7,32.5,17.6,32.8,28.3,21.6,26.1,24.1,29.6,29.5,28.1,29.4,25.5,33.9,31.5,23.9,29.6,29.3,24.8,24.5,31.5,25.9,27.2,32.3,37.4,23.6,25.0,26.3,26.4,27.7,23.8,20.3,33.9,28.8,24.1,28.0,34.2,22.5,27.0,19.7,25.5,28.8,21.0,25.2,29.6,28.7,20.8,27.7,28.5,26.5,30.9,23.3,27.9,20.8,18.8,29.5,26.1,23.9,21.2,29.7,19.2,30.5,28.0,19.4,26.6,37.9,31.4,22.3,29.2,19.6,19.8,25.7,28.5,29.7,29.7,28.2,18.7,25.7,30.4,28.0,26.8,27.5,27.4,17.2,31.2,25.5,29.2,15.6,33.5,20.8,37.4,35.5,20.0,29.7,21.4,23.1,23.2,28.0,27.5,20.6,28.0,25.1,17.8,24.0,33.5,24.2,17.7,29.7,21.8,27.0,25.2,33.9,25.2,20.8,23.9,20.5,25.1,34.0,31.6,35.2,28.2,26.6,21.5,27.2,25.4,29.5,20.9,26.2,18.9,27.5,29.0,18.7,20.0,20.2,25.2,19.7,32.2,28.0,28.7,18.8,31.8,28.9,22.9,19.1,25.7,23.9,24.1,22.8,29.2,14.3,32.4,30.5,26.9,25.4,30.9,25.8,24.7,31.1,35.4,21.6,27.9,21.1,28.3,22.5,31.5,25.5,26.2,33.3,22.7,29.1,23.1,31.4,34.0,24.8,16.1,22.9,36.9,23.3,34.0,23.3,23.2,29.5,29.0,29.8,26.0,30.7,30.3,31.2,23.2,30.7,23.7,25.3,25.2,21.5,18.2,31.5,22.8,24.8,22.7,24.8,23.7,31.8,23.3,33.7,31.1,23.9,27.4,28.3,29.8,30.2,26.8,21.7,28.9,24.9,13.4,27.8,22.7,23.9,26.0,19.0,26.6,24.6,22.1,26.2,18.4,26.3,28.1,27.4,29.5,31.2,25.6,30.9,25.6,22.9,24.2,27.2,30.9,26.0,23.0,32.5,19.5,23.0,30.0,33.9,28.2,27.1,24.7,28.5,26.6,22.6,24.6,22.1,26.1,26.7,33.4,23.3,25.2,31.7,34.1,28.1,24.9,23.9,17.7,21.8,26.5,25.2,28.8,25.1,22.7,27.5,37.3,24.6,26.6,29.8,23.4,31.7,18.9,24.2,24.6,26.7,17.1,32.1,27.9,31.1,33.3,22.7,14.8,31.2,24.7,20.9,28.6,37.1,25.5,30.3,21.6,18.4,30.1,28.5,23.9,33.7,18.1,20.5,23.6,24.4,32.6,26.2,25.1,20.3,30.9,20.9,20.3,24.2,26.7,22.8,29.2,24.7,30.7,28.3,34.1,24.0,29.8,18.0,39.0,29.6,24.7,24.8,24.9,34.3,30.0,24.0,20.4,31.4,29.8,29.2,25.6,24.7,33.6,34.0,28.9,30.4,27.1,19.8,21.6,31.2,31.7,30.7,27.6,30.9,25.7,28.8,25.1,21.2,29.9,31.7,37.1,27.2,21.3,24.5,25.4,26.7,28.1,27.6,29.5,26.9,16.0,27.0,26.4,28.5,24.4,27.0,28.5,25.3,29.0,26.3,26.7,12.8,20.9,20.9,27.0,31.7,25.5,29.8,28.9,26.6,28.6,27.1,25.4,27.8,32.5,28.1,27.0,22.1,32.4,19.7,18.3,27.7,22.0,30.9,18.4,30.3,29.7,26.5,16.6,18.2,27.1,25.0,29.3,25.7,25.3,15.1,29.7,23.1,24.2,21.2,19.1,32.6,29.6,29.7,25.0,18.2,35.5,27.9,26.6,24.4,16.8,31.1,21.2,28.5,29.5,27.5,28.1,32.1,22.4,26.7,25.0,17.7,27.3,31.6,32.2,34.4,18.0,33.3,26.8,33.2,24.2,23.6,20.5,29.5,28.3,21.0,16.3,27.9,28.4,21.6,20.7,29.0,34.4,23.8,22.0,27.3,28.9,24.4,35.1,30.1,24.3,18.8,31.9,31.4,24.6,27.6,25.3,28.3,21.4,20.7,29.6,30.2,23.8,22.6,31.2,22.8,26.2,25.7,19.4,26.9,26.4,27.6,26.7,35.6,31.2,26.2,26.6,33.9,29.9,20.5,30.3,31.6,33.3,24.2,23.9,21.8,27.4,29.3,23.7,25.4,16.8,32.8,19.0,27.7,27.1,26.2,26.3,21.4,24.5,30.4,31.7,24.1,19.0,22.5,34.3,22.8,25.6,32.4,23.6,25.3,29.6,33.7,23.1,32.3,24.7,22.0,27.1,20.8,28.1,40.2,31.0,25.5,30.7,21.8,22.6,25.7,26.4,20.2,24.6,25.3,32.9,20.2,19.8,26.8,31.2,28.5,27.4,24.7,29.0,29.7,24.8,21.7,21.8,30.0,19.1,33.5,23.9,27.4,29.2,22.9,23.9,26.6,22.2,21.2,21.6,31.4,27.8,22.4,29.9,22.7,17.2,29.1,33.4,28.5,17.5,25.9,24.8,27.7,22.2,24.5,19.6,27.0,19.8,28.0,22.6,11.9,29.6,28.2,32.1,16.6,23.1,26.6,28.6,19.4,27.9,23.4,17.7,22.6,28.3,17.8,28.9,27.3,24.9,18.6,19.0,24.2,20.9,24.5,30.1,24.8,24.6,24.7,30.6,31.8,27.9,26.6,27.0,32.4,28.1,32.9,24.1,20.0,23.0,23.5,33.2,29.3,23.1,29.6,25.4,33.4,24.5,19.1,25.2,24.5,20.0,28.6,32.4,20.9,30.4,23.3,25.9,25.4,25.9,28.1,21.4,31.8,28.3,29.8,22.5,21.0,31.3,20.8,26.7,30.6,25.4,31.3,24.8,20.3,27.7,26.9,38.1,21.7,24.9,22.7,25.4,25.2,22.1,28.1,25.0,32.1,23.1,34.4,27.2,31.7,26.5,22.5,24.8,19.8,25.5,26.8,26.2,32.0,25.3,17.5,41.9,22.9,30.4,19.2,27.1,22.4,13.3,24.7,25.8,25.0,27.1,24.8,26.3,26.8,25.8,25.2,22.0,28.7,24.7,24.4,28.3,27.0,22.9,31.6,20.6,21.4,29.0,33.9,23.4,27.9,20.6,21.8,31.1,27.6,31.2,30.9,16.6,20.6,27.2,18.4,21.3,32.4,23.6,29.2,25.9,22.9,18.5,27.0,32.5,23.1,26.3,19.2,23.0,27.5,29.3,28.5,16.9,23.9,21.6,24.6,25.5,30.8,27.3,32.4,22.9,19.6,32.5,28.0,22.7,28.0,29.8,26.5,22.7,24.0,27.3,26.9,31.5,24.8,21.7,37.6,26.8,29.8,28.3,26.8,25.0,13.4,21.2,27.5,13.8,26.3,29.0,29.7,28.7,30.3,33.2,30.9,26.9,25.4,26.5,24.8,31.0,28.6,24.3,32.0,24.7,21.7,26.0,22.3,30.2,22.2,25.5,30.2,22.8,27.9,21.6,27.1,28.6,25.8,26.2,28.0,24.7,30.0,32.2,21.8,34.0,24.6,35.0,24.7,29.2,29.2,24.3,26.3,32.5,24.6,24.1,20.8,33.1,23.8,31.4,23.3,31.3,29.6,25.0,22.7,23.1,23.0,30.8,26.7,21.0,24.9,25.4,16.4,25.1,29.3,25.4,27.1,28.2,24.5,29.3,32.6,19.1,24.4,36.5,26.8,25.8,24.8,31.7,21.8,30.2,24.8,22.6,25.0,25.8,23.8,31.0,22.7,26.6,28.4,26.6,29.5,24.0,28.8,28.9,30.4,17.5,28.3,30.1,24.1,23.5,22.8,21.4,29.0,36.3,23.5,23.9,26.1,18.8,22.9,25.7,22.0,31.4,20.2,30.1,32.6,27.7,25.4,27.1,24.0,16.8,21.6,25.9,21.8,24.1,28.2,26.7,30.8,27.3,27.6,22.8,20.0,24.1,22.7,25.2,21.2,29.8,22.7,24.4,25.9,31.1,33.9,34.2,20.2,24.3,23.5,27.7,27.4,23.4,23.0,21.5,14.1,20.2,29.9,32.6,32.1,30.1,21.4,20.7,17.9,23.4,26.4,21.5,27.9,28.9,23.9,20.0,32.2,26.2,34.7,26.4,26.7,21.7,24.1,19.0,20.0,29.3,24.7,24.1,22.7,24.3,31.1,26.6,20.7,30.6,33.8,28.2,30.0,31.5,18.5,34.4,30.9,28.2,25.4,20.0,24.5,28.0,21.0,25.7,20.7,24.3,19.9,19.4,27.5,23.4,23.8,23.1,38.3,28.7,29.2,22.5,28.3,25.0,22.5,34.7,28.6,28.4,21.6,20.3,25.7,23.4,28.8,29.1,26.3,29.7,26.9,22.1,25.1,26.6,30.2,27.0,23.4,30.3,27.7,33.0,26.4,21.3,31.3,23.4,27.3,26.8,26.2,25.2,18.6,21.5,31.0,27.9,34.6,21.3,25.9,31.2,23.5,23.8,24.7,24.0,28.4,18.0,33.4,21.7,16.5,26.0,24.3,25.2,27.4,28.9,33.6,22.9,29.5,29.2,14.1,22.3,20.2,28.0,27.5,27.6,24.6,25.1,25.9,24.2,29.5,21.2,22.5,26.5,24.3,21.0,28.4,23.4,22.2,25.2,22.0,25.8,24.4,23.7,23.7,30.5,27.7,18.3,30.0,28.3,28.1,30.0,26.1,28.8,23.9,29.8,27.0,19.8,30.7,25.4,24.8,24.0,24.3,27.0,21.6,18.9,21.2,27.7,25.3,31.0,25.7,29.8,22.9,24.0,26.0,25.3,24.9,22.1,18.9,28.8,28.3,23.2,27.7,25.3,31.0,20.1,25.4,25.1,26.7,32.9,25.4,29.3,25.3,30.8,29.4,24.5,24.2,28.2,23.1,26.9,24.4,27.7,25.3,22.9,31.0,27.1,25.8,27.9,18.5,35.4,26.1,17.2,31.4,22.6,30.7,26.5,18.9,27.2,26.8,31.2,28.3,20.4,30.5,24.1,33.7,24.4,25.0,22.3,23.8,22.6,31.3,20.0,29.6,29.7,32.2,26.2,21.4,25.2,28.7,26.4,27.7,32.1,28.6,26.9,17.7,22.5,24.2,17.1,21.0,24.8,25.5,28.3,25.1,27.1,24.1,26.2,28.0,32.6,23.7,26.6,29.9,19.5,35.0,31.3,18.3,27.7,23.5,24.2,27.6,30.7,23.9,24.0,27.7,28.6,21.5,33.8,23.1,30.3,28.0,28.7,23.2,18.2,25.9,25.9,21.7,30.1,25.8,22.4,28.6,28.8,22.8,31.6,36.1,21.1,25.2,27.5,36.3,22.7,21.8,21.7,31.5,22.8,22.2,27.0,27.4,30.8,26.4,27.1,25.5,20.1,25.1,26.3,24.0,19.0,20.9,25.8,30.2,33.6,25.2,22.8,24.3,21.3,29.5,35.6,22.9,20.6,30.5,27.4,27.5,33.1,19.9,19.7,25.3,26.3,24.4,37.1,24.6,23.5,26.6,30.4,22.7,25.3,30.5,30.7,27.0,36.9,34.9,19.7,18.4,29.6,32.1,25.0,23.7,22.3,20.7,31.1,24.3,27.4,17.8,30.5,28.6,19.9,27.2,26.0,24.0,12.9,23.0,27.4,23.5,25.0,32.7,25.7,16.6,25.2,26.4,22.3,29.3,19.4,25.4,19.4,24.7,29.2,25.3,25.0,26.1,26.3,29.1,29.1,32.4,26.8,18.5,29.9,32.1,37.1,32.5,23.8,26.8,24.8,24.2,25.5,31.8,18.8,21.5,31.5,32.5,23.0,33.4,30.4,24.8,15.0,18.5,23.0,29.4,29.4,23.9,25.0,25.9,25.0,26.7,25.9,18.5,25.1,25.9,30.5,22.3,26.9,28.5,25.3,18.1,30.5,29.4,27.0,26.2,18.0,29.5,32.7,21.0,32.1,31.1,20.9,24.2,19.7,25.7,28.0,20.1,27.7,28.9,28.9,28.0,20.5,25.5,27.6,32.6,26.0,27.9,21.8,20.8,20.2,24.1,35.3,24.2,27.6,28.5,21.1,24.0,28.8,27.9,17.0,28.7,23.5,23.6,27.8,32.9,25.1,31.3,19.5,26.6,23.6,27.3,24.7,20.0,22.0,18.6,20.1,28.2,24.9,27.0,34.2,24.7,28.9,26.1,38.4,12.4,22.8,28.9,22.6,28.5,25.7,29.9,20.9,26.8,28.1,26.6,26.7,31.4,18.4,26.6,20.6,29.4,22.2,14.9,29.5,24.8,27.6,32.4,27.7,26.8,25.8,20.8,25.0,34.9,24.3,25.3,31.7,19.1,28.8,18.9,27.8,25.9,28.8,21.4,23.6,29.0,23.7,29.4,26.9,24.0,24.6,26.0,25.0,29.3,24.3,23.4,30.1,24.1,23.6,14.8,21.3,22.2,23.6,22.8,30.4,22.5,22.8,26.7,21.0,33.0,29.6,20.7,30.6,31.5,20.9,20.8,23.3,19.6,22.5,24.2,28.3,26.4,25.3,23.8,20.1,28.7,28.6,23.2,21.0,33.0,27.1,27.8,28.0,20.6,32.7,24.2,29.7,32.6,26.4,20.7,14.8,25.8,27.1,23.4,26.6,27.9,30.5,25.0,25.8,25.2,26.2,23.7,23.7,24.0,26.7,22.2,24.0,34.1,30.0,21.7,29.9,28.8,25.5,22.8,22.3,27.0,22.2,30.9,32.2,25.8,31.1,24.1,22.8,31.0,33.1,34.8,27.5,29.9,27.4,32.3,27.9,29.6,20.9,25.0,29.7,29.3,30.0,26.5,23.1,25.7,26.2,27.1,21.6,24.8,25.6,15.9,29.7,26.7,27.2,23.7,28.6,22.3,23.0,28.8,27.6,20.3,33.1,22.6,25.4,33.9,16.7,18.3,28.0,14.8,16.8,31.3,24.2,35.9,21.3,24.6,28.4,28.1,24.9,23.1,27.0,32.2,29.4,23.2,21.5,22.9,20.3,26.7,29.7,25.7,33.7,34.0,27.4,29.2,21.9,24.4,31.7,23.4,32.7,31.0,29.4,20.7,24.6,28.9,21.6,25.1,29.4,23.4,22.2,17.9,24.3,29.5,22.1,26.1,25.0,23.0,29.8,33.4,30.5,22.9,35.0,30.5,23.9,22.5,31.0,26.8,22.2,25.3,24.2,22.3,30.6,29.5,29.8,29.7,21.9,23.3,32.6,26.5,19.4,27.0,28.9,28.4,21.8,34.5,19.2,26.5,33.8,28.7,29.8,21.3,27.6,25.8,20.9,29.9,22.3,22.8,27.9,25.4,26.8,25.1,32.4,21.8,23.9,28.2,21.6,21.4,26.6,29.9,30.5,26.4,23.0,27.2,28.5,27.2,31.6,21.4,22.9,30.9,19.4,23.6,22.7,19.0,25.2,29.4,26.7,29.6,31.4,24.3,37.9,24.4,25.0,22.8,28.5,24.7,25.6,25.1,25.0,26.7,24.0,24.2,30.8,24.7,27.7,22.0,24.0,20.5,34.3,32.2,28.7,35.7,29.5,25.2,27.7,32.1,22.0,20.7,27.8,23.4,15.8,20.4,24.6,26.2,26.4,35.0,25.1,27.3,18.7,25.9,27.5,19.8,21.8,28.2,23.5,25.5,28.4,35.2,25.0,34.0,17.2,26.7,24.5,23.6,29.0,25.0,16.9,18.9,29.2,18.6],\"type\":\"box\",\"xaxis\":\"x5\",\"yaxis\":\"y5\"}],                        {\"template\":{\"data\":{\"histogram2dcontour\":[{\"type\":\"histogram2dcontour\",\"colorbar\":{\"outlinewidth\":0,\"ticks\":\"\"},\"colorscale\":[[0.0,\"#0d0887\"],[0.1111111111111111,\"#46039f\"],[0.2222222222222222,\"#7201a8\"],[0.3333333333333333,\"#9c179e\"],[0.4444444444444444,\"#bd3786\"],[0.5555555555555556,\"#d8576b\"],[0.6666666666666666,\"#ed7953\"],[0.7777777777777778,\"#fb9f3a\"],[0.8888888888888888,\"#fdca26\"],[1.0,\"#f0f921\"]]}],\"choropleth\":[{\"type\":\"choropleth\",\"colorbar\":{\"outlinewidth\":0,\"ticks\":\"\"}}],\"histogram2d\":[{\"type\":\"histogram2d\",\"colorbar\":{\"outlinewidth\":0,\"ticks\":\"\"},\"colorscale\":[[0.0,\"#0d0887\"],[0.1111111111111111,\"#46039f\"],[0.2222222222222222,\"#7201a8\"],[0.3333333333333333,\"#9c179e\"],[0.4444444444444444,\"#bd3786\"],[0.5555555555555556,\"#d8576b\"],[0.6666666666666666,\"#ed7953\"],[0.7777777777777778,\"#fb9f3a\"],[0.8888888888888888,\"#fdca26\"],[1.0,\"#f0f921\"]]}],\"heatmap\":[{\"type\":\"heatmap\",\"colorbar\":{\"outlinewidth\":0,\"ticks\":\"\"},\"colorscale\":[[0.0,\"#0d0887\"],[0.1111111111111111,\"#46039f\"],[0.2222222222222222,\"#7201a8\"],[0.3333333333333333,\"#9c179e\"],[0.4444444444444444,\"#bd3786\"],[0.5555555555555556,\"#d8576b\"],[0.6666666666666666,\"#ed7953\"],[0.7777777777777778,\"#fb9f3a\"],[0.8888888888888888,\"#fdca26\"],[1.0,\"#f0f921\"]]}],\"heatmapgl\":[{\"type\":\"heatmapgl\",\"colorbar\":{\"outlinewidth\":0,\"ticks\":\"\"},\"colorscale\":[[0.0,\"#0d0887\"],[0.1111111111111111,\"#46039f\"],[0.2222222222222222,\"#7201a8\"],[0.3333333333333333,\"#9c179e\"],[0.4444444444444444,\"#bd3786\"],[0.5555555555555556,\"#d8576b\"],[0.6666666666666666,\"#ed7953\"],[0.7777777777777778,\"#fb9f3a\"],[0.8888888888888888,\"#fdca26\"],[1.0,\"#f0f921\"]]}],\"contourcarpet\":[{\"type\":\"contourcarpet\",\"colorbar\":{\"outlinewidth\":0,\"ticks\":\"\"}}],\"contour\":[{\"type\":\"contour\",\"colorbar\":{\"outlinewidth\":0,\"ticks\":\"\"},\"colorscale\":[[0.0,\"#0d0887\"],[0.1111111111111111,\"#46039f\"],[0.2222222222222222,\"#7201a8\"],[0.3333333333333333,\"#9c179e\"],[0.4444444444444444,\"#bd3786\"],[0.5555555555555556,\"#d8576b\"],[0.6666666666666666,\"#ed7953\"],[0.7777777777777778,\"#fb9f3a\"],[0.8888888888888888,\"#fdca26\"],[1.0,\"#f0f921\"]]}],\"surface\":[{\"type\":\"surface\",\"colorbar\":{\"outlinewidth\":0,\"ticks\":\"\"},\"colorscale\":[[0.0,\"#0d0887\"],[0.1111111111111111,\"#46039f\"],[0.2222222222222222,\"#7201a8\"],[0.3333333333333333,\"#9c179e\"],[0.4444444444444444,\"#bd3786\"],[0.5555555555555556,\"#d8576b\"],[0.6666666666666666,\"#ed7953\"],[0.7777777777777778,\"#fb9f3a\"],[0.8888888888888888,\"#fdca26\"],[1.0,\"#f0f921\"]]}],\"mesh3d\":[{\"type\":\"mesh3d\",\"colorbar\":{\"outlinewidth\":0,\"ticks\":\"\"}}],\"scatter\":[{\"fillpattern\":{\"fillmode\":\"overlay\",\"size\":10,\"solidity\":0.2},\"type\":\"scatter\"}],\"parcoords\":[{\"type\":\"parcoords\",\"line\":{\"colorbar\":{\"outlinewidth\":0,\"ticks\":\"\"}}}],\"scatterpolargl\":[{\"type\":\"scatterpolargl\",\"marker\":{\"colorbar\":{\"outlinewidth\":0,\"ticks\":\"\"}}}],\"bar\":[{\"error_x\":{\"color\":\"#2a3f5f\"},\"error_y\":{\"color\":\"#2a3f5f\"},\"marker\":{\"line\":{\"color\":\"#E5ECF6\",\"width\":0.5},\"pattern\":{\"fillmode\":\"overlay\",\"size\":10,\"solidity\":0.2}},\"type\":\"bar\"}],\"scattergeo\":[{\"type\":\"scattergeo\",\"marker\":{\"colorbar\":{\"outlinewidth\":0,\"ticks\":\"\"}}}],\"scatterpolar\":[{\"type\":\"scatterpolar\",\"marker\":{\"colorbar\":{\"outlinewidth\":0,\"ticks\":\"\"}}}],\"histogram\":[{\"marker\":{\"pattern\":{\"fillmode\":\"overlay\",\"size\":10,\"solidity\":0.2}},\"type\":\"histogram\"}],\"scattergl\":[{\"type\":\"scattergl\",\"marker\":{\"colorbar\":{\"outlinewidth\":0,\"ticks\":\"\"}}}],\"scatter3d\":[{\"type\":\"scatter3d\",\"line\":{\"colorbar\":{\"outlinewidth\":0,\"ticks\":\"\"}},\"marker\":{\"colorbar\":{\"outlinewidth\":0,\"ticks\":\"\"}}}],\"scattermapbox\":[{\"type\":\"scattermapbox\",\"marker\":{\"colorbar\":{\"outlinewidth\":0,\"ticks\":\"\"}}}],\"scatterternary\":[{\"type\":\"scatterternary\",\"marker\":{\"colorbar\":{\"outlinewidth\":0,\"ticks\":\"\"}}}],\"scattercarpet\":[{\"type\":\"scattercarpet\",\"marker\":{\"colorbar\":{\"outlinewidth\":0,\"ticks\":\"\"}}}],\"carpet\":[{\"aaxis\":{\"endlinecolor\":\"#2a3f5f\",\"gridcolor\":\"white\",\"linecolor\":\"white\",\"minorgridcolor\":\"white\",\"startlinecolor\":\"#2a3f5f\"},\"baxis\":{\"endlinecolor\":\"#2a3f5f\",\"gridcolor\":\"white\",\"linecolor\":\"white\",\"minorgridcolor\":\"white\",\"startlinecolor\":\"#2a3f5f\"},\"type\":\"carpet\"}],\"table\":[{\"cells\":{\"fill\":{\"color\":\"#EBF0F8\"},\"line\":{\"color\":\"white\"}},\"header\":{\"fill\":{\"color\":\"#C8D4E3\"},\"line\":{\"color\":\"white\"}},\"type\":\"table\"}],\"barpolar\":[{\"marker\":{\"line\":{\"color\":\"#E5ECF6\",\"width\":0.5},\"pattern\":{\"fillmode\":\"overlay\",\"size\":10,\"solidity\":0.2}},\"type\":\"barpolar\"}],\"pie\":[{\"automargin\":true,\"type\":\"pie\"}]},\"layout\":{\"autotypenumbers\":\"strict\",\"colorway\":[\"#636efa\",\"#EF553B\",\"#00cc96\",\"#ab63fa\",\"#FFA15A\",\"#19d3f3\",\"#FF6692\",\"#B6E880\",\"#FF97FF\",\"#FECB52\"],\"font\":{\"color\":\"#2a3f5f\"},\"hovermode\":\"closest\",\"hoverlabel\":{\"align\":\"left\"},\"paper_bgcolor\":\"white\",\"plot_bgcolor\":\"#E5ECF6\",\"polar\":{\"bgcolor\":\"#E5ECF6\",\"angularaxis\":{\"gridcolor\":\"white\",\"linecolor\":\"white\",\"ticks\":\"\"},\"radialaxis\":{\"gridcolor\":\"white\",\"linecolor\":\"white\",\"ticks\":\"\"}},\"ternary\":{\"bgcolor\":\"#E5ECF6\",\"aaxis\":{\"gridcolor\":\"white\",\"linecolor\":\"white\",\"ticks\":\"\"},\"baxis\":{\"gridcolor\":\"white\",\"linecolor\":\"white\",\"ticks\":\"\"},\"caxis\":{\"gridcolor\":\"white\",\"linecolor\":\"white\",\"ticks\":\"\"}},\"coloraxis\":{\"colorbar\":{\"outlinewidth\":0,\"ticks\":\"\"}},\"colorscale\":{\"sequential\":[[0.0,\"#0d0887\"],[0.1111111111111111,\"#46039f\"],[0.2222222222222222,\"#7201a8\"],[0.3333333333333333,\"#9c179e\"],[0.4444444444444444,\"#bd3786\"],[0.5555555555555556,\"#d8576b\"],[0.6666666666666666,\"#ed7953\"],[0.7777777777777778,\"#fb9f3a\"],[0.8888888888888888,\"#fdca26\"],[1.0,\"#f0f921\"]],\"sequentialminus\":[[0.0,\"#0d0887\"],[0.1111111111111111,\"#46039f\"],[0.2222222222222222,\"#7201a8\"],[0.3333333333333333,\"#9c179e\"],[0.4444444444444444,\"#bd3786\"],[0.5555555555555556,\"#d8576b\"],[0.6666666666666666,\"#ed7953\"],[0.7777777777777778,\"#fb9f3a\"],[0.8888888888888888,\"#fdca26\"],[1.0,\"#f0f921\"]],\"diverging\":[[0,\"#8e0152\"],[0.1,\"#c51b7d\"],[0.2,\"#de77ae\"],[0.3,\"#f1b6da\"],[0.4,\"#fde0ef\"],[0.5,\"#f7f7f7\"],[0.6,\"#e6f5d0\"],[0.7,\"#b8e186\"],[0.8,\"#7fbc41\"],[0.9,\"#4d9221\"],[1,\"#276419\"]]},\"xaxis\":{\"gridcolor\":\"white\",\"linecolor\":\"white\",\"ticks\":\"\",\"title\":{\"standoff\":15},\"zerolinecolor\":\"white\",\"automargin\":true,\"zerolinewidth\":2},\"yaxis\":{\"gridcolor\":\"white\",\"linecolor\":\"white\",\"ticks\":\"\",\"title\":{\"standoff\":15},\"zerolinecolor\":\"white\",\"automargin\":true,\"zerolinewidth\":2},\"scene\":{\"xaxis\":{\"backgroundcolor\":\"#E5ECF6\",\"gridcolor\":\"white\",\"linecolor\":\"white\",\"showbackground\":true,\"ticks\":\"\",\"zerolinecolor\":\"white\",\"gridwidth\":2},\"yaxis\":{\"backgroundcolor\":\"#E5ECF6\",\"gridcolor\":\"white\",\"linecolor\":\"white\",\"showbackground\":true,\"ticks\":\"\",\"zerolinecolor\":\"white\",\"gridwidth\":2},\"zaxis\":{\"backgroundcolor\":\"#E5ECF6\",\"gridcolor\":\"white\",\"linecolor\":\"white\",\"showbackground\":true,\"ticks\":\"\",\"zerolinecolor\":\"white\",\"gridwidth\":2}},\"shapedefaults\":{\"line\":{\"color\":\"#2a3f5f\"}},\"annotationdefaults\":{\"arrowcolor\":\"#2a3f5f\",\"arrowhead\":0,\"arrowwidth\":1},\"geo\":{\"bgcolor\":\"white\",\"landcolor\":\"#E5ECF6\",\"subunitcolor\":\"white\",\"showland\":true,\"showlakes\":true,\"lakecolor\":\"white\"},\"title\":{\"x\":0.05},\"mapbox\":{\"style\":\"light\"}}},\"xaxis\":{\"anchor\":\"y\",\"domain\":[0.0,0.2888888888888889]},\"yaxis\":{\"anchor\":\"x\",\"domain\":[0.625,1.0]},\"xaxis2\":{\"anchor\":\"y2\",\"domain\":[0.35555555555555557,0.6444444444444445]},\"yaxis2\":{\"anchor\":\"x2\",\"domain\":[0.625,1.0]},\"xaxis3\":{\"anchor\":\"y3\",\"domain\":[0.7111111111111111,1.0]},\"yaxis3\":{\"anchor\":\"x3\",\"domain\":[0.625,1.0]},\"xaxis4\":{\"anchor\":\"y4\",\"domain\":[0.0,0.2888888888888889]},\"yaxis4\":{\"anchor\":\"x4\",\"domain\":[0.0,0.375]},\"xaxis5\":{\"anchor\":\"y5\",\"domain\":[0.35555555555555557,0.6444444444444445]},\"yaxis5\":{\"anchor\":\"x5\",\"domain\":[0.0,0.375]},\"xaxis6\":{\"anchor\":\"y6\",\"domain\":[0.7111111111111111,1.0]},\"yaxis6\":{\"anchor\":\"x6\",\"domain\":[0.0,0.375]},\"annotations\":[{\"font\":{\"size\":16},\"showarrow\":false,\"text\":\"Age\",\"x\":0.14444444444444446,\"xanchor\":\"center\",\"xref\":\"paper\",\"y\":1.0,\"yanchor\":\"bottom\",\"yref\":\"paper\"},{\"font\":{\"size\":16},\"showarrow\":false,\"text\":\"Salt_Intake\",\"x\":0.5,\"xanchor\":\"center\",\"xref\":\"paper\",\"y\":1.0,\"yanchor\":\"bottom\",\"yref\":\"paper\"},{\"font\":{\"size\":16},\"showarrow\":false,\"text\":\"Stress_Score\",\"x\":0.8555555555555556,\"xanchor\":\"center\",\"xref\":\"paper\",\"y\":1.0,\"yanchor\":\"bottom\",\"yref\":\"paper\"},{\"font\":{\"size\":16},\"showarrow\":false,\"text\":\"Sleep_Duration\",\"x\":0.14444444444444446,\"xanchor\":\"center\",\"xref\":\"paper\",\"y\":0.375,\"yanchor\":\"bottom\",\"yref\":\"paper\"},{\"font\":{\"size\":16},\"showarrow\":false,\"text\":\"BMI\",\"x\":0.5,\"xanchor\":\"center\",\"xref\":\"paper\",\"y\":0.375,\"yanchor\":\"bottom\",\"yref\":\"paper\"}],\"title\":{\"text\":\"Numerical Variables Boxplots\"},\"height\":700,\"showlegend\":false},                        {\"responsive\": true}                    ).then(function(){\n",
              "                            \n",
              "var gd = document.getElementById('f4175332-faee-4af9-8845-eace80aef8aa');\n",
              "var x = new MutationObserver(function (mutations, observer) {{\n",
              "        var display = window.getComputedStyle(gd).display;\n",
              "        if (!display || display === 'none') {{\n",
              "            console.log([gd, 'removed!']);\n",
              "            Plotly.purge(gd);\n",
              "            observer.disconnect();\n",
              "        }}\n",
              "}});\n",
              "\n",
              "// Listen for the removal of the full notebook cells\n",
              "var notebookContainer = gd.closest('#notebook-container');\n",
              "if (notebookContainer) {{\n",
              "    x.observe(notebookContainer, {childList: true});\n",
              "}}\n",
              "\n",
              "// Listen for the clearing of the current output cell\n",
              "var outputEl = gd.closest('.output');\n",
              "if (outputEl) {{\n",
              "    x.observe(outputEl, {childList: true});\n",
              "}}\n",
              "\n",
              "                        })                };                            </script>        </div>\n",
              "</body>\n",
              "</html>"
            ]
          },
          "metadata": {}
        }
      ],
      "source": [
        "num_cols = df.select_dtypes(include=['float64', 'int64']).columns.tolist()\n",
        "\n",
        "rows = math.ceil(len(num_cols) / 3)\n",
        "\n",
        "fig = make_subplots(\n",
        "    rows=rows,\n",
        "    cols=3,\n",
        "    subplot_titles=num_cols\n",
        ")\n",
        "\n",
        "\n",
        "for i, col in enumerate(num_cols, 1):\n",
        "    row = math.ceil(i / 3)\n",
        "    col_pos = (i - 1) % 3 + 1\n",
        "    fig.add_trace(\n",
        "        go.Box(y=df[col], name=col),\n",
        "        row=row, col=col_pos\n",
        "    )\n",
        "\n",
        "fig.update_layout(\n",
        "    height=350 * rows,\n",
        "    title_text=\"Numerical Variables Boxplots\",\n",
        "    showlegend=False\n",
        ")\n",
        "fig.show()"
      ]
    },
    {
      "cell_type": "code",
      "metadata": {
        "colab": {
          "base_uri": "https://localhost:8080/"
        },
        "id": "604afcd9",
        "outputId": "4700ab4b-bf92-43c3-9ff6-02db556f7d96"
      },
      "source": [
        "Q1 = df[num_cols].quantile(0.25)\n",
        "Q3 = df[num_cols].quantile(0.75)\n",
        "IQR = Q3 - Q1\n",
        "\n",
        "outlier_mask = ((df[num_cols] < (Q1 - 1.5 * IQR)) | (df[num_cols] > (Q3 + 1.5 * IQR))).any(axis=1)\n",
        "df_cleaned = df[~outlier_mask]\n",
        "\n",
        "\n",
        "print(f\"Shape after removing outliers: {df_cleaned.shape}\")"
      ],
      "execution_count": null,
      "outputs": [
        {
          "output_type": "stream",
          "name": "stdout",
          "text": [
            "Shape after removing outliers: (1941, 10)\n"
          ]
        }
      ]
    },
    {
      "cell_type": "code",
      "execution_count": null,
      "metadata": {
        "id": "ba8cf2f2"
      },
      "outputs": [],
      "source": [
        "# categorical_cols = [\"BP_History\", \"Family_History\", \"Exercise_Level\", \"Smoking_Status\"]\n",
        "\n",
        "# df = pd.get_dummies(df, columns=categorical_cols, drop_first=True, dtype=int)"
      ]
    },
    {
      "cell_type": "code",
      "execution_count": null,
      "metadata": {
        "id": "uj_zfWOJTrdA"
      },
      "outputs": [],
      "source": [
        "le = LabelEncoder()\n",
        "df['BP_History'] = le.fit_transform(df['BP_History'])\n",
        "df['Family_History'] = le.fit_transform(df['Family_History'])\n",
        "df['Exercise_Level'] = le.fit_transform(df['Exercise_Level'])\n",
        "df['Smoking_Status'] = le.fit_transform(df['Smoking_Status'])"
      ]
    },
    {
      "cell_type": "code",
      "execution_count": null,
      "metadata": {
        "id": "mb1Cq8_8qWjN"
      },
      "outputs": [],
      "source": [
        "df[\"Has_Hypertension\"] = df[\"Has_Hypertension\"].map({\"Yes\": 1, \"No\": 0})"
      ]
    },
    {
      "cell_type": "code",
      "execution_count": null,
      "metadata": {
        "colab": {
          "base_uri": "https://localhost:8080/",
          "height": 472
        },
        "id": "C6Po0t__qi6D",
        "outputId": "6a4f035b-1d3a-4dc0-addc-3de9fe26a8ac"
      },
      "outputs": [
        {
          "output_type": "display_data",
          "data": {
            "text/plain": [
              "<Figure size 640x480 with 1 Axes>"
            ],
            "image/png": "[encoded data removed]"
          },
          "metadata": {}
        }
      ],
      "source": [
        "sns.countplot(x = 'Has_Hypertension', data = df)\n",
        "plt.title('Has_Hypertension')\n",
        "plt.xlabel('Has_Hypertension')\n",
        "plt.ylabel('Frequency')\n",
        "plt.show()"
      ]
    },
    {
      "cell_type": "code",
      "execution_count": null,
      "metadata": {
        "colab": {
          "base_uri": "https://localhost:8080/",
          "height": 656
        },
        "id": "TXPSHq7ALqDr",
        "outputId": "b65b6a28-a9bc-4626-c24e-07153759cb30"
      },
      "outputs": [
        {
          "output_type": "display_data",
          "data": {
            "text/plain": [
              "<Figure size 1000x600 with 2 Axes>"
            ],
            "image/png": "[encoded data removed]"
          },
          "metadata": {}
        }
      ],
      "source": [
        "plt.figure(figsize=(10,6))\n",
        "sns.heatmap(df.corr() , annot = True, cmap = 'coolwarm')\n",
        "plt.title('Correlation Heatmap')\n",
        "plt.show()"
      ]
    },
    {
      "cell_type": "code",
      "execution_count": null,
      "metadata": {
        "id": "6qVvjFx0M9pJ"
      },
      "outputs": [],
      "source": []
    },
    {
      "cell_type": "code",
      "execution_count": null,
      "metadata": {
        "id": "TNF322SoJol-"
      },
      "outputs": [],
      "source": [
        "x = df.drop(['Has_Hypertension'] , axis = 1)\n",
        "y = df['Has_Hypertension']"
      ]
    },
    {
      "cell_type": "code",
      "execution_count": null,
      "metadata": {
        "id": "LFG0JYM7JsJI"
      },
      "outputs": [],
      "source": [
        "x_train , x_test , y_train , y_test = train_test_split(x , y , test_size = 0.2 , random_state = 42)"
      ]
    },
    {
      "cell_type": "code",
      "execution_count": null,
      "metadata": {
        "id": "VS8r7ExLDdpY"
      },
      "outputs": [],
      "source": [
        "scaler = StandardScaler()\n",
        "x_train = scaler.fit_transform(x_train)\n",
        "x_test= scaler.transform(x_test)"
      ]
    },
    {
      "cell_type": "code",
      "execution_count": null,
      "metadata": {
        "colab": {
          "base_uri": "https://localhost:8080/"
        },
        "id": "KqwP1CqQs-hx",
        "outputId": "115bd32d-5e08-4216-f7b2-11e5fc02f729"
      },
      "outputs": [
        {
          "output_type": "stream",
          "name": "stdout",
          "text": [
            "test accuracy 0.8161209068010076\n",
            "              precision    recall  f1-score   support\n",
            "\n",
            "           0       0.82      0.79      0.81       192\n",
            "           1       0.81      0.84      0.82       205\n",
            "\n",
            "    accuracy                           0.82       397\n",
            "   macro avg       0.82      0.82      0.82       397\n",
            "weighted avg       0.82      0.82      0.82       397\n",
            "\n"
          ]
        }
      ],
      "source": [
        "lr = LogisticRegression(max_iter=250)\n",
        "lr.fit(x_train, y_train)\n",
        "y_pred_lr_test = lr.predict(x_test)\n",
        "y_pred_lr_train = lr.predict(x_train)\n",
        "\n",
        "print('test accuracy',accuracy_score(y_test,y_pred_lr_test))\n",
        "print(classification_report(y_test, y_pred_lr_test))"
      ]
    },
    {
      "cell_type": "code",
      "execution_count": null,
      "metadata": {
        "colab": {
          "base_uri": "https://localhost:8080/"
        },
        "id": "FlZg3FN6bSt6",
        "outputId": "4cdb3ef0-f339-4164-e9e5-e0015babd20a"
      },
      "outputs": [
        {
          "output_type": "stream",
          "name": "stdout",
          "text": [
            "test accuracy 0.9219143576826196\n",
            "              precision    recall  f1-score   support\n",
            "\n",
            "           0       0.89      0.96      0.92       192\n",
            "           1       0.96      0.88      0.92       205\n",
            "\n",
            "    accuracy                           0.92       397\n",
            "   macro avg       0.92      0.92      0.92       397\n",
            "weighted avg       0.93      0.92      0.92       397\n",
            "\n"
          ]
        }
      ],
      "source": [
        "from sklearn.ensemble import BaggingClassifier\n",
        "from sklearn.tree import DecisionTreeClassifier\n",
        "from sklearn.metrics import accuracy_score, classification_report\n",
        "\n",
        "bag = BaggingClassifier(\n",
        "    estimator=DecisionTreeClassifier(random_state=42),\n",
        "    n_estimators=10,\n",
        "    max_samples=0.3,\n",
        "    bootstrap=True,\n",
        "    random_state=42\n",
        ")\n",
        "bag.fit(x_train, y_train)\n",
        "y_pred_bag_test = bag.predict(x_test)\n",
        "y_pred_bag_train = bag.predict(x_train)\n",
        "\n",
        "print('test accuracy',accuracy_score(y_test,y_pred_bag_test))\n",
        "print(classification_report(y_test, y_pred_bag_test))"
      ]
    },
    {
      "cell_type": "code",
      "execution_count": null,
      "metadata": {
        "colab": {
          "base_uri": "https://localhost:8080/"
        },
        "id": "fMUSmtlFtMX5",
        "outputId": "3bc3518c-0fd5-4272-8887-e7acbcb22623"
      },
      "outputs": [
        {
          "output_type": "stream",
          "name": "stdout",
          "text": [
            "test accuracy 0.8740554156171285\n",
            "              precision    recall  f1-score   support\n",
            "\n",
            "           0       0.83      0.93      0.88       192\n",
            "           1       0.92      0.82      0.87       205\n",
            "\n",
            "    accuracy                           0.87       397\n",
            "   macro avg       0.88      0.88      0.87       397\n",
            "weighted avg       0.88      0.87      0.87       397\n",
            "\n"
          ]
        }
      ],
      "source": [
        "knn = KNeighborsClassifier(n_neighbors= 15)\n",
        "knn.fit(x_train, y_train)\n",
        "y_pred_knn_test = knn.predict(x_test)\n",
        "y_pred_knn_train = knn.predict(x_train)\n",
        "\n",
        "print('test accuracy',accuracy_score(y_test,y_pred_knn_test))\n",
        "print(classification_report(y_test, y_pred_knn_test))"
      ]
    },
    {
      "cell_type": "code",
      "execution_count": null,
      "metadata": {
        "colab": {
          "base_uri": "https://localhost:8080/"
        },
        "id": "KaPCPd4itauR",
        "outputId": "4231dbfd-159e-460f-cada-0b58bae66f81"
      },
      "outputs": [
        {
          "output_type": "stream",
          "name": "stdout",
          "text": [
            "best parameters {'criterion': 'entropy', 'max_depth': None, 'min_samples_leaf': 1, 'min_samples_split': 2}\n",
            "test Accuracy with best mobel:97.73%\n",
            "test accuracy 0.9773299748110831\n",
            "              precision    recall  f1-score   support\n",
            "\n",
            "           0       0.98      0.97      0.98       192\n",
            "           1       0.97      0.99      0.98       205\n",
            "\n",
            "    accuracy                           0.98       397\n",
            "   macro avg       0.98      0.98      0.98       397\n",
            "weighted avg       0.98      0.98      0.98       397\n",
            "\n"
          ]
        }
      ],
      "source": [
        "param_grid = {\n",
        "    'criterion': ['gini', 'entropy'],\n",
        "    'max_depth': [None, 2, 3, 4,5],\n",
        "    'min_samples_split': [2,3,4],\n",
        "    'min_samples_leaf': [1,2,3]\n",
        "}\n",
        "\n",
        "clf = DecisionTreeClassifier(random_state=42)\n",
        "grid_shearch = GridSearchCV(clf, param_grid, cv=5 , scoring='accuracy',n_jobs=-1)\n",
        "grid_shearch.fit(x_train, y_train)\n",
        "print('best parameters',grid_shearch.best_params_)\n",
        "\n",
        "best_clf = grid_shearch.best_estimator_\n",
        "y_pred = best_clf.predict(x_test)\n",
        "accuracy = accuracy_score(y_test, y_pred)\n",
        "print(f'test Accuracy with best mobel:{accuracy:.2%}' )\n",
        "\n",
        "\n",
        "\n",
        "y_train_pred = best_clf.predict(x_train)\n",
        "y_test_pred = best_clf.predict(x_test)\n",
        "\n",
        "print('test accuracy',accuracy_score(y_test,y_test_pred))\n",
        "print(classification_report(y_test, y_test_pred))"
      ]
    },
    {
      "cell_type": "code",
      "execution_count": null,
      "metadata": {
        "colab": {
          "base_uri": "https://localhost:8080/"
        },
        "id": "8gK5ywmwxauw",
        "outputId": "4047ef75-90a2-4778-8c9b-de75638f011f"
      },
      "outputs": [
        {
          "output_type": "stream",
          "name": "stdout",
          "text": [
            "test accuracy 0.964735516372796\n",
            "              precision    recall  f1-score   support\n",
            "\n",
            "           0       0.95      0.97      0.96       192\n",
            "           1       0.98      0.96      0.97       205\n",
            "\n",
            "    accuracy                           0.96       397\n",
            "   macro avg       0.96      0.97      0.96       397\n",
            "weighted avg       0.96      0.96      0.96       397\n",
            "\n"
          ]
        }
      ],
      "source": [
        "rf = RandomForestClassifier(n_estimators=150, random_state=42)\n",
        "rf.fit(x_train, y_train)\n",
        "y_pred_rf_test = rf.predict(x_test)\n",
        "y_pred_rf_train = rf.predict(x_train)\n",
        "\n",
        "print('test accuracy',accuracy_score(y_test,y_pred_rf_test))\n",
        "print(classification_report(y_test, y_pred_rf_test))"
      ]
    },
    {
      "cell_type": "code",
      "execution_count": null,
      "metadata": {
        "colab": {
          "base_uri": "https://localhost:8080/"
        },
        "id": "UCsCaBN6J9SL",
        "outputId": "641c4eec-70f0-4df6-8400-173907afddab"
      },
      "outputs": [
        {
          "output_type": "stream",
          "name": "stdout",
          "text": [
            "Test Accuracy: 0.8942065491183879\n",
            "              precision    recall  f1-score   support\n",
            "\n",
            "           0       0.89      0.90      0.89       192\n",
            "           1       0.90      0.89      0.90       205\n",
            "\n",
            "    accuracy                           0.89       397\n",
            "   macro avg       0.89      0.89      0.89       397\n",
            "weighted avg       0.89      0.89      0.89       397\n",
            "\n"
          ]
        }
      ],
      "source": [
        "svm_model = SVC(\n",
        "    kernel='rbf',\n",
        "    C=1.0,\n",
        "    gamma='scale',\n",
        "    random_state=42\n",
        ")\n",
        "\n",
        "svm_model.fit(x_train, y_train)\n",
        "\n",
        "\n",
        "y_train_pred = svm_model.predict(x_train)\n",
        "y_test_pred = svm_model.predict(x_test)\n",
        "\n",
        "\n",
        "print('Test Accuracy:', accuracy_score(y_test, y_test_pred))\n",
        "print(classification_report(y_test, y_test_pred))"
      ]
    },
    {
      "cell_type": "code",
      "execution_count": null,
      "metadata": {
        "colab": {
          "base_uri": "https://localhost:8080/"
        },
        "id": "slQmVY0QJ9RH",
        "outputId": "629d1914-ca03-45b2-b73b-7a1dbcd09f3e"
      },
      "outputs": [
        {
          "output_type": "stream",
          "name": "stdout",
          "text": [
            "XGBoost Test Accuracy: 0.9093198992443325\n",
            "              precision    recall  f1-score   support\n",
            "\n",
            "           0       0.87      0.95      0.91       192\n",
            "           1       0.95      0.87      0.91       205\n",
            "\n",
            "    accuracy                           0.91       397\n",
            "   macro avg       0.91      0.91      0.91       397\n",
            "weighted avg       0.91      0.91      0.91       397\n",
            "\n"
          ]
        }
      ],
      "source": [
        "xgb = XGBClassifier(\n",
        "    n_estimators=100,\n",
        "    learning_rate=0.4,\n",
        "    max_depth=7,\n",
        "    subsample=0.1,\n",
        "    colsample_bytree=0.2,\n",
        "    random_state=42,\n",
        "    eval_metric=\"logloss\"\n",
        ")\n",
        "xgb.fit(x_train, y_train)\n",
        "y_train_pred = xgb.predict(x_train)\n",
        "y_test_pred = xgb.predict(x_test)\n",
        "\n",
        "print(\"XGBoost Test Accuracy:\", accuracy_score(y_test, y_test_pred))\n",
        "print(classification_report(y_test, y_test_pred))"
      ]
    },
    {
      "cell_type": "code",
      "metadata": {
        "colab": {
          "base_uri": "https://localhost:8080/"
        },
        "id": "958f01b6",
        "outputId": "8ca3634d-997d-42c4-89d3-f3e24a4ca818"
      },
      "source": [
        "from sklearn.naive_bayes import GaussianNB\n",
        "nb = GaussianNB()\n",
        "nb.fit(x_train, y_train)\n",
        "y_pred_nb_test = nb.predict(x_test)\n",
        "y_pred_nb_train = nb.predict(x_train)\n",
        "\n",
        "print('test accuracy',accuracy_score(y_test,y_pred_nb_test))\n",
        "print(classification_report(y_test, y_pred_nb_test))"
      ],
      "execution_count": null,
      "outputs": [
        {
          "output_type": "stream",
          "name": "stdout",
          "text": [
            "test accuracy 0.8513853904282116\n",
            "              precision    recall  f1-score   support\n",
            "\n",
            "           0       0.88      0.81      0.84       192\n",
            "           1       0.83      0.89      0.86       205\n",
            "\n",
            "    accuracy                           0.85       397\n",
            "   macro avg       0.85      0.85      0.85       397\n",
            "weighted avg       0.85      0.85      0.85       397\n",
            "\n"
          ]
        }
      ]
    },
    {
      "cell_type": "code",
      "execution_count": null,
      "metadata": {
        "colab": {
          "base_uri": "https://localhost:8080/",
          "height": 80
        },
        "id": "UdZN44tgJ9LV",
        "outputId": "1a73113d-e6c3-4c2a-f8ce-c5e1e96b40b5"
      },
      "outputs": [
        {
          "output_type": "execute_result",
          "data": {
            "text/plain": [
              "KMeans(n_clusters=5, random_state=42)"
            ],
            "text/html": [
              "<style>#sk-container-id-1 {\n",
              "  /* Definition of color scheme common for light and dark mode */\n",
              "  --sklearn-color-text: #000;\n",
              "  --sklearn-color-text-muted: #666;\n",
              "  --sklearn-color-line: gray;\n",
              "  /* Definition of color scheme for unfitted estimators */\n",
              "  --sklearn-color-unfitted-level-0: #fff5e6;\n",
              "  --sklearn-color-unfitted-level-1: #f6e4d2;\n",
              "  --sklearn-color-unfitted-level-2: #ffe0b3;\n",
              "  --sklearn-color-unfitted-level-3: chocolate;\n",
              "  /* Definition of color scheme for fitted estimators */\n",
              "  --sklearn-color-fitted-level-0: #f0f8ff;\n",
              "  --sklearn-color-fitted-level-1: #d4ebff;\n",
              "  --sklearn-color-fitted-level-2: #b3dbfd;\n",
              "  --sklearn-color-fitted-level-3: cornflowerblue;\n",
              "\n",
              "  /* Specific color for light theme */\n",
              "  --sklearn-color-text-on-default-background: var(--sg-text-color, var(--theme-code-foreground, var(--jp-content-font-color1, black)));\n",
              "  --sklearn-color-background: var(--sg-background-color, var(--theme-background, var(--jp-layout-color0, white)));\n",
              "  --sklearn-color-border-box: var(--sg-text-color, var(--theme-code-foreground, var(--jp-content-font-color1, black)));\n",
              "  --sklearn-color-icon: #696969;\n",
              "\n",
              "  @media (prefers-color-scheme: dark) {\n",
              "    /* Redefinition of color scheme for dark theme */\n",
              "    --sklearn-color-text-on-default-background: var(--sg-text-color, var(--theme-code-foreground, var(--jp-content-font-color1, white)));\n",
              "    --sklearn-color-background: var(--sg-background-color, var(--theme-background, var(--jp-layout-color0, #111)));\n",
              "    --sklearn-color-border-box: var(--sg-text-color, var(--theme-code-foreground, var(--jp-content-font-color1, white)));\n",
              "    --sklearn-color-icon: #878787;\n",
              "  }\n",
              "}\n",
              "\n",
              "#sk-container-id-1 {\n",
              "  color: var(--sklearn-color-text);\n",
              "}\n",
              "\n",
              "#sk-container-id-1 pre {\n",
              "  padding: 0;\n",
              "}\n",
              "\n",
              "#sk-container-id-1 input.sk-hidden--visually {\n",
              "  border: 0;\n",
              "  clip: rect(1px 1px 1px 1px);\n",
              "  clip: rect(1px, 1px, 1px, 1px);\n",
              "  height: 1px;\n",
              "  margin: -1px;\n",
              "  overflow: hidden;\n",
              "  padding: 0;\n",
              "  position: absolute;\n",
              "  width: 1px;\n",
              "}\n",
              "\n",
              "#sk-container-id-1 div.sk-dashed-wrapped {\n",
              "  border: 1px dashed var(--sklearn-color-line);\n",
              "  margin: 0 0.4em 0.5em 0.4em;\n",
              "  box-sizing: border-box;\n",
              "  padding-bottom: 0.4em;\n",
              "  background-color: var(--sklearn-color-background);\n",
              "}\n",
              "\n",
              "#sk-container-id-1 div.sk-container {\n",
              "  /* jupyter's `normalize.less` sets `[hidden] { display: none; }`\n",
              "     but bootstrap.min.css set `[hidden] { display: none !important; }`\n",
              "     so we also need the `!important` here to be able to override the\n",
              "     default hidden behavior on the sphinx rendered scikit-learn.org.\n",
              "     See: https://github.com/scikit-learn/scikit-learn/issues/21755 */\n",
              "  display: inline-block !important;\n",
              "  position: relative;\n",
              "}\n",
              "\n",
              "#sk-container-id-1 div.sk-text-repr-fallback {\n",
              "  display: none;\n",
              "}\n",
              "\n",
              "div.sk-parallel-item,\n",
              "div.sk-serial,\n",
              "div.sk-item {\n",
              "  /* draw centered vertical line to link estimators */\n",
              "  background-image: linear-gradient(var(--sklearn-color-text-on-default-background), var(--sklearn-color-text-on-default-background));\n",
              "  background-size: 2px 100%;\n",
              "  background-repeat: no-repeat;\n",
              "  background-position: center center;\n",
              "}\n",
              "\n",
              "/* Parallel-specific style estimator block */\n",
              "\n",
              "#sk-container-id-1 div.sk-parallel-item::after {\n",
              "  content: \"\";\n",
              "  width: 100%;\n",
              "  border-bottom: 2px solid var(--sklearn-color-text-on-default-background);\n",
              "  flex-grow: 1;\n",
              "}\n",
              "\n",
              "#sk-container-id-1 div.sk-parallel {\n",
              "  display: flex;\n",
              "  align-items: stretch;\n",
              "  justify-content: center;\n",
              "  background-color: var(--sklearn-color-background);\n",
              "  position: relative;\n",
              "}\n",
              "\n",
              "#sk-container-id-1 div.sk-parallel-item {\n",
              "  display: flex;\n",
              "  flex-direction: column;\n",
              "}\n",
              "\n",
              "#sk-container-id-1 div.sk-parallel-item:first-child::after {\n",
              "  align-self: flex-end;\n",
              "  width: 50%;\n",
              "}\n",
              "\n",
              "#sk-container-id-1 div.sk-parallel-item:last-child::after {\n",
              "  align-self: flex-start;\n",
              "  width: 50%;\n",
              "}\n",
              "\n",
              "#sk-container-id-1 div.sk-parallel-item:only-child::after {\n",
              "  width: 0;\n",
              "}\n",
              "\n",
              "/* Serial-specific style estimator block */\n",
              "\n",
              "#sk-container-id-1 div.sk-serial {\n",
              "  display: flex;\n",
              "  flex-direction: column;\n",
              "  align-items: center;\n",
              "  background-color: var(--sklearn-color-background);\n",
              "  padding-right: 1em;\n",
              "  padding-left: 1em;\n",
              "}\n",
              "\n",
              "\n",
              "/* Toggleable style: style used for estimator/Pipeline/ColumnTransformer box that is\n",
              "clickable and can be expanded/collapsed.\n",
              "- Pipeline and ColumnTransformer use this feature and define the default style\n",
              "- Estimators will overwrite some part of the style using the `sk-estimator` class\n",
              "*/\n",
              "\n",
              "/* Pipeline and ColumnTransformer style (default) */\n",
              "\n",
              "#sk-container-id-1 div.sk-toggleable {\n",
              "  /* Default theme specific background. It is overwritten whether we have a\n",
              "  specific estimator or a Pipeline/ColumnTransformer */\n",
              "  background-color: var(--sklearn-color-background);\n",
              "}\n",
              "\n",
              "/* Toggleable label */\n",
              "#sk-container-id-1 label.sk-toggleable__label {\n",
              "  cursor: pointer;\n",
              "  display: flex;\n",
              "  width: 100%;\n",
              "  margin-bottom: 0;\n",
              "  padding: 0.5em;\n",
              "  box-sizing: border-box;\n",
              "  text-align: center;\n",
              "  align-items: start;\n",
              "  justify-content: space-between;\n",
              "  gap: 0.5em;\n",
              "}\n",
              "\n",
              "#sk-container-id-1 label.sk-toggleable__label .caption {\n",
              "  font-size: 0.6rem;\n",
              "  font-weight: lighter;\n",
              "  color: var(--sklearn-color-text-muted);\n",
              "}\n",
              "\n",
              "#sk-container-id-1 label.sk-toggleable__label-arrow:before {\n",
              "  /* Arrow on the left of the label */\n",
              "  content: \"▸\";\n",
              "  float: left;\n",
              "  margin-right: 0.25em;\n",
              "  color: var(--sklearn-color-icon);\n",
              "}\n",
              "\n",
              "#sk-container-id-1 label.sk-toggleable__label-arrow:hover:before {\n",
              "  color: var(--sklearn-color-text);\n",
              "}\n",
              "\n",
              "/* Toggleable content - dropdown */\n",
              "\n",
              "#sk-container-id-1 div.sk-toggleable__content {\n",
              "  max-height: 0;\n",
              "  max-width: 0;\n",
              "  overflow: hidden;\n",
              "  text-align: left;\n",
              "  /* unfitted */\n",
              "  background-color: var(--sklearn-color-unfitted-level-0);\n",
              "}\n",
              "\n",
              "#sk-container-id-1 div.sk-toggleable__content.fitted {\n",
              "  /* fitted */\n",
              "  background-color: var(--sklearn-color-fitted-level-0);\n",
              "}\n",
              "\n",
              "#sk-container-id-1 div.sk-toggleable__content pre {\n",
              "  margin: 0.2em;\n",
              "  border-radius: 0.25em;\n",
              "  color: var(--sklearn-color-text);\n",
              "  /* unfitted */\n",
              "  background-color: var(--sklearn-color-unfitted-level-0);\n",
              "}\n",
              "\n",
              "#sk-container-id-1 div.sk-toggleable__content.fitted pre {\n",
              "  /* unfitted */\n",
              "  background-color: var(--sklearn-color-fitted-level-0);\n",
              "}\n",
              "\n",
              "#sk-container-id-1 input.sk-toggleable__control:checked~div.sk-toggleable__content {\n",
              "  /* Expand drop-down */\n",
              "  max-height: 200px;\n",
              "  max-width: 100%;\n",
              "  overflow: auto;\n",
              "}\n",
              "\n",
              "#sk-container-id-1 input.sk-toggleable__control:checked~label.sk-toggleable__label-arrow:before {\n",
              "  content: \"▾\";\n",
              "}\n",
              "\n",
              "/* Pipeline/ColumnTransformer-specific style */\n",
              "\n",
              "#sk-container-id-1 div.sk-label input.sk-toggleable__control:checked~label.sk-toggleable__label {\n",
              "  color: var(--sklearn-color-text);\n",
              "  background-color: var(--sklearn-color-unfitted-level-2);\n",
              "}\n",
              "\n",
              "#sk-container-id-1 div.sk-label.fitted input.sk-toggleable__control:checked~label.sk-toggleable__label {\n",
              "  background-color: var(--sklearn-color-fitted-level-2);\n",
              "}\n",
              "\n",
              "/* Estimator-specific style */\n",
              "\n",
              "/* Colorize estimator box */\n",
              "#sk-container-id-1 div.sk-estimator input.sk-toggleable__control:checked~label.sk-toggleable__label {\n",
              "  /* unfitted */\n",
              "  background-color: var(--sklearn-color-unfitted-level-2);\n",
              "}\n",
              "\n",
              "#sk-container-id-1 div.sk-estimator.fitted input.sk-toggleable__control:checked~label.sk-toggleable__label {\n",
              "  /* fitted */\n",
              "  background-color: var(--sklearn-color-fitted-level-2);\n",
              "}\n",
              "\n",
              "#sk-container-id-1 div.sk-label label.sk-toggleable__label,\n",
              "#sk-container-id-1 div.sk-label label {\n",
              "  /* The background is the default theme color */\n",
              "  color: var(--sklearn-color-text-on-default-background);\n",
              "}\n",
              "\n",
              "/* On hover, darken the color of the background */\n",
              "#sk-container-id-1 div.sk-label:hover label.sk-toggleable__label {\n",
              "  color: var(--sklearn-color-text);\n",
              "  background-color: var(--sklearn-color-unfitted-level-2);\n",
              "}\n",
              "\n",
              "/* Label box, darken color on hover, fitted */\n",
              "#sk-container-id-1 div.sk-label.fitted:hover label.sk-toggleable__label.fitted {\n",
              "  color: var(--sklearn-color-text);\n",
              "  background-color: var(--sklearn-color-fitted-level-2);\n",
              "}\n",
              "\n",
              "/* Estimator label */\n",
              "\n",
              "#sk-container-id-1 div.sk-label label {\n",
              "  font-family: monospace;\n",
              "  font-weight: bold;\n",
              "  display: inline-block;\n",
              "  line-height: 1.2em;\n",
              "}\n",
              "\n",
              "#sk-container-id-1 div.sk-label-container {\n",
              "  text-align: center;\n",
              "}\n",
              "\n",
              "/* Estimator-specific */\n",
              "#sk-container-id-1 div.sk-estimator {\n",
              "  font-family: monospace;\n",
              "  border: 1px dotted var(--sklearn-color-border-box);\n",
              "  border-radius: 0.25em;\n",
              "  box-sizing: border-box;\n",
              "  margin-bottom: 0.5em;\n",
              "  /* unfitted */\n",
              "  background-color: var(--sklearn-color-unfitted-level-0);\n",
              "}\n",
              "\n",
              "#sk-container-id-1 div.sk-estimator.fitted {\n",
              "  /* fitted */\n",
              "  background-color: var(--sklearn-color-fitted-level-0);\n",
              "}\n",
              "\n",
              "/* on hover */\n",
              "#sk-container-id-1 div.sk-estimator:hover {\n",
              "  /* unfitted */\n",
              "  background-color: var(--sklearn-color-unfitted-level-2);\n",
              "}\n",
              "\n",
              "#sk-container-id-1 div.sk-estimator.fitted:hover {\n",
              "  /* fitted */\n",
              "  background-color: var(--sklearn-color-fitted-level-2);\n",
              "}\n",
              "\n",
              "/* Specification for estimator info (e.g. \"i\" and \"?\") */\n",
              "\n",
              "/* Common style for \"i\" and \"?\" */\n",
              "\n",
              ".sk-estimator-doc-link,\n",
              "a:link.sk-estimator-doc-link,\n",
              "a:visited.sk-estimator-doc-link {\n",
              "  float: right;\n",
              "  font-size: smaller;\n",
              "  line-height: 1em;\n",
              "  font-family: monospace;\n",
              "  background-color: var(--sklearn-color-background);\n",
              "  border-radius: 1em;\n",
              "  height: 1em;\n",
              "  width: 1em;\n",
              "  text-decoration: none !important;\n",
              "  margin-left: 0.5em;\n",
              "  text-align: center;\n",
              "  /* unfitted */\n",
              "  border: var(--sklearn-color-unfitted-level-1) 1pt solid;\n",
              "  color: var(--sklearn-color-unfitted-level-1);\n",
              "}\n",
              "\n",
              ".sk-estimator-doc-link.fitted,\n",
              "a:link.sk-estimator-doc-link.fitted,\n",
              "a:visited.sk-estimator-doc-link.fitted {\n",
              "  /* fitted */\n",
              "  border: var(--sklearn-color-fitted-level-1) 1pt solid;\n",
              "  color: var(--sklearn-color-fitted-level-1);\n",
              "}\n",
              "\n",
              "/* On hover */\n",
              "div.sk-estimator:hover .sk-estimator-doc-link:hover,\n",
              ".sk-estimator-doc-link:hover,\n",
              "div.sk-label-container:hover .sk-estimator-doc-link:hover,\n",
              ".sk-estimator-doc-link:hover {\n",
              "  /* unfitted */\n",
              "  background-color: var(--sklearn-color-unfitted-level-3);\n",
              "  color: var(--sklearn-color-background);\n",
              "  text-decoration: none;\n",
              "}\n",
              "\n",
              "div.sk-estimator.fitted:hover .sk-estimator-doc-link.fitted:hover,\n",
              ".sk-estimator-doc-link.fitted:hover,\n",
              "div.sk-label-container:hover .sk-estimator-doc-link.fitted:hover,\n",
              ".sk-estimator-doc-link.fitted:hover {\n",
              "  /* fitted */\n",
              "  background-color: var(--sklearn-color-fitted-level-3);\n",
              "  color: var(--sklearn-color-background);\n",
              "  text-decoration: none;\n",
              "}\n",
              "\n",
              "/* Span, style for the box shown on hovering the info icon */\n",
              ".sk-estimator-doc-link span {\n",
              "  display: none;\n",
              "  z-index: 9999;\n",
              "  position: relative;\n",
              "  font-weight: normal;\n",
              "  right: .2ex;\n",
              "  padding: .5ex;\n",
              "  margin: .5ex;\n",
              "  width: min-content;\n",
              "  min-width: 20ex;\n",
              "  max-width: 50ex;\n",
              "  color: var(--sklearn-color-text);\n",
              "  box-shadow: 2pt 2pt 4pt #999;\n",
              "  /* unfitted */\n",
              "  background: var(--sklearn-color-unfitted-level-0);\n",
              "  border: .5pt solid var(--sklearn-color-unfitted-level-3);\n",
              "}\n",
              "\n",
              ".sk-estimator-doc-link.fitted span {\n",
              "  /* fitted */\n",
              "  background: var(--sklearn-color-fitted-level-0);\n",
              "  border: var(--sklearn-color-fitted-level-3);\n",
              "}\n",
              "\n",
              ".sk-estimator-doc-link:hover span {\n",
              "  display: block;\n",
              "}\n",
              "\n",
              "/* \"?\"-specific style due to the `<a>` HTML tag */\n",
              "\n",
              "#sk-container-id-1 a.estimator_doc_link {\n",
              "  float: right;\n",
              "  font-size: 1rem;\n",
              "  line-height: 1em;\n",
              "  font-family: monospace;\n",
              "  background-color: var(--sklearn-color-background);\n",
              "  border-radius: 1rem;\n",
              "  height: 1rem;\n",
              "  width: 1rem;\n",
              "  text-decoration: none;\n",
              "  /* unfitted */\n",
              "  color: var(--sklearn-color-unfitted-level-1);\n",
              "  border: var(--sklearn-color-unfitted-level-1) 1pt solid;\n",
              "}\n",
              "\n",
              "#sk-container-id-1 a.estimator_doc_link.fitted {\n",
              "  /* fitted */\n",
              "  border: var(--sklearn-color-fitted-level-1) 1pt solid;\n",
              "  color: var(--sklearn-color-fitted-level-1);\n",
              "}\n",
              "\n",
              "/* On hover */\n",
              "#sk-container-id-1 a.estimator_doc_link:hover {\n",
              "  /* unfitted */\n",
              "  background-color: var(--sklearn-color-unfitted-level-3);\n",
              "  color: var(--sklearn-color-background);\n",
              "  text-decoration: none;\n",
              "}\n",
              "\n",
              "#sk-container-id-1 a.estimator_doc_link.fitted:hover {\n",
              "  /* fitted */\n",
              "  background-color: var(--sklearn-color-fitted-level-3);\n",
              "}\n",
              "</style><div id=\"sk-container-id-1\" class=\"sk-top-container\"><div class=\"sk-text-repr-fallback\"><pre>KMeans(n_clusters=5, random_state=42)</pre><b>In a Jupyter environment, please rerun this cell to show the HTML representation or trust the notebook. <br />On GitHub, the HTML representation is unable to render, please try loading this page with nbviewer.org.</b></div><div class=\"sk-container\" hidden><div class=\"sk-item\"><div class=\"sk-estimator fitted sk-toggleable\"><input class=\"sk-toggleable__control sk-hidden--visually\" id=\"sk-estimator-id-1\" type=\"checkbox\" checked><label for=\"sk-estimator-id-1\" class=\"sk-toggleable__label fitted sk-toggleable__label-arrow\"><div><div>KMeans</div></div><div><a class=\"sk-estimator-doc-link fitted\" rel=\"noreferrer\" target=\"_blank\" href=\"https://scikit-learn.org/1.6/modules/generated/sklearn.cluster.KMeans.html\">?<span>Documentation for KMeans</span></a><span class=\"sk-estimator-doc-link fitted\">i<span>Fitted</span></span></div></label><div class=\"sk-toggleable__content fitted\"><pre>KMeans(n_clusters=5, random_state=42)</pre></div> </div></div></div></div>"
            ]
          },
          "metadata": {},
          "execution_count": 40
        }
      ],
      "source": [
        "from sklearn.cluster import KMeans\n",
        "k = 5\n",
        "kmeans = KMeans(n_clusters=k, random_state=42)\n",
        "kmeans.fit(x_train)"
      ]
    },
    {
      "cell_type": "code",
      "execution_count": null,
      "metadata": {
        "colab": {
          "base_uri": "https://localhost:8080/"
        },
        "id": "n91bsM4cKBel",
        "outputId": "254665c2-43fb-4c63-8e73-411fa481cce5"
      },
      "outputs": [
        {
          "output_type": "stream",
          "name": "stdout",
          "text": [
            "Silhouette Score : 0.09725625976525257\n"
          ]
        }
      ],
      "source": [
        "from sklearn.metrics import silhouette_score\n",
        "silhouette_avg = silhouette_score(x_train, kmeans.labels_)\n",
        "print(f\"Silhouette Score :\", silhouette_avg)"
      ]
    },
    {
      "cell_type": "code",
      "execution_count": null,
      "metadata": {
        "id": "-_yFgVezKF4p"
      },
      "outputs": [],
      "source": [
        "inertia = []\n",
        "k_range = range(1, 15)\n",
        "\n",
        "for k in k_range:\n",
        "    kmeans = KMeans(n_clusters=k, random_state=42)\n",
        "    kmeans.fit(df)\n",
        "    inertia.append(kmeans.inertia_)"
      ]
    },
    {
      "cell_type": "code",
      "execution_count": null,
      "metadata": {
        "colab": {
          "base_uri": "https://localhost:8080/",
          "height": 487
        },
        "id": "jlkFOBc0KI32",
        "outputId": "52d715fd-f66c-4a16-fb19-de646c75f3cd"
      },
      "outputs": [
        {
          "output_type": "display_data",
          "data": {
            "text/plain": [
              "<Figure size 800x500 with 1 Axes>"
            ],
            "image/png": "[encoded data removed]"
          },
          "metadata": {}
        }
      ],
      "source": [
        "plt.figure(figsize=(8, 5))\n",
        "plt.plot(k_range, inertia, marker='o')\n",
        "plt.title('Elbow Method For Scaled Demographical DataFrame')\n",
        "plt.xlabel('Number of clusters (k)')\n",
        "plt.ylabel('Inertia (Within-Cluster Sum of Squares)')\n",
        "plt.grid(True)\n",
        "plt.xticks(k_range)\n",
        "plt.show()"
      ]
    },
    {
      "cell_type": "code",
      "execution_count": null,
      "metadata": {
        "colab": {
          "base_uri": "https://localhost:8080/"
        },
        "id": "UqXll6vSKKPr",
        "outputId": "9e524f77-00b8-4232-c5ec-6627f9ba1f06"
      },
      "outputs": [
        {
          "output_type": "stream",
          "name": "stdout",
          "text": [
            "Silhouette Score : 0.09755044203023297\n"
          ]
        }
      ],
      "source": [
        "kmeans = KMeans(n_clusters=3, random_state=42)\n",
        "kmeans.fit(x_train)\n",
        "silhouette_avg = silhouette_score(x_train, kmeans.labels_)\n",
        "print(f\"Silhouette Score :\", silhouette_avg)"
      ]
    },
    {
      "cell_type": "code",
      "execution_count": null,
      "metadata": {
        "colab": {
          "base_uri": "https://localhost:8080/"
        },
        "id": "hcfDOEMRK1ZJ",
        "outputId": "014d935b-caad-4f1e-8373-f37162f4ed9a"
      },
      "outputs": [
        {
          "output_type": "stream",
          "name": "stdout",
          "text": [
            "Silhouette Score : 0.13584688029033307\n"
          ]
        }
      ],
      "source": [
        "kmeans = KMeans(n_clusters=2, random_state=42)\n",
        "kmeans.fit(x_train)\n",
        "silhouette_avg = silhouette_score(x_train, kmeans.labels_)\n",
        "print(f\"Silhouette Score :\", silhouette_avg)"
      ]
    },
    {
      "cell_type": "code",
      "execution_count": null,
      "metadata": {
        "colab": {
          "base_uri": "https://localhost:8080/",
          "height": 564
        },
        "id": "oN6UdhH-K6Tx",
        "outputId": "e590349d-356e-4664-a4a2-a0e98686f610"
      },
      "outputs": [
        {
          "output_type": "display_data",
          "data": {
            "text/plain": [
              "<Figure size 1200x600 with 1 Axes>"
            ],
            "image/png": "[encoded data removed]"
          },
          "metadata": {}
        }
      ],
      "source": [
        "from scipy.cluster.hierarchy import linkage, dendrogram\n",
        "import matplotlib.pyplot as plt\n",
        "import scipy.cluster.hierarchy as sch\n",
        "import numpy as np\n",
        "\n",
        "sample_size = 50\n",
        "\n",
        "sample_indices = np.random.choice(x_train.shape[0], size=sample_size, replace=False)\n",
        "sample_data = x_train[sample_indices]\n",
        "\n",
        "linkage_matrix = sch.linkage(sample_data, method='ward')\n",
        "\n",
        "plt.figure(figsize=(12, 6))\n",
        "dendrogram = sch.dendrogram(linkage_matrix)\n",
        "plt.title(\"Dendrogram\")\n",
        "plt.xlabel(\"Samples\")\n",
        "plt.ylabel(\"Euclidean Distance\")\n",
        "plt.show()\n"
      ]
    },
    {
      "cell_type": "code",
      "execution_count": null,
      "metadata": {
        "colab": {
          "base_uri": "https://localhost:8080/"
        },
        "id": "BPextjDUK9oV",
        "outputId": "dfe3f086-4d46-47e7-88e3-2d57115ab6d7"
      },
      "outputs": [
        {
          "output_type": "stream",
          "name": "stdout",
          "text": [
            "Epoch 1/50\n"
          ]
        },
        {
          "output_type": "stream",
          "name": "stderr",
          "text": [
            "/usr/local/lib/python3.12/dist-packages/keras/src/layers/core/dense.py:93: UserWarning:\n",
            "\n",
            "Do not pass an `input_shape`/`input_dim` argument to a layer. When using Sequential models, prefer using an `Input(shape)` object as the first layer in the model instead.\n",
            "\n"
          ]
        },
        {
          "output_type": "stream",
          "name": "stdout",
          "text": [
            "\u001b[1m50/50\u001b[0m \u001b[32m━━━━━━━━━━━━━━━━━━━━\u001b[0m\u001b[37m\u001b[0m \u001b[1m1s\u001b[0m 5ms/step - accuracy: 0.6922 - loss: 0.6026 - val_accuracy: 0.8237 - val_loss: 0.3839\n",
            "Epoch 2/50\n",
            "\u001b[1m50/50\u001b[0m \u001b[32m━━━━━━━━━━━━━━━━━━━━\u001b[0m\u001b[37m\u001b[0m \u001b[1m0s\u001b[0m 3ms/step - accuracy: 0.8308 - loss: 0.3780 - val_accuracy: 0.8388 - val_loss: 0.3443\n",
            "Epoch 3/50\n",
            "\u001b[1m50/50\u001b[0m \u001b[32m━━━━━━━━━━━━━━━━━━━━\u001b[0m\u001b[37m\u001b[0m \u001b[1m0s\u001b[0m 3ms/step - accuracy: 0.8350 - loss: 0.3556 - val_accuracy: 0.8438 - val_loss: 0.3292\n",
            "Epoch 4/50\n",
            "\u001b[1m50/50\u001b[0m \u001b[32m━━━━━━━━━━━━━━━━━━━━\u001b[0m\u001b[37m\u001b[0m \u001b[1m0s\u001b[0m 3ms/step - accuracy: 0.8624 - loss: 0.3219 - val_accuracy: 0.8690 - val_loss: 0.3002\n",
            "Epoch 5/50\n",
            "\u001b[1m50/50\u001b[0m \u001b[32m━━━━━━━━━━━━━━━━━━━━\u001b[0m\u001b[37m\u001b[0m \u001b[1m0s\u001b[0m 3ms/step - accuracy: 0.8559 - loss: 0.3193 - val_accuracy: 0.8665 - val_loss: 0.2899\n",
            "Epoch 6/50\n",
            "\u001b[1m50/50\u001b[0m \u001b[32m━━━━━━━━━━━━━━━━━━━━\u001b[0m\u001b[37m\u001b[0m \u001b[1m0s\u001b[0m 2ms/step - accuracy: 0.8750 - loss: 0.2805 - val_accuracy: 0.8791 - val_loss: 0.2803\n",
            "Epoch 7/50\n",
            "\u001b[1m50/50\u001b[0m \u001b[32m━━━━━━━━━━━━━━━━━━━━\u001b[0m\u001b[37m\u001b[0m \u001b[1m0s\u001b[0m 3ms/step - accuracy: 0.8883 - loss: 0.2707 - val_accuracy: 0.8791 - val_loss: 0.2645\n",
            "Epoch 8/50\n",
            "\u001b[1m50/50\u001b[0m \u001b[32m━━━━━━━━━━━━━━━━━━━━\u001b[0m\u001b[37m\u001b[0m \u001b[1m0s\u001b[0m 3ms/step - accuracy: 0.8872 - loss: 0.2580 - val_accuracy: 0.8791 - val_loss: 0.2598\n",
            "Epoch 9/50\n",
            "\u001b[1m50/50\u001b[0m \u001b[32m━━━━━━━━━━━━━━━━━━━━\u001b[0m\u001b[37m\u001b[0m \u001b[1m0s\u001b[0m 3ms/step - accuracy: 0.8830 - loss: 0.2595 - val_accuracy: 0.8866 - val_loss: 0.2553\n",
            "Epoch 10/50\n",
            "\u001b[1m50/50\u001b[0m \u001b[32m━━━━━━━━━━━━━━━━━━━━\u001b[0m\u001b[37m\u001b[0m \u001b[1m0s\u001b[0m 2ms/step - accuracy: 0.8981 - loss: 0.2315 - val_accuracy: 0.8992 - val_loss: 0.2545\n",
            "Epoch 11/50\n",
            "\u001b[1m50/50\u001b[0m \u001b[32m━━━━━━━━━━━━━━━━━━━━\u001b[0m\u001b[37m\u001b[0m \u001b[1m0s\u001b[0m 3ms/step - accuracy: 0.8883 - loss: 0.2599 - val_accuracy: 0.8917 - val_loss: 0.2506\n",
            "Epoch 12/50\n",
            "\u001b[1m50/50\u001b[0m \u001b[32m━━━━━━━━━━━━━━━━━━━━\u001b[0m\u001b[37m\u001b[0m \u001b[1m0s\u001b[0m 2ms/step - accuracy: 0.9112 - loss: 0.2202 - val_accuracy: 0.8967 - val_loss: 0.2553\n",
            "Epoch 13/50\n",
            "\u001b[1m50/50\u001b[0m \u001b[32m━━━━━━━━━━━━━━━━━━━━\u001b[0m\u001b[37m\u001b[0m \u001b[1m0s\u001b[0m 3ms/step - accuracy: 0.9112 - loss: 0.2154 - val_accuracy: 0.8942 - val_loss: 0.2412\n",
            "Epoch 14/50\n",
            "\u001b[1m50/50\u001b[0m \u001b[32m━━━━━━━━━━━━━━━━━━━━\u001b[0m\u001b[37m\u001b[0m \u001b[1m0s\u001b[0m 2ms/step - accuracy: 0.8912 - loss: 0.2421 - val_accuracy: 0.8917 - val_loss: 0.2364\n",
            "Epoch 15/50\n",
            "\u001b[1m50/50\u001b[0m \u001b[32m━━━━━━━━━━━━━━━━━━━━\u001b[0m\u001b[37m\u001b[0m \u001b[1m0s\u001b[0m 2ms/step - accuracy: 0.9055 - loss: 0.2094 - val_accuracy: 0.8967 - val_loss: 0.2387\n",
            "Epoch 16/50\n",
            "\u001b[1m50/50\u001b[0m \u001b[32m━━━━━━━━━━━━━━━━━━━━\u001b[0m\u001b[37m\u001b[0m \u001b[1m0s\u001b[0m 2ms/step - accuracy: 0.9153 - loss: 0.2066 - val_accuracy: 0.8992 - val_loss: 0.2312\n",
            "Epoch 17/50\n",
            "\u001b[1m50/50\u001b[0m \u001b[32m━━━━━━━━━━━━━━━━━━━━\u001b[0m\u001b[37m\u001b[0m \u001b[1m0s\u001b[0m 3ms/step - accuracy: 0.9055 - loss: 0.2358 - val_accuracy: 0.8942 - val_loss: 0.2384\n",
            "Epoch 18/50\n",
            "\u001b[1m50/50\u001b[0m \u001b[32m━━━━━━━━━━━━━━━━━━━━\u001b[0m\u001b[37m\u001b[0m \u001b[1m0s\u001b[0m 3ms/step - accuracy: 0.9156 - loss: 0.1919 - val_accuracy: 0.9043 - val_loss: 0.2372\n",
            "Epoch 19/50\n",
            "\u001b[1m50/50\u001b[0m \u001b[32m━━━━━━━━━━━━━━━━━━━━\u001b[0m\u001b[37m\u001b[0m \u001b[1m0s\u001b[0m 3ms/step - accuracy: 0.9017 - loss: 0.2086 - val_accuracy: 0.8917 - val_loss: 0.2290\n",
            "Epoch 20/50\n",
            "\u001b[1m50/50\u001b[0m \u001b[32m━━━━━━━━━━━━━━━━━━━━\u001b[0m\u001b[37m\u001b[0m \u001b[1m0s\u001b[0m 3ms/step - accuracy: 0.9246 - loss: 0.2073 - val_accuracy: 0.9018 - val_loss: 0.2270\n",
            "Epoch 21/50\n",
            "\u001b[1m50/50\u001b[0m \u001b[32m━━━━━━━━━━━━━━━━━━━━\u001b[0m\u001b[37m\u001b[0m \u001b[1m0s\u001b[0m 3ms/step - accuracy: 0.9276 - loss: 0.1860 - val_accuracy: 0.9018 - val_loss: 0.2257\n",
            "Epoch 22/50\n",
            "\u001b[1m50/50\u001b[0m \u001b[32m━━━━━━━━━━━━━━━━━━━━\u001b[0m\u001b[37m\u001b[0m \u001b[1m0s\u001b[0m 3ms/step - accuracy: 0.9088 - loss: 0.2027 - val_accuracy: 0.8992 - val_loss: 0.2288\n",
            "Epoch 23/50\n",
            "\u001b[1m50/50\u001b[0m \u001b[32m━━━━━━━━━━━━━━━━━━━━\u001b[0m\u001b[37m\u001b[0m \u001b[1m0s\u001b[0m 3ms/step - accuracy: 0.9330 - loss: 0.1639 - val_accuracy: 0.9118 - val_loss: 0.2258\n",
            "Epoch 24/50\n",
            "\u001b[1m50/50\u001b[0m \u001b[32m━━━━━━━━━━━━━━━━━━━━\u001b[0m\u001b[37m\u001b[0m \u001b[1m0s\u001b[0m 3ms/step - accuracy: 0.9044 - loss: 0.2099 - val_accuracy: 0.9018 - val_loss: 0.2378\n",
            "Epoch 25/50\n",
            "\u001b[1m50/50\u001b[0m \u001b[32m━━━━━━━━━━━━━━━━━━━━\u001b[0m\u001b[37m\u001b[0m \u001b[1m0s\u001b[0m 3ms/step - accuracy: 0.9243 - loss: 0.1808 - val_accuracy: 0.8892 - val_loss: 0.2396\n",
            "Epoch 26/50\n",
            "\u001b[1m50/50\u001b[0m \u001b[32m━━━━━━━━━━━━━━━━━━━━\u001b[0m\u001b[37m\u001b[0m \u001b[1m0s\u001b[0m 3ms/step - accuracy: 0.9246 - loss: 0.1856 - val_accuracy: 0.9068 - val_loss: 0.2326\n",
            "Epoch 27/50\n",
            "\u001b[1m50/50\u001b[0m \u001b[32m━━━━━━━━━━━━━━━━━━━━\u001b[0m\u001b[37m\u001b[0m \u001b[1m0s\u001b[0m 2ms/step - accuracy: 0.9149 - loss: 0.1765 - val_accuracy: 0.8942 - val_loss: 0.2332\n",
            "Epoch 28/50\n",
            "\u001b[1m50/50\u001b[0m \u001b[32m━━━━━━━━━━━━━━━━━━━━\u001b[0m\u001b[37m\u001b[0m \u001b[1m0s\u001b[0m 3ms/step - accuracy: 0.9121 - loss: 0.1924 - val_accuracy: 0.9169 - val_loss: 0.2266\n",
            "Epoch 29/50\n",
            "\u001b[1m50/50\u001b[0m \u001b[32m━━━━━━━━━━━━━━━━━━━━\u001b[0m\u001b[37m\u001b[0m \u001b[1m0s\u001b[0m 3ms/step - accuracy: 0.9376 - loss: 0.1525 - val_accuracy: 0.9043 - val_loss: 0.2334\n",
            "Epoch 30/50\n",
            "\u001b[1m50/50\u001b[0m \u001b[32m━━━━━━━━━━━━━━━━━━━━\u001b[0m\u001b[37m\u001b[0m \u001b[1m0s\u001b[0m 3ms/step - accuracy: 0.9126 - loss: 0.1940 - val_accuracy: 0.9068 - val_loss: 0.2246\n",
            "Epoch 31/50\n",
            "\u001b[1m50/50\u001b[0m \u001b[32m━━━━━━━━━━━━━━━━━━━━\u001b[0m\u001b[37m\u001b[0m \u001b[1m0s\u001b[0m 2ms/step - accuracy: 0.9344 - loss: 0.1715 - val_accuracy: 0.9043 - val_loss: 0.2366\n",
            "Epoch 32/50\n",
            "\u001b[1m50/50\u001b[0m \u001b[32m━━━━━━━━━━━━━━━━━━━━\u001b[0m\u001b[37m\u001b[0m \u001b[1m0s\u001b[0m 3ms/step - accuracy: 0.9436 - loss: 0.1476 - val_accuracy: 0.9043 - val_loss: 0.2278\n",
            "Epoch 33/50\n",
            "\u001b[1m50/50\u001b[0m \u001b[32m━━━━━━━━━━━━━━━━━━━━\u001b[0m\u001b[37m\u001b[0m \u001b[1m0s\u001b[0m 3ms/step - accuracy: 0.9205 - loss: 0.1653 - val_accuracy: 0.9018 - val_loss: 0.2389\n",
            "Epoch 34/50\n",
            "\u001b[1m50/50\u001b[0m \u001b[32m━━━━━━━━━━━━━━━━━━━━\u001b[0m\u001b[37m\u001b[0m \u001b[1m0s\u001b[0m 3ms/step - accuracy: 0.9386 - loss: 0.1528 - val_accuracy: 0.9093 - val_loss: 0.2257\n",
            "Epoch 35/50\n",
            "\u001b[1m50/50\u001b[0m \u001b[32m━━━━━━━━━━━━━━━━━━━━\u001b[0m\u001b[37m\u001b[0m \u001b[1m0s\u001b[0m 2ms/step - accuracy: 0.9389 - loss: 0.1463 - val_accuracy: 0.9043 - val_loss: 0.2317\n",
            "Epoch 36/50\n",
            "\u001b[1m50/50\u001b[0m \u001b[32m━━━━━━━━━━━━━━━━━━━━\u001b[0m\u001b[37m\u001b[0m \u001b[1m0s\u001b[0m 2ms/step - accuracy: 0.9153 - loss: 0.1751 - val_accuracy: 0.8866 - val_loss: 0.2257\n",
            "Epoch 37/50\n",
            "\u001b[1m50/50\u001b[0m \u001b[32m━━━━━━━━━━━━━━━━━━━━\u001b[0m\u001b[37m\u001b[0m \u001b[1m0s\u001b[0m 3ms/step - accuracy: 0.9191 - loss: 0.1722 - val_accuracy: 0.8942 - val_loss: 0.2262\n",
            "Epoch 38/50\n",
            "\u001b[1m50/50\u001b[0m \u001b[32m━━━━━━━━━━━━━━━━━━━━\u001b[0m\u001b[37m\u001b[0m \u001b[1m0s\u001b[0m 3ms/step - accuracy: 0.9299 - loss: 0.1644 - val_accuracy: 0.8992 - val_loss: 0.2280\n",
            "Epoch 39/50\n",
            "\u001b[1m50/50\u001b[0m \u001b[32m━━━━━━━━━━━━━━━━━━━━\u001b[0m\u001b[37m\u001b[0m \u001b[1m0s\u001b[0m 3ms/step - accuracy: 0.9495 - loss: 0.1338 - val_accuracy: 0.8992 - val_loss: 0.2377\n",
            "Epoch 40/50\n",
            "\u001b[1m50/50\u001b[0m \u001b[32m━━━━━━━━━━━━━━━━━━━━\u001b[0m\u001b[37m\u001b[0m \u001b[1m0s\u001b[0m 4ms/step - accuracy: 0.9180 - loss: 0.1635 - val_accuracy: 0.8992 - val_loss: 0.2278\n",
            "Epoch 41/50\n",
            "\u001b[1m50/50\u001b[0m \u001b[32m━━━━━━━━━━━━━━━━━━━━\u001b[0m\u001b[37m\u001b[0m \u001b[1m0s\u001b[0m 4ms/step - accuracy: 0.9342 - loss: 0.1476 - val_accuracy: 0.9043 - val_loss: 0.2293\n",
            "Epoch 42/50\n",
            "\u001b[1m50/50\u001b[0m \u001b[32m━━━━━━━━━━━━━━━━━━━━\u001b[0m\u001b[37m\u001b[0m \u001b[1m0s\u001b[0m 4ms/step - accuracy: 0.9289 - loss: 0.1527 - val_accuracy: 0.9068 - val_loss: 0.2211\n",
            "Epoch 43/50\n",
            "\u001b[1m50/50\u001b[0m \u001b[32m━━━━━━━━━━━━━━━━━━━━\u001b[0m\u001b[37m\u001b[0m \u001b[1m0s\u001b[0m 5ms/step - accuracy: 0.9429 - loss: 0.1279 - val_accuracy: 0.9118 - val_loss: 0.2161\n",
            "Epoch 44/50\n",
            "\u001b[1m50/50\u001b[0m \u001b[32m━━━━━━━━━━━━━━━━━━━━\u001b[0m\u001b[37m\u001b[0m \u001b[1m0s\u001b[0m 4ms/step - accuracy: 0.9513 - loss: 0.1312 - val_accuracy: 0.9018 - val_loss: 0.2252\n",
            "Epoch 45/50\n",
            "\u001b[1m50/50\u001b[0m \u001b[32m━━━━━━━━━━━━━━━━━━━━\u001b[0m\u001b[37m\u001b[0m \u001b[1m0s\u001b[0m 3ms/step - accuracy: 0.9340 - loss: 0.1451 - val_accuracy: 0.9043 - val_loss: 0.2318\n",
            "Epoch 46/50\n",
            "\u001b[1m50/50\u001b[0m \u001b[32m━━━━━━━━━━━━━━━━━━━━\u001b[0m\u001b[37m\u001b[0m \u001b[1m0s\u001b[0m 3ms/step - accuracy: 0.9363 - loss: 0.1395 - val_accuracy: 0.9093 - val_loss: 0.2322\n",
            "Epoch 47/50\n",
            "\u001b[1m50/50\u001b[0m \u001b[32m━━━━━━━━━━━━━━━━━━━━\u001b[0m\u001b[37m\u001b[0m \u001b[1m0s\u001b[0m 3ms/step - accuracy: 0.9427 - loss: 0.1355 - val_accuracy: 0.8942 - val_loss: 0.2292\n",
            "Epoch 48/50\n",
            "\u001b[1m50/50\u001b[0m \u001b[32m━━━━━━━━━━━━━━━━━━━━\u001b[0m\u001b[37m\u001b[0m \u001b[1m0s\u001b[0m 3ms/step - accuracy: 0.9331 - loss: 0.1428 - val_accuracy: 0.8967 - val_loss: 0.2261\n",
            "Epoch 49/50\n",
            "\u001b[1m50/50\u001b[0m \u001b[32m━━━━━━━━━━━━━━━━━━━━\u001b[0m\u001b[37m\u001b[0m \u001b[1m0s\u001b[0m 2ms/step - accuracy: 0.9564 - loss: 0.1150 - val_accuracy: 0.8967 - val_loss: 0.2257\n",
            "Epoch 50/50\n",
            "\u001b[1m50/50\u001b[0m \u001b[32m━━━━━━━━━━━━━━━━━━━━\u001b[0m\u001b[37m\u001b[0m \u001b[1m0s\u001b[0m 3ms/step - accuracy: 0.9437 - loss: 0.1355 - val_accuracy: 0.8967 - val_loss: 0.2357\n",
            "train_accuracy: 0.9440\n",
            "Test Accuracy: 0.8967\n",
            "val_accuracy: 0.8967\n"
          ]
        }
      ],
      "source": [
        "from tensorflow.keras.models import Sequential\n",
        "from tensorflow.keras.layers import Dense, Dropout\n",
        "\n",
        "model = Sequential([\n",
        "    Dense(150, activation='relu', input_shape=(x_train.shape[1],)),\n",
        "    Dropout(0.3),\n",
        "    Dense(70, activation='relu'),\n",
        "    Dropout(0.3),\n",
        "    Dense(30, activation='relu'),\n",
        "    Dense(1, activation='sigmoid')\n",
        "])\n",
        "\n",
        "model.compile(optimizer='adam', loss='binary_crossentropy', metrics=['accuracy'])\n",
        "\n",
        "history = model.fit(x_train, y_train, validation_data=(x_test, y_test), epochs=50, batch_size=32)\n",
        "\n",
        "loss, acc = model.evaluate(x_test, y_test, verbose=0)\n",
        "print(f\"train_accuracy: {history.history['accuracy'][-1]:.4f}\")\n",
        "print(f\"Test Accuracy: {acc:.4f}\")\n",
        "print(f\"val_accuracy: {history.history['val_accuracy'][-1]:.4f}\")\n"
      ]
    },
    {
      "cell_type": "code",
      "source": [],
      "metadata": {
        "id": "7AIL7MO-cDFc"
      },
      "execution_count": null,
      "outputs": []
    }
  ],
  "metadata": {
    "colab": {
      "provenance": []
    },
    "kernelspec": {
      "display_name": "Python 3",
      "name": "python3"
    },
    "language_info": {
      "codemirror_mode": {
        "name": "ipython",
        "version": 3
      },
      "file_extension": ".py",
      "mimetype": "text/x-python",
      "name": "python",
      "nbconvert_exporter": "python",
      "pygments_lexer": "ipython3",
      "version": "3.13.7"
    }
  },
  "nbformat": 4,
  "nbformat_minor": 0
}